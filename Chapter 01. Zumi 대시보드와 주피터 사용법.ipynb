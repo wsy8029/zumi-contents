{
 "cells": [
  {
   "cell_type": "markdown",
   "metadata": {},
   "source": [
    "<img src=\"image/Title.png\" width=1000>"
   ]
  },
  {
   "cell_type": "markdown",
   "metadata": {},
   "source": [
    "## Zumi 대시보드(Dashboard)란?\n",
    "자동차에서 대시보드는 차량 운전자의 바로 앞에, 차량의 운전 정보 및 제어 현황을 표시하는 계기판을 말합니다. Zumi에게도 대시보드가 있습니다. Zumi의 대시보드는 Zumi를 동작시키고 제어하며 여러 정보들을 관리하는 인터페이스를 가리킵니다. 이제 Zumi의 대시보드에 무엇이 있는지 살펴봅시다.\n"
   ]
  },
  {
   "cell_type": "markdown",
   "metadata": {},
   "source": [
    "## Zumi 시작 화면 살펴보기\n",
    "Zumi에 있는 예제 프로그램 화면이 나타납니다. Zumi의 이름과 배터리 잔량 등을 확인할 수 있습니다.\n",
    "\n",
    "<br>\n",
    "\n",
    "<img src=\"image/ch1/dash1.png\">\n",
    "\n"
   ]
  },
  {
   "cell_type": "markdown",
   "metadata": {},
   "source": [
    "Zumi 시작 화면에는 Zumi를 동작시키기 위한 4가지 모드가 있습니다. 여러분이 보고 있는 [Lesson01. Zumi 대시보드와 주피터 사용법]은 바로 Learn모드에 있습니다.\n",
    "<br>\n",
    "\n",
    "<img src=\"image/ch1/dash2.png\">"
   ]
  },
  {
   "cell_type": "markdown",
   "metadata": {},
   "source": [
    "## Zumi 설정 화면 살펴보기\n",
    "Zumi 시작 화면에서 톱니 모양의 아이콘을 클릭하면, 설정 화면이 나타납니다. Zumi의 버전과 컨텐츠의 버전 등 Zumi에 관련된 정보를 확인할 수 있으며 몇 가지 설정들을 변경할 수 있습니다.\n",
    "<br>\n",
    "\n",
    "<img src=\"image/ch1/dash3.png\">\n",
    "\n"
   ]
  },
  {
   "cell_type": "markdown",
   "metadata": {},
   "source": [
    "-----------------------------------------\n",
    "\n",
    "## 주피터 노트북(Jupyter Notebook)이란?\n",
    "`주피터 노트북(Jupyter Notebook)`은 코드를 작성하고 실행할 수 있는 환경입니다. 또한 코드를 설명하기 위한 설명 텍스트(여러분들이 지금 읽고 있는 부분입니다.)를 포함할 수도 있습니다. 많은 연구자들은 이를 이용하여 직접 실행하고 테스트할 수 있는 코드 예시가 포함된 보고서를 작성합니다. 다음 챕터에서 여러분은 Python 프로그래밍 언어를 사용할 것입니다. 참고로, 주피터 노트북은 40개 이상의 프로그래밍 언어를 지원합니다. \n",
    "<img src=\"image/ch1/Jupyter.png\" width = 500>"
   ]
  },
  {
   "cell_type": "markdown",
   "metadata": {},
   "source": [
    "## 주피터 노트북 열기\n",
    "주피터 노트북을 처음 열면, 아래와 유사한 화면을 볼 수 있습니다. 아래의 화면은 여러분에게 현재 모든 노트북(예제 프로그램 파일)의 목록을 보여줍니다. 노트북을 열기 위해서, 여러분이 열고 싶은 노트북 이름을 클릭해 보세요. 노트북 아이콘의 색상은 노트북의 상태을 나타냅니다.\n",
    "\n",
    "<br>\n",
    "\n",
    "<img src = \"image/ch1/open.png\" width = 700>"
   ]
  },
  {
   "cell_type": "markdown",
   "metadata": {},
   "source": [
    "## 주피터 노트북 실행\n",
    "여러분은 주피터 노트북으로 Zumi에 대한 코드를 작성합니다. 노트북을 열 때, 여러분은 이미 텍스트와 코드로 채워진 셀이 보일 것입니다. 노트북을 배우기 위해서는, 코드를 실행하고, 코드를 중지하고, 변경한 내용을 저장하는 법을 알아야 합니다! 앞으로 여러분이 사용할 가장 중요한 툴은 아래에서 강조하여 표시하였습니다.\n",
    "\n",
    "<br>\n",
    "\n",
    "<img src = \"image/ch1/run.png\" width = 500>"
   ]
  },
  {
   "cell_type": "markdown",
   "metadata": {},
   "source": [
    "## 셀(Cell)\n",
    "일반적인 주피터 노트북은 여러 셀들로 나눠져 있습니다. 몇몇 셀들은 현재 읽고 있는 글과 같은 텍스트가 있으며, 일부 셀은 코드를 실행할 수 있습니다. \n",
    "\n",
    "<img src=\"image/ch1/cell.png\" width = 600>\n",
    "\n",
    "## 실행코드\n",
    "아래의 셀은 코드 셀의 예시입니다. 코드를 실행하기 위해 셀을 선택하면 이는 파란색 또는 초록색으로 강조되어 표시됩니다. 파란색은 셀이 선택된 상태이고 초록색은 셀의 내용을 편집할 수 있는 상태입니다. 두 상태 모두 툴바 내의 \"Run\"을 클릭하거나 `Shift` + `Enter`를 눌러 실행을 시킬 수 있습니다.(만약, 코드를 실행한 후 다음 셀이 선택되지 않게 하려면 `Ctrl` + `Enter`를 누르세요.) \n",
    "\n",
    "<img src=\"image/ch1/cell tot.png\" width = 600>"
   ]
  },
  {
   "cell_type": "code",
   "execution_count": null,
   "metadata": {},
   "outputs": [],
   "source": [
    "print(\"This is a code cell\")"
   ]
  },
  {
   "cell_type": "markdown",
   "metadata": {},
   "source": [
    "셀을 실행하면, 코드의 출력이 셀 하단에 표시됩니다. 셀 옆의 숫자도 In[ ]에서 In[1]로 변경됩니다. 해당 숫자는 셀이 실행되고 해당 프로세스를 완료한 순서를 나타냅니다. 위의 코드를 다시 실행해 보십시오. In[1]은 In[2]로 바뀔 것입니다. 만약 In[  ] 표시가 셀 옆에서 나타나지 않는다면, 해당 셀은 코드를 실행할 수 없는 것입니다. 예를 들어, 아래 셀을 실행해 보십시오."
   ]
  },
  {
   "cell_type": "markdown",
   "metadata": {},
   "source": [
    "print(\"This is a code cell\")"
   ]
  },
  {
   "cell_type": "markdown",
   "metadata": {},
   "source": [
    "\n",
    "해당 셀의 서식이 텍스트로 되어있습니다. 이러한 셀은 `마크다운(Markdown)` 셀이라고 합니다. 때로는 실수로 인해 여러분은 셀을 다른 유형으로 전환 시켜버릴 수 있습니다. 이런 경우, 툴바 내의 `Cell > Cell Type` 셀의 유형을 전환하도록 합니다. 위의 셀을 마크다운에서 코드로 변경해 보십시오.(단축키는 `Y` 입니다.)\n",
    "\n",
    "<img src=\"image/ch1/celltype1.png\" width = 700>"
   ]
  },
  {
   "cell_type": "markdown",
   "metadata": {},
   "source": [
    "또는 아래와 같은 방법으로 변경할 수 있습니다.\n",
    "\n",
    "<img src = \"image/ch1/celltype2.png\" width = 700>"
   ]
  },
  {
   "cell_type": "markdown",
   "metadata": {},
   "source": [
    "## 코드를 정지 시키기\n",
    "때때로 여러분은 현재 실행 중인 코드를 중지해야만 합니다. 예를 들어, 무한반복하는 코드가 있고 무한반복에서 벗어나려고 합니다! 툴바 내의 \"Run\" 버튼 옆에 검은색 사각형 아이콘이 있습니다. 이 버튼은 정지 버튼이며 실행 중인 셀을 종료시킵니다. 아래 셀(무한반복하는 코드)을 실행하고 해당 코드를 중지하도록 합니다.\n",
    "\n",
    "<img src=\"image/ch1/pause.png\" width = 500>"
   ]
  },
  {
   "cell_type": "code",
   "execution_count": null,
   "metadata": {},
   "outputs": [],
   "source": [
    "count = 0\n",
    "while True:\n",
    "    print(count)\n",
    "    count += 1"
   ]
  },
  {
   "cell_type": "markdown",
   "metadata": {},
   "source": [
    "셀이 실행되는 동안 셀 옆에 별표가 생긴 것을 알아챘나요? In[*] 별표가 있는 셀은 실행 중이라는 것을 말합니다."
   ]
  },
  {
   "cell_type": "markdown",
   "metadata": {},
   "source": [
    "## 셀 추가하기\n",
    "만약 여러분이 새로운 셀을 만들고 싶다면, 툴바 내의 `Insert`를 선택하세요. 해당 메뉴 내에서 'Insert Cell Above(현재 셀 위에 추가하기)' 혹은 'Insert Cell Below(현재 셀 아래에 추가하기)' 옵션들을 선택할 수 있습니다.\n",
    "\n",
    "<img src='image/ch1/insert.png' width = 700>"
   ]
  },
  {
   "cell_type": "markdown",
   "metadata": {},
   "source": [
    "## 셀 지우기\n",
    "툴바 내의 `Edit` 메뉴에서, 여러분은 'Delete Cells(셀 삭제)'와 같이 많은 옵션을 확인할 수 있습니다. \"Delete Cells\"은 현재 선택된 모든 셀을 삭제시킵니다.\n",
    "\n",
    "<img src=\"image/ch1/delete.png\" width = 600>\n"
   ]
  },
  {
   "cell_type": "markdown",
   "metadata": {},
   "source": [
    "## 노트북 재시작\n",
    "\n",
    "셀 내의 모든 출력을 지우고 여러분이 만든 코드를 다시 시작하고 싶은 경우가 있을 수 있습니다. 툴바 내에 `Kernel`이라는 메뉴가 있으며, 해당 메뉴 내에는 `Restart & Clear Output`이라는 옵션이 보일 것입니다. 여러분이 해당 옵션을 선택하면, 모든 출력은 지워지고 셀은 다시 실행할 준비가 될 것입니다! 이 동작은 `In[ ]`의 대괄호가 비어진 것으로 확인 가능합니다.\n",
    "\n",
    "<img src='image/ch1/restart.png' width = 600>\n",
    "\n",
    "## 주피터 노트북 종료\n",
    "만약 여러분이 탭을 닫더라도, Zumi를 종료하기 전까지는 노트북이 열려져 있을 것입니다. 한 번에 한 개의 노트북만 실행하기를 강력히 추천합니다. 노트북을 종료하려면, 노트북을 선택하고 주황색 \"Shutdown\" 버튼을 클릭합니다. 이때 실수로 지워버리지 않도록 주의 하십시오!\n",
    "\n",
    "<img src='image/ch1/shutdown.png' width = 700>"
   ]
  }
 ],
 "metadata": {
  "kernelspec": {
   "display_name": "Python 3",
   "language": "python",
   "name": "python3"
  },
  "language_info": {
   "codemirror_mode": {
    "name": "ipython",
    "version": 3
   },
   "file_extension": ".py",
   "mimetype": "text/x-python",
   "name": "python",
   "nbconvert_exporter": "python",
   "pygments_lexer": "ipython3",
   "version": "3.7.6"
  }
 },
 "nbformat": 4,
 "nbformat_minor": 2
}
