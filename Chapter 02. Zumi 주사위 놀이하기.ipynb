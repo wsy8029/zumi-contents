{
 "cells": [
  {
   "cell_type": "markdown",
   "metadata": {},
   "source": [
    "<img src=\"image/Title.png\" width=1000>"
   ]
  },
  {
   "cell_type": "markdown",
   "metadata": {},
   "source": [
    "# Zumi 주사위 놀이하기\n",
    "\n",
    "Zumi는 스크린을 갖고 있습니다. 이 챕터에서는 Zumi가 스크린에 글자 혹은 숫자, 그리고 표정을 프로그래밍 하는 방법을 배우게 됩니다. 마지막으로 Zumi를 주사위처럼 사용하여 보드게임을 할 수 있도록 코딩해 봅니다.   "
   ]
  },
  {
   "cell_type": "markdown",
   "metadata": {},
   "source": [
    "## Step 1: 라이브러리 가져오기\n",
    "우리가 Zumi를 사용하기 위해 가장 먼저 해야할 일은 Zumi의 하드웨어를 사용할 수 있게 해주는 Zumi 모듈(또는 라이브러리)을 임포트(import)하는 것입니다. Zumi 모듈은 Zumi의 하드웨어를 다룰 수 있는 많은 기능을 포함한 모듈입니다. 모듈 안에는 Zumi의 기울어지는 각도를 측정한다든지, 적외선 센서의 값을 확인하거나, LED와 버저를 다루는 영역에서 카메라 영상을 다루고 OLED 스크린에 출력하기까지의 구현할 수 있는 기능을 포함하고 있습니다. \n",
    "\n",
    "python은 비슷한 기능을 모아서 모듈로 만들고 그 모듈을 사용자들이 임포트(import)라는 과정을 거쳐서 사용할 수 있게 하고 있습니다. 그래서 우리는 Zumi를 사용하기 위해서는 일단 Zumi 모듈을 임포트 해야 합니다. <strong>만약 이 셀을 실행하지 않으면, 이후의 프로그램은 작동하지 않습니다.</strong>"
   ]
  },
  {
   "cell_type": "code",
   "execution_count": null,
   "metadata": {},
   "outputs": [],
   "source": [
    "from zumi.zumi import Zumi\n",
    "from zumi.util.screen import Screen\n",
    "import time\n",
    "\n",
    "zumi = Zumi()\n",
    "screen = Screen()"
   ]
  },
  {
   "cell_type": "markdown",
   "metadata": {},
   "source": [
    "## Zumi의 스크린은 어떻게 구성되었나요?\n",
    "Zumi의 스크린은 OLED(유기 LED)로 구성되어 있습니다. OLED 화면의 너비는 128 픽셀, 높이는 64 픽셀로 되어 있습니다.\n",
    "<img src=\"image/ch2/screen.png\" width=500>"
   ]
  },
  {
   "cell_type": "markdown",
   "metadata": {},
   "source": [
    "## Step2 : Zumi 스크린에 문자 출력하기"
   ]
  },
  {
   "cell_type": "markdown",
   "metadata": {},
   "source": [
    "Zumi의 스크린을 사용하려면 `screen.draw_text()` 라는 명령어를 사용해야 합니다.\n",
    "\n",
    "___\n",
    "* screen.draw_text(string = \"Hello~ Zumi\", x = 1, y = 1, font_size = 16 )\n",
    "\n",
    "```\n",
    "* string : Zumi가 스크린에 표시할 문자열\n",
    "* x_position : 스크린의 x좌표 (기본값 : 1)\n",
    "* y_position : 스크린의 y좌표 (기본값 : 1)\n",
    "* font_size : 글자 크기(기본값 : 16)\n",
    "```\n",
    "---\n",
    "\n",
    "#### Zumi 스크린 좌표계\n",
    "\n",
    "* 스크린 오른쪽으로 갈수록 x좌표 값이 증가합니다.\n",
    "* 스크린 왼쪽으로 갈수록 x좌표 값이 감소합니다.\n",
    "* 스크린 아래쪽으로 갈수록 y좌표 값이 증가합니다.\n",
    "* 스크린 위쪽으로 갈수록 y좌표 값이 감소합니다.\n",
    "\n",
    "<img src='image/ch2/exam1.jpg' align = 'left'>"
   ]
  },
  {
   "cell_type": "markdown",
   "metadata": {},
   "source": [
    "아래 셀에는 `screen.draw_text()` 를 사용한 예가 있습니다. Zumi의 스크린에 Hello~ Zumi 라는 글자가 나타날 것이므로 Zumi의 스크린을 확인하세요!"
   ]
  },
  {
   "cell_type": "markdown",
   "metadata": {},
   "source": [
    "#### Zumi 스크린에 문자 출력하기"
   ]
  },
  {
   "cell_type": "code",
   "execution_count": null,
   "metadata": {},
   "outputs": [],
   "source": [
    "screen.draw_text(\"Hello~ Zumi\")"
   ]
  },
  {
   "cell_type": "markdown",
   "metadata": {},
   "source": [
    "<img src=\"image/icon.png\" align='left'> <b> Zumi 스크린에 자신의 이름을 영어로 출력해 보세요.</b>"
   ]
  },
  {
   "cell_type": "code",
   "execution_count": null,
   "metadata": {},
   "outputs": [],
   "source": [
    "#여기에 코딩해 보세요."
   ]
  },
  {
   "cell_type": "markdown",
   "metadata": {},
   "source": [
    "#### x 좌표 40, y 좌표 40에 문자 출력하기"
   ]
  },
  {
   "cell_type": "code",
   "execution_count": null,
   "metadata": {
    "scrolled": true
   },
   "outputs": [],
   "source": [
    "screen.draw_text(\"Happy\", 40, 40)"
   ]
  },
  {
   "cell_type": "markdown",
   "metadata": {},
   "source": [
    "<img src=\"image/icon.png\" align='left'> <b>원하는 좌표에 문자를 출력해 보세요.</b>"
   ]
  },
  {
   "cell_type": "code",
   "execution_count": null,
   "metadata": {},
   "outputs": [],
   "source": [
    "#여기에 코딩해 보세요."
   ]
  },
  {
   "cell_type": "markdown",
   "metadata": {},
   "source": [
    "#### 문자 크기 바꾸기"
   ]
  },
  {
   "cell_type": "code",
   "execution_count": null,
   "metadata": {},
   "outputs": [],
   "source": [
    "screen.draw_text(\"Wow\", 20, 20, font_size = 30)"
   ]
  },
  {
   "cell_type": "markdown",
   "metadata": {},
   "source": [
    "<img src=\"image/icon.png\" align='left'> <b> 원하는 문자 크기로 출력해 보세요.</b>"
   ]
  },
  {
   "cell_type": "code",
   "execution_count": null,
   "metadata": {},
   "outputs": [],
   "source": [
    "#여기에 코딩해 보세요."
   ]
  },
  {
   "cell_type": "markdown",
   "metadata": {},
   "source": [
    "#### 숫자 출력하기\n",
    "숫자를 Zumi 스크린에 출력하려면 `str()` 명령어 괄호 안에 숫자를 넣어서 입력해야 합니다."
   ]
  },
  {
   "cell_type": "code",
   "execution_count": null,
   "metadata": {},
   "outputs": [],
   "source": [
    "screen.draw_text(str(10))"
   ]
  },
  {
   "cell_type": "markdown",
   "metadata": {},
   "source": [
    "#### 숫자가 있는 텍스트를 쓰려면 문자열 데이터 유형으로 바꾸어야 합니다."
   ]
  },
  {
   "cell_type": "code",
   "execution_count": null,
   "metadata": {},
   "outputs": [],
   "source": [
    "number = 10\n",
    "screen.draw_text(\"ten \" + str(number)) # the str() functions turns the number into a string"
   ]
  },
  {
   "cell_type": "markdown",
   "metadata": {},
   "source": [
    "#### Zumi 스크린에 시간 표시하기"
   ]
  },
  {
   "cell_type": "code",
   "execution_count": null,
   "metadata": {},
   "outputs": [],
   "source": [
    "KST = 60 * 60 * 9 # 한국 표준시\n",
    "CST = 60 * 60 * 8 # 중국 표준시\n",
    "\n",
    "for i in range(0,50):\n",
    "    nowTime = time.time() + KST # KST를 CST로 변경하면 중국 시각으로 변환합니다.\n",
    "    screen.draw_text(time.ctime(nowTime))\n",
    "    time.sleep(0.1)"
   ]
  },
  {
   "cell_type": "markdown",
   "metadata": {},
   "source": [
    "<br>\n",
    "\n",
    "## Step3 : Zumi 스크린 가운데에 문자 출력하기\n",
    "\n",
    "문자의 길이와 크기 상관없이 자동으로 스크린 가운데에 문자를 출력하고 싶으면 `screen.draw_text_center()` 명령어를 사용합니다. 아래 셀에는 `screen.draw_text_center()` 함수를 사용한 예가 있습니다. Zumi의 스크린 가운데에 \"Good\"이라는 문자가 출력되는지 확인해 보세요!\n",
    "___\n",
    "* screen.draw_text_center(string = \"Good\", font_size = 16 )\n",
    "\n",
    "```\n",
    "* string: Zumi가 스크린에 표시할 문자열\n",
    "* font_size : 글자 크기(기본값 : 16)\n",
    "```\n",
    "---"
   ]
  },
  {
   "cell_type": "markdown",
   "metadata": {},
   "source": [
    "#### Zumi 스크린 가운데에 \"Good\" 출력하기"
   ]
  },
  {
   "cell_type": "code",
   "execution_count": null,
   "metadata": {},
   "outputs": [],
   "source": [
    "screen.draw_text_center(\"Good\")"
   ]
  },
  {
   "cell_type": "markdown",
   "metadata": {},
   "source": [
    "<img src=\"image/icon.png\" align='left'> <b> Zumi 스크린 가운데에 원하는 문자를 출력해 보세요.</b>"
   ]
  },
  {
   "cell_type": "code",
   "execution_count": null,
   "metadata": {},
   "outputs": [],
   "source": [
    "#여기에 코딩해 보세요."
   ]
  },
  {
   "cell_type": "markdown",
   "metadata": {},
   "source": [
    "#### Zumi 스크린 가운데에 문자 크기가 30인 \"Good\" 출력하기"
   ]
  },
  {
   "cell_type": "code",
   "execution_count": null,
   "metadata": {},
   "outputs": [],
   "source": [
    "screen.draw_text_center(\"Good\", font_size = 30)"
   ]
  },
  {
   "cell_type": "markdown",
   "metadata": {},
   "source": [
    "<img src=\"image/icon.png\" align='left'> <b> Zumi 스크린 가운데에 원하는 문자 크기로 출력해 보세요."
   ]
  },
  {
   "cell_type": "code",
   "execution_count": null,
   "metadata": {},
   "outputs": [],
   "source": [
    "#여기에 코딩해 보세요."
   ]
  },
  {
   "cell_type": "markdown",
   "metadata": {},
   "source": [
    " "
   ]
  },
  {
   "cell_type": "markdown",
   "metadata": {},
   "source": [
    "## Step4 : Zumi 표정 출력하기\n",
    "\n",
    "Zumi의 표정을 OLED 스크린을 사용하여 표시합니다. Zumi는 다양한 \"눈\" 이미지를 이용하여 표정을 나타냅니다.\n",
    "```\n",
    "* screen.close_eyes()\n",
    "* screen.sleepy_eyes()\n",
    "* screen.sleepy_left()\n",
    "* screen.sleepy_right()\n",
    "* screen.blink()\n",
    "* screen.look_around_open()\n",
    "* screen.sleeping()\n",
    "* screen.look_around()       \n",
    "* screen.glimmer()\n",
    "* screen.sad()\n",
    "* screen.happy()\n",
    "* screen.hello()\n",
    "* screen.angry()\n",
    "```\n",
    "    \n",
    "<img src=\"image/ch2/screen.jpg\" width=350>\n",
    "<br></br>\n",
    "<br></br>\n",
    "Zumi의 다양한 표정을 확인해 보세요!     "
   ]
  },
  {
   "cell_type": "markdown",
   "metadata": {},
   "source": [
    "#### Zumi의 행복한 표정을 출력하기"
   ]
  },
  {
   "cell_type": "code",
   "execution_count": null,
   "metadata": {},
   "outputs": [],
   "source": [
    "screen.happy()"
   ]
  },
  {
   "cell_type": "markdown",
   "metadata": {},
   "source": [
    "#### Zumi의 슬픈 표정을 출력하기"
   ]
  },
  {
   "cell_type": "code",
   "execution_count": null,
   "metadata": {},
   "outputs": [],
   "source": [
    "screen.sad()"
   ]
  },
  {
   "cell_type": "markdown",
   "metadata": {},
   "source": [
    "#### Zumi의 화난 표정을 출력하기"
   ]
  },
  {
   "cell_type": "code",
   "execution_count": null,
   "metadata": {},
   "outputs": [],
   "source": [
    "screen.angry()"
   ]
  },
  {
   "cell_type": "markdown",
   "metadata": {},
   "source": [
    "<img src=\"image/icon.png\" align='left'> <b> 여러분이 원하는 표정을 출력해 보세요.</b>"
   ]
  },
  {
   "cell_type": "code",
   "execution_count": null,
   "metadata": {},
   "outputs": [],
   "source": [
    "#여기에 코딩해 보세요."
   ]
  },
  {
   "cell_type": "markdown",
   "metadata": {},
   "source": [
    "## 주사위와 보드게임\n",
    "\n",
    "주사위는 놀이 도구의 하나로서, 무작위로 선택된(예측할 수 없는) 결과를 얻고자 할 때 사용되는 장난감입니다. 정육면체로 각 면에는 1~6까지의 점이 있습니다. 여기에서는 Zumi를 주사위로 사용해 봅니다. 난수를 만드는 함수를 사용하여 Zumi의 스크린에 1~6까지의 숫자를 출력하고 Zumi를 주사위로 만듭니다.\n",
    "<img src=\"image/ch2/dice.png\" width=350>"
   ]
  },
  {
   "cell_type": "markdown",
   "metadata": {},
   "source": [
    "## Step5 : Zumi 주사위 사용하기"
   ]
  },
  {
   "cell_type": "markdown",
   "metadata": {},
   "source": [
    "#### 라이브러리 가져오기\n",
    "Zumi 주사위 기능을 가져오기 위해 라이브러리를 가져 옵니다. <b>만약 이 셀을 실행하지 않으면, 이후의 프로그램은 작동하지 않습니다."
   ]
  },
  {
   "cell_type": "code",
   "execution_count": null,
   "metadata": {},
   "outputs": [],
   "source": [
    "from module.ShakeDice import shaking_dice"
   ]
  },
  {
   "cell_type": "markdown",
   "metadata": {},
   "source": [
    "Zumi 주사위 명령어는 아래와 같습니다.\n",
    "___\n",
    "\n",
    "* shaking_dice(sensitivity = 1, range = 6 )\n",
    "\n",
    "```\n",
    "* sensitivity : Zumi의 움직임에 반응하는 정도(기본값 : 20, 범위 : 1-120)\n",
    "* range : 주사위 눈의 범위(기본값 : 6, 범위 : 1-1000)\n",
    "```\n",
    "---"
   ]
  },
  {
   "cell_type": "markdown",
   "metadata": {},
   "source": [
    "#### 민감도가 20이고 1~6까지 랜덤한 숫자가 나오는 기본 주사위 만들기"
   ]
  },
  {
   "cell_type": "code",
   "execution_count": null,
   "metadata": {},
   "outputs": [],
   "source": [
    "shaking_dice()"
   ]
  },
  {
   "cell_type": "markdown",
   "metadata": {},
   "source": [
    "#### 민감도가 50이고 1~20까지 랜덤한 숫자가 나오는 주사위 만들기"
   ]
  },
  {
   "cell_type": "code",
   "execution_count": null,
   "metadata": {},
   "outputs": [],
   "source": [
    "shaking_dice(60, 20)"
   ]
  },
  {
   "cell_type": "markdown",
   "metadata": {},
   "source": [
    "<img src=\"image/icon.png\" align='left'> <b> Zumi 주사위가 민감하게 반응하도록 코딩해 보세요.</b>"
   ]
  },
  {
   "cell_type": "code",
   "execution_count": null,
   "metadata": {},
   "outputs": [],
   "source": [
    "#여기에 코딩해 보세요."
   ]
  },
  {
   "cell_type": "markdown",
   "metadata": {},
   "source": [
    "<img src=\"image/icon.png\" align='left'> <b> Zumi 주사위가 둔감하게 반응하도록 코딩해 보세요.</b>"
   ]
  },
  {
   "cell_type": "code",
   "execution_count": null,
   "metadata": {},
   "outputs": [],
   "source": [
    "#여기에 코딩해 보세요."
   ]
  },
  {
   "cell_type": "markdown",
   "metadata": {},
   "source": [
    "<img src=\"image/icon.png\" align='left'> <b> 주사위 눈의 범위를 여러분이 원하는대로 코딩해 보세요.</b>"
   ]
  },
  {
   "cell_type": "code",
   "execution_count": null,
   "metadata": {},
   "outputs": [],
   "source": [
    "#여기에 코딩해 보세요."
   ]
  },
  {
   "cell_type": "markdown",
   "metadata": {},
   "source": [
    "## 여러분만의 주사위로 친구들과 보드게임을 해보세요.\n",
    "\n",
    "<img src=\"image/ch2/board game.png\" width=400>\n",
    "\n",
    "[보드게임](http://localhost:8888/view/git/python/%EC%A3%BC%EB%AF%B8_%ED%8C%8C%EC%9D%B4%EC%8D%AC/board%20game.png)<br>\n",
    "\n",
    "<b>(이미지를 다른 이름으로 저장합니다. 용지 사이즈는 A3이고 비율 자동맞춤 관련 설정을 모두 해제하고 출력하세요.)\n",
    "\n"
   ]
  },
  {
   "cell_type": "markdown",
   "metadata": {},
   "source": [
    "#### 내 주사위 만들기"
   ]
  },
  {
   "cell_type": "code",
   "execution_count": null,
   "metadata": {},
   "outputs": [],
   "source": [
    "#여기에 코딩해 보세요."
   ]
  }
 ],
 "metadata": {
  "kernelspec": {
   "display_name": "Python 3",
   "language": "python",
   "name": "python3"
  },
  "language_info": {
   "codemirror_mode": {
    "name": "ipython",
    "version": 3
   },
   "file_extension": ".py",
   "mimetype": "text/x-python",
   "name": "python",
   "nbconvert_exporter": "python",
   "pygments_lexer": "ipython3",
   "version": "3.6.5"
  }
 },
 "nbformat": 4,
 "nbformat_minor": 2
}
