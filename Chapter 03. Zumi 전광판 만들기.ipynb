{
 "cells": [
  {
   "cell_type": "markdown",
   "metadata": {},
   "source": [
    "<img src=\"image/Title.png\" width=1000>"
   ]
  },
  {
   "cell_type": "markdown",
   "metadata": {},
   "source": [
    "# 전광판 만들기\n",
    "\n",
    "우리는 버스 정류장이나 지하철, 음식점 등 다양한 곳에서 전광판을 흔히 볼 수 있습니다. 혹시 Zumi의 스크린을 전광판으로 사용할 수는 없을까요? 이번 챕터에서는 Zumi 스크린에 문자열을 표시하고 문자열 이동하기, 깜빡이기, 크기 바꾸기의 방법들을 통해 Zumi 전광판을 만들어 보겠습니다. 그리고 마지막에는 가속도센서를 이용하여 Zumi를 기울이는 방향으로 문자열이 이동하도록 해보겠습니다."
   ]
  },
  {
   "cell_type": "markdown",
   "metadata": {},
   "source": [
    "## 전광판이란?\n",
    "\n",
    "여러 개의 발광 다이오드와 액정, 전구 등을 이용하여 문자나 그림 등을 나타내는 판을 전광판이라고 합니다. 열차의 도착 정보를 알려주고, 광장에서 문화 전시 정보 등을 안내하며, 야구장에서 경기 상황을 중계하는 등의 용도로 사용되고 있습니다.\n",
    "<br></br><br></br>\n",
    "<img src=\"image/ch3/LED pannel.jpg\" width=500>"
   ]
  },
  {
   "cell_type": "markdown",
   "metadata": {},
   "source": [
    "## Step 1: 라이브러리 가져오기\n",
    "Zumi로 코드를 실행하는 첫 번째 단계는 라이브러리를 가져오는 것입니다. 즉, 이 셀은 주행 명령, 카메라 또는 화면과 같은 Zumi의 필요한 기능을 모두 가져옵니다. 이번 챕터에서는 Zumi 스크린과 전광판 효과를 이용하기 위해 필요한 Zumi 라이브러리를 불러옵니다. <strong>만약 이 셀을 실행하지 않으면, 이후의 프로그램은 작동하지 않습니다.</strong>"
   ]
  },
  {
   "cell_type": "code",
   "execution_count": null,
   "metadata": {},
   "outputs": [],
   "source": [
    "from zumi.zumi import Zumi\n",
    "from zumi.util.screen import Screen\n",
    "import time\n",
    "\n",
    "from module.ElectronicBoard import moving_text, flicker_text, size_text, loop_text, acc_text\n",
    "\n",
    "zumi = Zumi()\n",
    "screen = Screen()"
   ]
  },
  {
   "cell_type": "markdown",
   "metadata": {},
   "source": [
    "<br></br>\n",
    "## Step 2: 문자열 이동시키기\n",
    "\n",
    "`moving_text()` 는 Zumi의 스크린에 문자열을 출력한 다음 왼쪽이나 오른쪽으로 이동시킬 수 있습니다. 아래의 셀에는 `moving_text()` 를 사용한 예제가 있습니다. Zumi의 스크린에 \"Hello\"라는 문자열이 나타나고 이동할 것이므로 Zumi의 스크린을 확인해 보세요!\n",
    "<br></br><br></br>\n",
    "\n",
    "---------\n",
    "\n",
    "moving_text(direction = 'R', string = \"Hello\", line = 25)\n",
    "\n",
    "```\n",
    "* direction : 문자가 이동하는 방향, R(Right) 또는 L(Left)\n",
    "* string : Zumi가 화면에 표시할 문자(8글자 이내)\n",
    "* line : 문자가 표시되는 화면 높이(기본값 : 25, 범위 : 0-45)\n",
    "```\n",
    "\n",
    "------\n",
    "\n",
    "<img src=\"image/ch3/screen.png\" width=500>"
   ]
  },
  {
   "cell_type": "markdown",
   "metadata": {},
   "source": [
    "#### 문자열 오른쪽으로 이동시키기"
   ]
  },
  {
   "cell_type": "code",
   "execution_count": null,
   "metadata": {},
   "outputs": [],
   "source": [
    "moving_text('R', \"Hello\")"
   ]
  },
  {
   "cell_type": "markdown",
   "metadata": {},
   "source": [
    "#### 문자열을 스크린 상단에서 왼쪽으로 이동시키기"
   ]
  },
  {
   "cell_type": "code",
   "execution_count": null,
   "metadata": {},
   "outputs": [],
   "source": [
    "moving_text('L', \"Hello\", line = 0)"
   ]
  },
  {
   "cell_type": "markdown",
   "metadata": {},
   "source": [
    "<img src=\"image/icon.png\" align='left'> <b> 문자열이 왼쪽으로 이동하도록 코딩해 보세요."
   ]
  },
  {
   "cell_type": "code",
   "execution_count": null,
   "metadata": {},
   "outputs": [],
   "source": [
    "#여기에 코딩해 보세요."
   ]
  },
  {
   "cell_type": "markdown",
   "metadata": {},
   "source": [
    "<img src=\"image/icon.png\" align='left'> <b>문자열을 입력하여 프로그램을 완성시켜 보세요."
   ]
  },
  {
   "cell_type": "code",
   "execution_count": null,
   "metadata": {},
   "outputs": [],
   "source": [
    "moving_text('R', #여기에 코딩해 보세요.)\n",
    "moving_text('L', #여기에 코딩해 보세요.)\n",
    "moving_text('R', #여기에 코딩해 보세요.)\n",
    "moving_text('L', #여기에 코딩해 보세요.)\n",
    "moving_text('R', #여기에 코딩해 보세요.)\n",
    "moving_text('L', #여기에 코딩해 보세요.)"
   ]
  },
  {
   "cell_type": "markdown",
   "metadata": {},
   "source": [
    "<img src=\"image/icon.png\" align='left'> <b>여러분이 원하는대로 문자열을 이동시켜보세요."
   ]
  },
  {
   "cell_type": "code",
   "execution_count": null,
   "metadata": {},
   "outputs": [],
   "source": [
    "#여기에 코딩해 보세요."
   ]
  },
  {
   "cell_type": "markdown",
   "metadata": {},
   "source": [
    "<br></br>\n",
    "## Step 3: 문자열 깜빡이기\n",
    "`flicker_text()` 를 사용하면 Zumi의 스크린에 \"Hello\"라는 문자열이 나타나고 깜빡입니다. Zumi의 스크린을 확인해 보세요!\n",
    "<br></br><br></br>\n",
    "___\n",
    "\n",
    "* flicker_text(count = 5, speed = 1, string = \"Hello\")\n",
    "\n",
    "```\n",
    "* count : 문자열이 깜빡이는 수 (1부터 30사이의 정수)\n",
    "* speed : 깜빡이는 속도, 값이 클수록 느리게 깜빡입니다.(단위 : 0.1초)\n",
    "* string : Zumi가 화면에 표시할 문자열(8글자 이내)\n",
    "```\n",
    "\n",
    "___"
   ]
  },
  {
   "cell_type": "markdown",
   "metadata": {},
   "source": [
    "#### \"Hello\" 문자열을 0.2초 간격으로 5번 깜박이기"
   ]
  },
  {
   "cell_type": "code",
   "execution_count": null,
   "metadata": {},
   "outputs": [],
   "source": [
    "flicker_text(5, 5, \"Hello\")"
   ]
  },
  {
   "cell_type": "markdown",
   "metadata": {},
   "source": [
    "<img src=\"image/icon.png\" align='left'> <b>문자열이 빠르게 깜빡이도록 코딩해 보세요. "
   ]
  },
  {
   "cell_type": "code",
   "execution_count": null,
   "metadata": {},
   "outputs": [],
   "source": [
    "#여기에 코딩해 보세요."
   ]
  },
  {
   "cell_type": "markdown",
   "metadata": {},
   "source": [
    "<img src=\"image/icon.png\" align='left'> <b>문자열이 느리게 깜빡이도록 코딩해 보세요. "
   ]
  },
  {
   "cell_type": "code",
   "execution_count": null,
   "metadata": {},
   "outputs": [],
   "source": [
    "#여기에 코딩해 보세요."
   ]
  },
  {
   "cell_type": "markdown",
   "metadata": {},
   "source": [
    "<img src=\"image/icon.png\" align='left'> <b>문자열을 입력하여 프로그램을 완성시켜보세요."
   ]
  },
  {
   "cell_type": "code",
   "execution_count": null,
   "metadata": {},
   "outputs": [],
   "source": [
    "flicker_text(5, 1, #여기에 코딩해 보세요.)\n",
    "flicker_text(5, 1, #여기에 코딩해 보세요.)\n",
    "flicker_text(3, 3, #여기에 코딩해 보세요.)\n",
    "flicker_text(3, 3, #여기에 코딩해 보세요.)\n",
    "flicker_text(2, 5, #여기에 코딩해 보세요.)\n",
    "flicker_text(2, 5, #여기에 코딩해 보세요.)"
   ]
  },
  {
   "cell_type": "markdown",
   "metadata": {},
   "source": [
    "<img src=\"image/icon.png\" align='left'> <b>여러분이 원하는대로 문자열을 깜빡여 보세요."
   ]
  },
  {
   "cell_type": "code",
   "execution_count": null,
   "metadata": {},
   "outputs": [],
   "source": [
    "#여기에 코딩해 보세요."
   ]
  },
  {
   "cell_type": "markdown",
   "metadata": {},
   "source": [
    "<br></br>\n",
    "## Step 4: 문자 크기 바꾸기\n",
    "\n",
    "`size_text()` 를 사용하면 Zumi의 스크린에 \"Good\"이라는 글자가 나타나고, 커졌다 작아지므로 Zumi의 스크린을 확인해 보세요!\n",
    "\n",
    "<br></br>\n",
    "\n",
    "---------\n",
    "\n",
    "size_text(count = 3, size = 30, string = \"Good\")\n",
    "\n",
    "```\n",
    "* count : 문자열의 크기를 바꾸는 횟수\n",
    "* size : 문자열의 최대 크기\n",
    "* string : Zumi가 화면에 표시할 문자(5글자 이내)\n",
    "```\n",
    "\n",
    "------"
   ]
  },
  {
   "cell_type": "markdown",
   "metadata": {},
   "source": [
    "#### 'Good' 문자열을 최대 크기 30으로 3번의 크기 바꾸기"
   ]
  },
  {
   "cell_type": "code",
   "execution_count": null,
   "metadata": {},
   "outputs": [],
   "source": [
    "size_text(3, 30, 'Good')"
   ]
  },
  {
   "cell_type": "markdown",
   "metadata": {},
   "source": [
    "<img src=\"image/icon.png\" align='left'> <b>여러분이 원하는대로 문자열 크기를 바꿔보세요."
   ]
  },
  {
   "cell_type": "code",
   "execution_count": null,
   "metadata": {},
   "outputs": [],
   "source": [
    "# 여기에 코딩해 보세요."
   ]
  },
  {
   "cell_type": "markdown",
   "metadata": {},
   "source": [
    "<br></br>\n",
    "## Step 5: 전광판 만들기\n",
    "\n",
    "아래의 셀에 앞서 배운 Zumi 명령어들을 사용하여 응원 전광판을 만들어 놓았습니다. 어떻게 동작되는지 확인해 보고, 여러분만의 전광판 아이디어를 떠올려 보세요.\n",
    "<br></br>\n",
    "<img src = \"image/ch3/LED pannel_cheer.png\" width=400>\n",
    "<br></br>"
   ]
  },
  {
   "cell_type": "code",
   "execution_count": null,
   "metadata": {},
   "outputs": [],
   "source": [
    "moving_text('R', \"One\")\n",
    "moving_text('L', \"in a\")\n",
    "moving_text('R', \"million\")\n",
    "moving_text('L', \"Twice\")\n",
    "flicker_text(3, 5, \"LOVE\")\n",
    "flicker_text(3, 5, \"Dahyun\")\n",
    "size_text(3, 20, \"LOVE\")\n",
    "size_text(3, 30, \"Twice\")"
   ]
  },
  {
   "cell_type": "markdown",
   "metadata": {},
   "source": [
    "<img src=\"image/icon.png\" align='left'> <b> 여러분이 좋아하는 사람을 응원하는 전광판을 만들어 보세요."
   ]
  },
  {
   "cell_type": "code",
   "execution_count": null,
   "metadata": {},
   "outputs": [],
   "source": [
    "#여기에 코딩해 보세요."
   ]
  },
  {
   "cell_type": "markdown",
   "metadata": {},
   "source": [
    "<br></br>\n",
    "## Step 6: 전광판 업그레이드!\n",
    "\n",
    "이번에 배울 명령어를 사용하면 전광판의 글자가 이동하고 사라졌다가, 반대 쪽에서 다시 나타나게 됩니다. 마치 글자가 스크린을 빙글 돌아서 이동하는 것처럼 보입니다. 업그레이드 된 Zumi 전광판을 만나보세요!\n",
    "\n",
    "<br></br>\n",
    "\n",
    "---------\n",
    "\n",
    "loop_text(direction = 'R', string = \"Loop\", line = 25)\n",
    "\n",
    "```\n",
    "* direction : 문자열이 문자가 이동하는 방향, R(Right) 또는 L(Left) / S(stop)를 입력하면 이동을 멈춥니다.\n",
    "* string : Zumi가 화면에 표시할 문자\n",
    "* line : 문자가 표시되는 화면 높이(기본값 : 25, 범위 : 0-45)\n",
    "```\n",
    "\n",
    "------"
   ]
  },
  {
   "cell_type": "markdown",
   "metadata": {},
   "source": [
    "#### \"Loop\" 문자열을 계속해서 오른쪽으로 이동시키기\n",
    "글자들이 계속해서 이동하는 것을 확인해 보세요."
   ]
  },
  {
   "cell_type": "code",
   "execution_count": null,
   "metadata": {},
   "outputs": [],
   "source": [
    "loop_text('R', \"Loop\")"
   ]
  },
  {
   "cell_type": "markdown",
   "metadata": {},
   "source": [
    "#### 문자열 이동 멈추기\n",
    "계속되는 이동을 멈추기 위해서는 아래의 명령어가 필요합니다. 아래의 셀을 실행하고 동작을 확인해 보세요."
   ]
  },
  {
   "cell_type": "code",
   "execution_count": null,
   "metadata": {},
   "outputs": [],
   "source": [
    "loop_text('S')"
   ]
  },
  {
   "cell_type": "markdown",
   "metadata": {},
   "source": [
    "<img src=\"image/icon.png\" align='left'> <b>아주 긴 문자열이 나타나는 전광판을 만들어 보세요.<br>\n",
    "</b>`loop_text()` 를 사용하면 긴 문자열도 나타낼 수 있습니다!"
   ]
  },
  {
   "cell_type": "code",
   "execution_count": null,
   "metadata": {},
   "outputs": [],
   "source": [
    "# 여기에 코딩해 보세요."
   ]
  },
  {
   "cell_type": "markdown",
   "metadata": {},
   "source": [
    "<img src=\"image/icon.png\" align='left'> <b> 지금까지 배운 Zumi 문자열 명령어들을 떠올릴 수 있나요? 모든 명령어들을 사용하여 전광판을 만들어 보세요!"
   ]
  },
  {
   "cell_type": "code",
   "execution_count": null,
   "metadata": {},
   "outputs": [],
   "source": [
    "# 여기에 코딩해 보세요."
   ]
  },
  {
   "cell_type": "markdown",
   "metadata": {},
   "source": [
    "<br></br>\n",
    "## Step 7: 가속도 센서를 이용한 문자 이동\n",
    "\n",
    "Zumi에는 모션 처리 장치가 장착되어 있으며 직선주행 및 정확한 회전에 필요한 두 개의 매우 중요한 센서인 가속도 센서 및 자이로스코프가 있습니다. 이번에는 Zumi의 가속도센서를 이용하여 문자열을 이동시켜 보겠습니다.\n",
    "\n"
   ]
  },
  {
   "cell_type": "markdown",
   "metadata": {},
   "source": [
    "\n",
    "## 가속도 센서(Acceleration Sensor)란?\n",
    "\n",
    "가속도 센서는 가속도와 진동 및 충격 등의 움직이는 힘을 감지하여, 이동하는 물체의 가속도 물리량을 측정하는 센서입니다. 자동차와 비행기, 휴대폰 등 여러 제품에 사용되는 기술 중 하나입니다.\n",
    "<br></br>\n",
    "<img src = \"image/ch3/acceleration sensor.jpg\" width=600>\n",
    "<br></br>"
   ]
  },
  {
   "cell_type": "markdown",
   "metadata": {},
   "source": [
    "\n",
    "`acc_text()` 를 사용하면 Zumi가 기울어진 방향으로 문자열을 이동시킬 수 있습니다. 아래 셀에는 `acc_text()` 를 사용한 예제가 있습니다. \"Slope\"라는 문자열이 Zumi의 방향에 따라 움직일 것이므로 Zumi 스크린을 확인해 보세요!\n",
    "\n",
    "<br></br>\n",
    "\n",
    "---------\n",
    "\n",
    "acc_text(string = \"Hello\", line = 25)\n",
    "\n",
    "```\n",
    "* string : Zumi가 화면에 표시할 문자(5글자 이내)\n",
    "* line : 문자가 표시되는 화면 높이(기본값 : 25, 범위 : 0-45)\n",
    "```\n",
    "\n",
    "------\n",
    "\n",
    "<br></br>"
   ]
  },
  {
   "cell_type": "markdown",
   "metadata": {},
   "source": [
    "#### Zumi의 기울기 방향에 따라 문자열 이동하기"
   ]
  },
  {
   "cell_type": "code",
   "execution_count": null,
   "metadata": {},
   "outputs": [],
   "source": [
    "acc_text('Slope')"
   ]
  },
  {
   "cell_type": "markdown",
   "metadata": {},
   "source": [
    "<img src=\"image/icon.png\" align='left'> <b> 원하는 문자열이 Zumi를 따라 움직이도록 코딩해 보세요.\n"
   ]
  },
  {
   "cell_type": "code",
   "execution_count": null,
   "metadata": {},
   "outputs": [],
   "source": [
    "#여기에 코딩해 보세요."
   ]
  }
 ],
 "metadata": {
  "kernelspec": {
   "display_name": "Python 3",
   "language": "python",
   "name": "python3"
  },
  "language_info": {
   "codemirror_mode": {
    "name": "ipython",
    "version": 3
   },
   "file_extension": ".py",
   "mimetype": "text/x-python",
   "name": "python",
   "nbconvert_exporter": "python",
   "pygments_lexer": "ipython3",
   "version": "3.6.5"
  }
 },
 "nbformat": 4,
 "nbformat_minor": 2
}
