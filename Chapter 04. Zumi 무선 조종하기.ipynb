{
 "cells": [
  {
   "cell_type": "markdown",
   "metadata": {},
   "source": [
    "<img src=\"image/Title.png\" width=1000>"
   ]
  },
  {
   "cell_type": "markdown",
   "metadata": {},
   "source": [
    "# Zumi 무선 조종하기\n",
    "\n",
    "Zumi를 무선 조종하기 전에 앞으로, 뒤로, 왼쪽 및 오른쪽으로 이동하는 방법을 알아야 합니다. 그리고나서 컴퓨터의 키보드를 이용하여 사용자 입력(input)을 받아 Zumi를 무선 조종하는 방법을 배웁니다. "
   ]
  },
  {
   "cell_type": "markdown",
   "metadata": {},
   "source": [
    "## Step1 : 라이브러리 가져오기\n",
    "Zumi 무선 조종을 하기 위해 필요한 라이브러리를 가져 옵니다. <strong>만약 이 셀을 실행하지 않으면, 이후의 프로그램은 작동하지 않습니다.</strong>"
   ]
  },
  {
   "cell_type": "code",
   "execution_count": null,
   "metadata": {},
   "outputs": [],
   "source": [
    "from zumi.zumi import Zumi\n",
    "import time\n",
    "\n",
    "zumi = Zumi()"
   ]
  },
  {
   "cell_type": "markdown",
   "metadata": {},
   "source": [
    "## Step2 : Zumi 주행하기\n",
    "아래는 기본 주행 명령어 목록입니다. Zumi를 전진, 후진, 좌회전, 우회전 시킬 수 있습니다.\n",
    "___\n",
    "\n",
    "```\n",
    "* zumi.forward(): 1초 동안 40의 속도로 전진\n",
    "* zumi.reverse(): 1초 동안 40의 속도로 후진\n",
    "* zumi.turn_left(): 중심에서 90도 좌회전\n",
    "* zumi.turn_right(): 중심에서 90도 우회전\n",
    "```\n",
    "\n",
    "---\n",
    "\n",
    "\n",
    "<img src=\"image/ch4/zumi_forward.jpg\" width=700>   "
   ]
  },
  {
   "cell_type": "markdown",
   "metadata": {},
   "source": [
    "#### Zumi 전진하기"
   ]
  },
  {
   "cell_type": "code",
   "execution_count": null,
   "metadata": {},
   "outputs": [],
   "source": [
    "zumi.forward()"
   ]
  },
  {
   "cell_type": "markdown",
   "metadata": {},
   "source": [
    "<img src=\"image/icon.png\" align='left'> <b>Zumi가 후진하도록 코딩해 보세요.</b>"
   ]
  },
  {
   "cell_type": "code",
   "execution_count": null,
   "metadata": {},
   "outputs": [],
   "source": [
    "#여기에 코딩해 보세요."
   ]
  },
  {
   "cell_type": "markdown",
   "metadata": {},
   "source": [
    "다음 두 가지 기능을 살펴 보겠습니다. `zumi.turn_left()` 와 `zumi.turn_right()`를 호출하면 Zumi가 좌회전과 우회전을 하게 됩니다.\n",
    "\n",
    "아래의 셀에서 이 코드를 테스트 한 다음 어떤 순서로 명령을 추가하여 어떤 일이 발생하는지 확인해 보세요. 각 명령 사이에 시간을 유지하려면 time.sleep (seconds) 을 포함시켜 지정된 시간(초) 동안 프로그램을 지연 시킬 수 있습니다. 아래의 셀을 실행하여 작동 방식을 확인한 다음 코드를 더 추가해 보세요."
   ]
  },
  {
   "cell_type": "code",
   "execution_count": null,
   "metadata": {},
   "outputs": [],
   "source": [
    "zumi.forward() # 전진 1초 후에 정지\n",
    "time.sleep(2) # 2초 기다리기\n",
    "zumi.turn_right() # 90도 우회전\n",
    "# 여기에 코드를 추가해 보세요."
   ]
  },
  {
   "cell_type": "markdown",
   "metadata": {},
   "source": [
    "## Step3 : 주행 속도와 지속 시간\n",
    "\n",
    "이쯤에서 Zumi가 전진하는 지속 시간, 방향 및 속도를 변경해 보겠습니다. 여기서 지속 시간, 방향 및 속도를 **매개변수**라고 합니다. 매개 변수는 필요에 따라 사용자가 기능을 추가로 정의하는 것을 말합니다. 현재 `zumi.forward()` 는 기본 속도, 지속 시간 및 방향을 갖고 있지만 Zumi의 주행 속도와 방향 및 지속 시간을 매개 변수를 이용하여 변경할 수 있습니다.\n",
    "\n",
    "Zumi의 센서에 대한 이해가 더 필요하므로 Zumi의 방향 변경은 생략하지만 명령어에서 속도와 지속 시간을 정의하여 변경할 수 있습니다. 아래의 셀에 있는 코드는 속도를 30으로 줄이고, 2초 동안 동작하도록 수정되었습니다. Zumi를 주행시키기 전에 충분한 공간이 있는지 확인하세요!\n"
   ]
  },
  {
   "cell_type": "markdown",
   "metadata": {},
   "source": [
    "#### Zumi 속도를 30으로 2초 동안 전진하기"
   ]
  },
  {
   "cell_type": "code",
   "execution_count": null,
   "metadata": {},
   "outputs": [],
   "source": [
    "zumi.forward(speed=30, duration=2)"
   ]
  },
  {
   "cell_type": "markdown",
   "metadata": {},
   "source": [
    "<img src=\"image/icon.png\" align='left'> <b>속도와 지속 시간을 자유롭게 설정하여 Zumi가 후진하도록 코딩해 보세요.</b>"
   ]
  },
  {
   "cell_type": "code",
   "execution_count": null,
   "metadata": {},
   "outputs": [],
   "source": [
    "#여기에 코딩해 보세요."
   ]
  },
  {
   "cell_type": "markdown",
   "metadata": {},
   "source": [
    "## Step4 : 각도의 단위, 도"
   ]
  },
  {
   "cell_type": "markdown",
   "metadata": {},
   "source": [
    "`zumi.turn_left()` 및 `zumi.turn_right()` 명령어에도 변경할 수 있는 매개 변수가 있습니다. 기본값은 90도로 설정되어 있지만 해당 값도 변경할 수 있습니다.\n",
    "\n",
    "아래의 셀은 Zumi가 90도 대신 45도 우회전합니다.\n"
   ]
  },
  {
   "cell_type": "markdown",
   "metadata": {},
   "source": [
    "#### Zumi 45도 우회전하기"
   ]
  },
  {
   "cell_type": "code",
   "execution_count": null,
   "metadata": {},
   "outputs": [],
   "source": [
    "zumi.turn_right(45)"
   ]
  },
  {
   "cell_type": "markdown",
   "metadata": {},
   "source": [
    "다른 각도를 테스트하여 회전의 정확성을 시험해 보세요. 필요한 경우 아래의 다이어그램을 참조하세요! Zumi는 완벽하지 않으므로, Zumi가 멈추는 실제 각도는 1~2도 정도 벗어날 수 있습니다.\n",
    "\n",
    "\n",
    "절대각도 맵 경로 : [절대각도 맵](http://localhost:8888/view/%EC%9B%90%EA%B3%A0%EC%9E%91%EC%97%85/%EC%A3%BC%EB%AF%B8%20%ED%95%98%EB%93%9C%EC%9B%A8%EC%96%B4%20%EC%98%88%EC%A0%9C/10%EC%B1%95%ED%84%B0/image/10chapter%20map.png)\n",
    "\n",
    "<b>(이미지를 다른 이름으로 저장합니다. 용지 사이즈는 A4이고 비율 자동맞춤 관련 설정을 모두 해제하고 출력하세요.)</b>\n",
    "\n",
    "<img src=\"image/ch4/Zumi_angle.jpg\" width=700>\n",
    "\n",
    "**참고** : ` zumi.turn_left()` 및 `zumi.turn_right()` 에는 숨겨진 기본 매개 변수가 있습니다. `zumi.turn_left(45)`를 호출하면 실제로`zumi.turn_left(desired_angle = 45, duration = 1)`을 호출 하는 것입니다. duration은 Zumi가 해당 동작을 완료하는데 걸리는 시간을 결정합니다. 1초는 회전 각도가 작은 경우에는 충분한 시간이지만 135도를 회전할 때에는 어떨까요? 이때에는 Zumi가 회전하는데 필요한 시간을 늘려야 합니다.\n",
    "\n",
    "<font face=\"Courier\">zumi.turn_left(120, 1.5)\n",
    "\n",
    "위 코드는 Zumi가 120도를 회전하기 때문에 지속 시간을 늘렸습니다. 그렇지 않으면 동작을 완료할 수 없습니다.(90도 이상 회전하려면 지속시간을 늘려야 합니다.) 각각의 Zumi는 특성이 다르기 때문에 두 번째 매개 변수를 조정해야 할 수도 있습니다. 회전을 테스트하려면 아래의 셀을 사용하세요!\n",
    "<br>"
   ]
  },
  {
   "cell_type": "markdown",
   "metadata": {},
   "source": [
    "<img src=\"image/icon.png\" align='left'> <b>Zumi가 45도 좌회전 하도록 코딩해 보세요.</b>"
   ]
  },
  {
   "cell_type": "code",
   "execution_count": null,
   "metadata": {},
   "outputs": [],
   "source": [
    "#여기에 코딩해 보세요."
   ]
  },
  {
   "cell_type": "markdown",
   "metadata": {},
   "source": [
    "<img src=\"image/icon.png\" align='left'> <b>Zumi가 60도 우회전 하도록 코딩해 보세요.</b>"
   ]
  },
  {
   "cell_type": "code",
   "execution_count": null,
   "metadata": {},
   "outputs": [],
   "source": [
    "#여기에 코딩해 보세요."
   ]
  },
  {
   "cell_type": "markdown",
   "metadata": {},
   "source": [
    "<img src=\"image/icon.png\" align='left'> <b>Zumi가 120도 좌회전 하도록 코딩해 보세요."
   ]
  },
  {
   "cell_type": "code",
   "execution_count": null,
   "metadata": {},
   "outputs": [],
   "source": [
    "#여기에 코딩해 보세요."
   ]
  },
  {
   "cell_type": "markdown",
   "metadata": {},
   "source": [
    "<img src=\"image/icon.png\" align='left'> <b>Zumi가 150도 우회전 하도록 입력하여 코딩해 보세요."
   ]
  },
  {
   "cell_type": "code",
   "execution_count": null,
   "metadata": {},
   "outputs": [],
   "source": [
    "#여기에 코딩해 보세요."
   ]
  },
  {
   "cell_type": "markdown",
   "metadata": {},
   "source": [
    "## 재보정(calibration)\n",
    "\n",
    "Zumi가 똑바로 동작하지 않으면 재보정이 필요할 수 있습니다. Zumi가 과열되기 시작하면 이런 일이 발생할 수 있습니다. Zumi를 재보정 하기 전에 평평한 바닥에 놓여있는지 확인해야 합니다."
   ]
  },
  {
   "cell_type": "markdown",
   "metadata": {},
   "source": [
    "#### Zumi 재보정하기"
   ]
  },
  {
   "cell_type": "code",
   "execution_count": null,
   "metadata": {},
   "outputs": [],
   "source": [
    "zumi.mpu.calibrate_MPU()"
   ]
  },
  {
   "cell_type": "markdown",
   "metadata": {},
   "source": [
    "## 주행 명령어를 사용하여 맵을 완주해 보세요.\n",
    "맵을 완주하기 위해서는 어떤 명령어가 필요할까요? 지금까지 배운 Zumi의 주행 명령어를 활용해 보세요!\n",
    "\n",
    "<img src = \"image/ch4/road_map_Intermediate.jpg\" width=700>\n",
    "\n",
    "중급주행 맵 경로 : [중급주행 맵1](http://localhost:8888/view/%EC%9B%90%EA%B3%A0%EC%9E%91%EC%97%85/%EC%A3%BC%EB%AF%B8%20%ED%95%98%EB%93%9C%EC%9B%A8%EC%96%B4%20%EC%98%88%EC%A0%9C/10%EC%B1%95%ED%84%B0/image/10chapter%20map.png)\n",
    "[중급주행 맵2](http://localhost:8888/view/%EC%9B%90%EA%B3%A0%EC%9E%91%EC%97%85/%EC%A3%BC%EB%AF%B8%20%ED%95%98%EB%93%9C%EC%9B%A8%EC%96%B4%20%EC%98%88%EC%A0%9C/10%EC%B1%95%ED%84%B0/image/10chapter%20map.png)\n",
    "[중급주행 맵3](http://localhost:8888/view/%EC%9B%90%EA%B3%A0%EC%9E%91%EC%97%85/%EC%A3%BC%EB%AF%B8%20%ED%95%98%EB%93%9C%EC%9B%A8%EC%96%B4%20%EC%98%88%EC%A0%9C/10%EC%B1%95%ED%84%B0/image/10chapter%20map.png)\n",
    "[중급주행 맵4](http://localhost:8888/view/%EC%9B%90%EA%B3%A0%EC%9E%91%EC%97%85/%EC%A3%BC%EB%AF%B8%20%ED%95%98%EB%93%9C%EC%9B%A8%EC%96%B4%20%EC%98%88%EC%A0%9C/10%EC%B1%95%ED%84%B0/image/10chapter%20map.png)<br>\n",
    "\n",
    "<b>(이미지를 다른 이름으로 저장합니다. 용지 사이즈는 A3이고 비율 자동맞춤 관련 설정을 모두 해제하고 출력하세요. 4개의 맵을 이어 붙입니다.)\n",
    "    "
   ]
  },
  {
   "cell_type": "code",
   "execution_count": null,
   "metadata": {},
   "outputs": [],
   "source": [
    "#여기에 코딩해 보세요."
   ]
  },
  {
   "cell_type": "markdown",
   "metadata": {},
   "source": [
    "<br></br>\n",
    "## Step 5 :  Zumi 무선 조종하기\n",
    "\n",
    "이제 Zumi의 기본 주행에 대해 알게 되었습니다! 이번에는 주행 명령을 사용자 입력 함수(input)로 받아 자신만의 리모컨을 만들어 보겠습니다."
   ]
  },
  {
   "cell_type": "markdown",
   "metadata": {},
   "source": [
    "## 사용자 입력 함수(input)\n",
    "\n",
    "리모컨을 만들려면 사용자의 입력을 받고 Zumi를 주행 시키는 명령으로 변환하는 방법이 필요합니다. python에는 키보드 입력을 읽고 변수로 저장하는 명령어 `input()` 이 포함되어 있습니다. 이것이 어떻게 작동하는지 보려면 아래의 코드를 실행하고 이름을 입력한 다음 Enter 키를 누릅니다. 입력한 모든 내용이 변수 `my_name`에 저장됩니다."
   ]
  },
  {
   "cell_type": "code",
   "execution_count": null,
   "metadata": {},
   "outputs": [],
   "source": [
    "my_name = input(\"당신의 이름은 무엇인가요?\")\n",
    "print(\"Hello,\",my_name)"
   ]
  },
  {
   "cell_type": "markdown",
   "metadata": {},
   "source": [
    "## 의사 코드(pseudocode)\n",
    "\n",
    "이제 필요한 모든 도구를 갖추었으므로 Zumi를 무선 조종하기 위한 `의사 코드(pseudocode)`를 작성해 보겠습니다. **의사 코드는 사람이 이해할 수 있는 일반적인 언어로 작성된 프로그램입니다.**  의사 코드는 프로그램을 python으로 변환하기 전에 프로그램이 어떻게 작동하는지 파악하는 좋은 방법입니다. 단, `input()`은 키보드의 화살표 키를 읽을 수 없으므로, 리모컨 코드에서 문자 입력 \"w\", \"a\", \"s\", \"d\"를 사용하도록 합니다. 아래의 의사 코드를 보고 의미를 확인해 보세요.\n",
    "<font face = \"Courier\">\n",
    "    \n",
    "사용자로부터 입력을 받고<br>\n",
    "입력이 \"w\"라면, 전진하고,<br>\n",
    "입력이 \"s\"라면, 후진하고<br>\n",
    "입력이 \"a\"라면, 좌회전하고<br>\n",
    "입력이 \"d\"라면, 우회전합니다.<br>\n",
    "</font>\n",
    "\n",
    "<img src=\"image/ch4/wasd2.png\" width=700>\n",
    "\n",
    "아래의 셀에는 Zumi 무선 조종하기 의사 코드를 python으로 변환한 코드가 있습니다. 연산자나 if문 등 python 관련 이해가 더 필요하지만 의사 코드를 떠올리며 프로그램을 완성해 봅시다."
   ]
  },
  {
   "cell_type": "code",
   "execution_count": null,
   "metadata": {},
   "outputs": [],
   "source": [
    "# if문의 누락된 나머지 부분을 작성하여 코드를 완성해 보세요.\n",
    "\n",
    "while True:\n",
    "    direction = input(\"Please enter a command: \")\n",
    "\n",
    "    if direction == \"w\":\n",
    "        print(\"Go forward\")\n",
    "    #여기에 코딩해 보세요."
   ]
  },
  {
   "cell_type": "markdown",
   "metadata": {},
   "source": [
    "코드가 계속해서 실행되는 것을 확인했나요? 이것은 원격 제어 코드이므로, Zumi에게 무엇을 해야 하는지 지속적으로 알려주기 위해 무한 반복하는 것입니다. 무한 반복을 하려면 반복문 While을 사용해야 합니다. 해당 코드를 중지하기 위해서는 툴바에서 \"중지\" 아이콘을 클릭하는 방법이 있습니다. 위 셀을 안전하게 종료하려면 \"q\" 를 입력하여 무한 반복을 벗어나는 코드를 포함시키는 것이 좋습니다.\n",
    "\n",
    "<br>\n",
    "\n",
    "<font face=\"Courier\">\n",
    "if direction ==\"q\": <br>\n",
    "<span style=\"margin-left: 40px;\">break</span>\n",
    "</font>\n",
    "\n",
    "이 코드를 위의 셀에 추가하고 오류없이 종료할 수 있는지 테스트해 보세요.\n",
    "\n",
    "## 주행 명령 추가하기\n",
    "이제 사용자 입력을 받아 Zumi를 구동시키는 방법을 이해하였으므로, 주행 명령을 추가하면 됩니다. 최종 코드는 아래와 같습니다."
   ]
  },
  {
   "cell_type": "code",
   "execution_count": null,
   "metadata": {},
   "outputs": [],
   "source": [
    "while True:\n",
    "\n",
    "    direction = input(\"Please enter a command: \")\n",
    "\n",
    "    if direction == \"w\":\n",
    "        zumi.forward()\n",
    "    if direction == \"s\":\n",
    "        zumi.reverse()\n",
    "    if direction == \"a\":\n",
    "        zumi.turn_left()\n",
    "    if direction == \"d\":\n",
    "        zumi.turn_right()\n",
    "    if direction == \"q\":\n",
    "        break"
   ]
  },
  {
   "cell_type": "markdown",
   "metadata": {},
   "source": [
    "<img src=\"image/icon.png\" align='left'> <b>리모컨 코드의 매개 변수를 변경하거나 다른 키를 입력 받을 수 있도록 코드를 작성해 보세요!"
   ]
  },
  {
   "cell_type": "code",
   "execution_count": null,
   "metadata": {},
   "outputs": [],
   "source": [
    "# 여기에 코딩해 보세요."
   ]
  },
  {
   "cell_type": "markdown",
   "metadata": {},
   "source": [
    "## 레이싱 경주를 해보세요. 종이컵을 반환점으로 사용하여 돌아 먼저 돌아오는 친구가 승리합니다."
   ]
  }
 ],
 "metadata": {
  "kernelspec": {
   "display_name": "Python 3",
   "language": "python",
   "name": "python3"
  },
  "language_info": {
   "codemirror_mode": {
    "name": "ipython",
    "version": 3
   },
   "file_extension": ".py",
   "mimetype": "text/x-python",
   "name": "python",
   "nbconvert_exporter": "python",
   "pygments_lexer": "ipython3",
   "version": "3.6.5"
  }
 },
 "nbformat": 4,
 "nbformat_minor": 2
}
