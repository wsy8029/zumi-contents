{
 "cells": [
  {
   "cell_type": "markdown",
   "metadata": {},
   "source": [
    "<img src=\"image/Title.png\" width=1000>"
   ]
  },
  {
   "cell_type": "markdown",
   "metadata": {},
   "source": [
    "# Zumi 장애물 피하기\n",
    "Zumi는 적외선센서를 전면에 2개와 후면에 2개, 하단에 2개까지 총 6개 가지고 있습니다. Zumi의 적외선센서를 사용하여 True(참)와 False(거짓)을 나타내는 방법을 알아보고, 적외선센서의 데이터를 읽어오는 예제도 해봅시다. 이 예제를 통해 Zumi가 장애물을 만났을 때 피해 갈 수 있도록 하는 프로그램을 만들어 봅시다."
   ]
  },
  {
   "cell_type": "markdown",
   "metadata": {},
   "source": [
    "------------------------\n",
    "<br>\n",
    "\n",
    "## 적외선센서(IR Sensor)란?\n",
    "\n",
    "**적외선**(줄여서 IR)은 인간의 눈으로는 볼 수 없는 전자기 방사선의 한 형태입니다. 이는 또한 에너지의 한 형태이기도 합니다. 그러나 무서워 보이는 이름과는 다르게, 모든 전자기 방사선이 위험하지는 않습니다. 우리가 볼 수 있는 작은 부분도 있는데 이를 가시광선이라고 합니다. 우리가 보는 여러 색상은 다양한 파장에 의해 정해집니다. 파장이 길어질수록, 사람들에게 보이지 않습니다. 그러나, 특수 센서들은 이러한 파장을 감지할 수 있습니다. Zumi의 적외선센서(IR Sensor)를 사용하여 센서에 닿는 물체들을 감지할 수 있습니다.\n",
    "\n",
    "<img src=\"image/ch5/spectrum.png\" width=700>\n",
    "\n",
    "<br>\n"
   ]
  },
  {
   "cell_type": "markdown",
   "metadata": {},
   "source": [
    "## Step1 : 라이브러리 가져오기\n",
    "Zumi의 적외선센서와 스크린을 사용하기 위해 필요한 라이브러리를 가져 옵니다. <strong>만약 이 셀을 실행하지 않으면, 이후의 프로그램은 작동하지 않습니다.</strong>"
   ]
  },
  {
   "cell_type": "code",
   "execution_count": null,
   "metadata": {},
   "outputs": [],
   "source": [
    "from zumi.zumi import Zumi\n",
    "from zumi.util.screen import Screen\n",
    "import IPython.display\n",
    "import time\n",
    "from module.IrSensor import boolean_ir, reading_ir\n",
    "\n",
    "zumi = Zumi()\n",
    "screen = Screen()"
   ]
  },
  {
   "cell_type": "markdown",
   "metadata": {},
   "source": [
    "<br>\n",
    "\n",
    "## Step2 : 장애물이 있는지 없는지를 참, 거짓으로 나타내기\n",
    "\n",
    "`boolean_ir()` 명령어는 Zumi 앞에 물체가 감지되면 True(참), 감지되지 않으면 False(거짓)을 반환할 수 있습니다.\n",
    "<br>\n",
    "\n",
    "___\n",
    "* boolean_ir(position = 'front', direction = 'L', distance = 100)\n",
    "\n",
    "```\n",
    "* position : 사용하려는 적외선센서를 선택합니다. ('front' :전면, 'back' : 후면, 'bottom'은 하단)\n",
    "* direction : 적외선센서의 좌측 또는 우측을 선택합니다. 'L'은 왼쪽(Left), 'R'은 오른쪽(Right)입니다.\n",
    "* distance : 물체를 감지 할 수 있는 거리입니다. 값이 작으면 물체가 가까이 있을 때 감지 할 수 있고, 값이 크면 물체가 멀리 있을 때에도 감지할 수 있습니다.(기본값 : 100)\n",
    "```\n",
    "\n",
    "---\n",
    "\n",
    "<img src='image/ch5/Boolean_ir.png' width = 700>"
   ]
  },
  {
   "cell_type": "markdown",
   "metadata": {},
   "source": [
    "#### 전면 적외선센서에 물체가 감지되었는지 스크린에 출력하기\n",
    "Zumi의 전면 적외선센서에 물체를 가져다 대보세요. 참과 거짓으로 Zumi가 알려줄 것입니다."
   ]
  },
  {
   "cell_type": "code",
   "execution_count": null,
   "metadata": {},
   "outputs": [],
   "source": [
    "for i in range(50):\n",
    "    front_right = boolean_ir('front', 'R')\n",
    "    front_left = boolean_ir('front', 'L')\n",
    "    \n",
    "    message = \"    IR Boolean        \"\n",
    "    message = message + str(front_right) + \", \" + str(front_left)\n",
    "    screen.draw_text(message)\n",
    "    time.sleep(0.1)\n",
    "    \n",
    "screen.draw_text_center(\"Done!\")"
   ]
  },
  {
   "cell_type": "markdown",
   "metadata": {},
   "source": [
    " "
   ]
  },
  {
   "cell_type": "markdown",
   "metadata": {},
   "source": [
    "<img src=\"image/icon.png\" align='left'> <b> 후면 적외선센서에 물체가 감지되었는지 스크린에 출력해 보세요.</b>"
   ]
  },
  {
   "cell_type": "code",
   "execution_count": null,
   "metadata": {},
   "outputs": [],
   "source": [
    "for i in range(50):\n",
    "    #여기에 코딩해 보세요.\n",
    "    \n",
    "    message = \"    IR Boolean        \"\n",
    "    message = message + str(#여기에 코딩해 보세요.) + \", \" + str(#여기에 코딩해 보세요.)\n",
    "    screen.draw_text(message)\n",
    "    time.sleep(0.1)\n",
    "    \n",
    "screen.draw_text_center(\"Done!\")"
   ]
  },
  {
   "cell_type": "markdown",
   "metadata": {},
   "source": [
    "<img src=\"image/icon.png\" align='left'> <b> 하단 적외선센서에 물체가 감지되었는지 스크린에 출력해 보세요.</b>\n",
    "<br>하단 적외선센서는 선을 따라가거나 테이블에서처럼 Zumi의 아래에 무언가가 있는지 감지하는데 좋습니다.</b>"
   ]
  },
  {
   "cell_type": "code",
   "execution_count": null,
   "metadata": {},
   "outputs": [],
   "source": [
    "for i in range(50):\n",
    "    #여기에 코딩해 보세요.\n",
    "    \n",
    "    message = \"    IR Boolean        \"\n",
    "    message = message + str(#여기에 코딩해 보세요.) + \", \" + str(#여기에 코딩해 보세요.)\n",
    "    screen.draw_text(message)\n",
    "    time.sleep(0.1)\n",
    "    \n",
    "screen.draw_text_center(\"Done!\")"
   ]
  },
  {
   "cell_type": "markdown",
   "metadata": {},
   "source": [
    "<img src=\"image/icon.png\" align='left'> <b> 전면 적외선센서로 가까운 거리(diastance 50이내)의 물체를 감지하도록 해보세요."
   ]
  },
  {
   "cell_type": "code",
   "execution_count": null,
   "metadata": {},
   "outputs": [],
   "source": [
    "for i in range(50):\n",
    "    #여기에 코딩해 보세요.\n",
    "    \n",
    "    message = \"    IR Boolean        \"\n",
    "    message = message + str(#여기에 코딩해 보세요.) + \", \" + str(#여기에 코딩해 보세요.)\n",
    "    screen.draw_text(message)\n",
    "    time.sleep(0.1)\n",
    "    \n",
    "screen.draw_text_center(\"Done!\")"
   ]
  },
  {
   "cell_type": "markdown",
   "metadata": {},
   "source": [
    " "
   ]
  },
  {
   "cell_type": "markdown",
   "metadata": {},
   "source": [
    "#### 전면 적외선센서에 물체가 감지되면 Zumi 눈 뜨기\n",
    "적외선센서와 스크린을 함께 사용하면 마치 Zumi와 대화를 하는 듯한 느낌을 받을 수 있습니다. 코드를 실행하고, 어떻게 동작하는지 확인해 보세요.\n",
    "<br><br>\n",
    "<img src='image/ch5/ir_screen.png' width = 700>"
   ]
  },
  {
   "cell_type": "code",
   "execution_count": null,
   "metadata": {},
   "outputs": [],
   "source": [
    "for i in range(100):\n",
    "    front_right = boolean_ir('front', 'R')\n",
    "    front_left = boolean_ir('front', 'L')\n",
    "    \n",
    "    if front_right == True and front_left == True:\n",
    "        screen.hello()\n",
    "        \n",
    "    else:\n",
    "        screen.close_eyes()"
   ]
  },
  {
   "cell_type": "markdown",
   "metadata": {},
   "source": [
    "<img src=\"image/icon.png\" align='left'> <b> 하단 적외선센서에 물체가 감지되면 놀란 표정, 감지되지 않으면 졸린 표정을 출력해 보세요.</b>"
   ]
  },
  {
   "cell_type": "code",
   "execution_count": null,
   "metadata": {},
   "outputs": [],
   "source": [
    "for i in range(10):\n",
    "    #여기에 코딩해 보세요.\n",
    "    \n",
    "    if #여기에 코딩해 보세요.\n",
    "        screen.sleeping()\n",
    "        \n",
    "    else:\n",
    "        screen.hello()"
   ]
  },
  {
   "cell_type": "markdown",
   "metadata": {},
   "source": [
    "<br>\n",
    "\n",
    "## Step3 : 적외선센서 데이터를 출력하기\n",
    "적외선센서를 다양하게 활용하기 위해서는 적외선센서의 데이터를 알고, 환경변화(물체가 있거나, 감지 거리가 달라지거나)에 따라 달라지는 데이터을 이해해야 할 필요가 있습니다. 이번에는 적외선센서의 데이터를 얻고, 출력하는 방법을 배우겠습니다.\n",
    "\n",
    "### 데이터는 무엇을 의미하나요?\n",
    "적외선센서는 적외선 펄스를 방출하고 물체에서 반사된 적외선을 측정하여 작동합니다. 이 숫자는 0에서 255 사이입니다. 숫자가 작을수록 센서 가까이에 있는 물체가 적외선 광선을 센서로 다시 반사하고 있음을 나타냅니다.\n",
    "\n",
    "\n",
    "Zumi의 적외선센서 데이터를 얻기 위해 `reading_ir()` 명령어를 사용해야 합니다. 아래의 셀을 실행하고, 센서를 덮을 때 Zumi 스크린의 숫자가 변경되는 것을 확인해 보세요.\n",
    "\n",
    "<br>\n",
    "\n",
    "___\n",
    "\n",
    "* zumi.reading_ir(position = 'front', direction = 'left')\n",
    "\n",
    "```\n",
    "* position : 사용하려는 적외선센서를 선택합니다. ('front' :전면, 'back' : 후면, 'bottom'은 하단)\n",
    "* direction : 적외선센서의 좌측 또는 우측을 선택합니다.. 'L'은 왼쪽(Left), 'R'은 오른쪽(Right)입니다.\n",
    "```\n",
    "---\n",
    "\n",
    "<img src='image/ch5/Reading_ir.png' width = 800>"
   ]
  },
  {
   "cell_type": "markdown",
   "metadata": {},
   "source": [
    "#### 전면 적외선센서 데이터를 스크린에 출력하기"
   ]
  },
  {
   "cell_type": "code",
   "execution_count": null,
   "metadata": {},
   "outputs": [],
   "source": [
    "for i in range(100):\n",
    "    front_right = reading_ir('front', 'R')\n",
    "    front_left = reading_ir('front', 'L')\n",
    "    \n",
    "    message = \"    IR readings        \"\n",
    "    message = message + str(front_right) + \", \" + str(front_left)\n",
    "    screen.draw_text(message)\n",
    "    time.sleep(0.1)\n",
    "    \n",
    "screen.draw_text_center(\"Done!\")"
   ]
  },
  {
   "cell_type": "markdown",
   "metadata": {},
   "source": [
    "<img src=\"image/icon.png\" align='left'> <b> 후면 적외선센서 데이터를 스크린에 출력해 보세요."
   ]
  },
  {
   "cell_type": "code",
   "execution_count": null,
   "metadata": {},
   "outputs": [],
   "source": [
    "for i in range(100):\n",
    "    #여기에 코딩해 보세요.\n",
    "    \n",
    "    message = \"    IR readings        \"\n",
    "    message = message + str(#여기에 코딩해 보세요.) + \", \" + str(#여기에 코딩해 보세요.)\n",
    "    screen.draw_text(message)\n",
    "    time.sleep(0.1)\n",
    "    \n",
    "screen.draw_text_center(\"Done!\")"
   ]
  },
  {
   "cell_type": "markdown",
   "metadata": {},
   "source": [
    "<img src=\"image/icon.png\" align='left'> <b>하단 적외선센서 데이터를 스크린에 출력해 보세요."
   ]
  },
  {
   "cell_type": "code",
   "execution_count": null,
   "metadata": {},
   "outputs": [],
   "source": [
    "for i in range(100):\n",
    "    #여기에 코딩해 보세요.\n",
    "    \n",
    "    message = \"    IR readings        \"\n",
    "    message = message + str(#여기에 코딩해 보세요.) + \", \" + str(#여기에 코딩해 보세요.)\n",
    "    screen.draw_text(message)\n",
    "    time.sleep(0.1)\n",
    "    \n",
    "screen.draw_text_center(\"Done!\")"
   ]
  },
  {
   "cell_type": "markdown",
   "metadata": {},
   "source": [
    "#### 적외선센서 데이터를 이용하여 음악 연주하기\n",
    "Zumi와 물체의 거리에 따라 변화되는 적외선센서의 데이터를 확인했나요? 이를 이용하여 Zumi가 음악을 연주하도록 할 수도 있습니다.\n",
    "\n",
    "<img src='image/ch5/ir_buzzer.png'>"
   ]
  },
  {
   "cell_type": "code",
   "execution_count": null,
   "metadata": {},
   "outputs": [],
   "source": [
    "for i in range(200):\n",
    "    front_right = reading_ir('front', 'R')\n",
    "    zumi.play_note(int(front_right/4), 20)\n",
    "    time.sleep(0.05)"
   ]
  },
  {
   "cell_type": "markdown",
   "metadata": {},
   "source": [
    "<br>\n",
    "\n",
    "## Step4 : 장애물 피하기\n",
    "적외선센서에 대해 알아보았으므로, 이제 Zumi가 언제 멈추어야 할지 알아보겠습니다. 자율 주행 자동차는 비상시에 장애물을 피할 수 있어야만 합니다. 실제 자율 주행 자동차는 적외선이 아닌 **LIDAR**(레이저 화상검출 및 거리측정 장비) 및 **RADAR**와 같은 고급 센서를 사용합니다. LIDAR는 레이저광을 사용하여 주위 환경을 발견하고, RADAR는 전파를 사용합니다. 이러한 고급센서가 없어도, Zumi는 여전히 장애물을 피할 수 있습니다.\n",
    "\n",
    "<img src='image/ch5/zumi_ir_detect.jpg' width = 700>\n",
    "<br>\n"
   ]
  },
  {
   "cell_type": "markdown",
   "metadata": {},
   "source": [
    "-----------------------\n",
    "\n",
    "<br>\n",
    "\n",
    "# 의사 코드\n",
    "프로그램을 만들기에 앞서, 이번 프로그램의 `의사 코드(pseudocode)`에 대해 이야기해 보도록 합니다. Zumi는 어떻게 장애물을 피해야 할까요? 먼저 인간이 장애물을 피하는 방법에 대해 생각해 보세요. 만약 장애물이 오른쪽에 있는 경우, 우리는 왼쪽으로 이동합니다. 만약 장애물이 왼쪽에 있는 경우, 우리는 오른쪽으로 이동합니다. 만약 장애물이 바로 앞에 있다면, 우리는 뒤로 돌아가거나 장애물을 빙 돌아 나아갈 것입니다. Zumi는 적외선센서를 사용하여 앞을 보고, 센서에서 읽어온 데이터에 따라 결정을 내릴 것입니다.\n",
    "\n",
    "<br>\n",
    "<b>\n",
    "적외선센서에서 데이터 얻기<br>\n",
    "\n",
    "만약 전면 왼쪽 적외선센서에 물체가 감지되면?<br>\n",
    "Zumi 우회전하기\n",
    "\n",
    "만약 전면 오른쪽 적외선센서에 물체가 감지되면?<br>\n",
    "Zumi 좌회전하기\n",
    "    \n",
    "만약 전면 양쪽 적외선센서에 물체가 감지되면?<br>\n",
    "Zumi 180도 회전하기\n",
    "    \n",
    "그렇지 않으면 Zumi 전진하기\n",
    "</b>\n",
    "\n",
    "<img src='image/ch5/zumi_maze.jpg' width = 400>\n",
    "<br>\n",
    "\n",
    "아래의 셀에는 장애물 피하기 의사 코드를 python의 형태로 변환한 프로그램이 있습니다. 의사 코드를 떠올리며 프로그램을 완성해 봅시다."
   ]
  },
  {
   "cell_type": "code",
   "execution_count": null,
   "metadata": {},
   "outputs": [],
   "source": [
    "try:\n",
    "    for i in range(50):\n",
    "        front_right = reading_ir('front', 'R')\n",
    "        front_left = reading_ir('front', 'L')\n",
    "\n",
    "        if front_left < 100 and front_right < 100:\n",
    "            print(\"something ahead\")\n",
    "            zumi.stop(0)\n",
    "            time.sleep(0.5)\n",
    "            zumi.reverse()\n",
    "            zumi.stop(0)\n",
    "\n",
    "        elif front_left < 100:\n",
    "            print(\"something on left\")\n",
    "            # 여기에 코딩해 보세요.\n",
    "\n",
    "        elif front_right < 100:\n",
    "            print(\"something on right\")\n",
    "            # 여기에 코딩해 보세요.\n",
    "\n",
    "        # 여기에 코딩해 보세요.\n",
    "        time.sleep(0.5)\n",
    "\n",
    "    zumi.stop(0)\n",
    "    \n",
    "except KeyboardInterrupt:\n",
    "    zumi.stop(0)"
   ]
  },
  {
   "cell_type": "markdown",
   "metadata": {},
   "source": [
    "<br>\n",
    "장애물 피하기는 적외선센서에 물체가 감지되면 물체가 있는 방향과 반대로 이동했습니다. 만약, Zumi가 장애물을 따라오면 어떨까요? 마치 한 마리의 강아지가 된 것처럼 나만의 반려동물이 될 수도 있을 겁니다! 한 번 도전해 봅시다!\n",
    "\n",
    "<img src='image/ch5/dog.png' width = 600>"
   ]
  },
  {
   "cell_type": "markdown",
   "metadata": {},
   "source": [
    "<img src=\"image/icon.png\" align='left'> <b> 도전! 강아지 따라오기 놀이"
   ]
  },
  {
   "cell_type": "code",
   "execution_count": null,
   "metadata": {},
   "outputs": [],
   "source": [
    "#여기에 코딩해 보세요."
   ]
  },
  {
   "cell_type": "markdown",
   "metadata": {},
   "source": [
    "<br>\n",
    "\n",
    "\n",
    "### 장애물 피하기(회전 각도를 이용하는 방법)\n",
    "\n",
    "센서에 감지되었을 때 좌회전과 우회전을 하는 대신, 우리는 heading을 +30 또는 -30으로 변경합니다. Zumi가 주행하면서 지속적으로 주위를 확인해야하기 때문에 `go_straight()` 명령어를 사용할 것입니다. 따라서 의사 코드는 다음과 같을 것입니다.\n",
    "\n",
    "___\n",
    "\n",
    "* zumi.go_straight(speed, desired_angle, max_speed=127)\n",
    "\n",
    "```\n",
    "* speed : 주행 속도(0 - 127 사이)\n",
    "* desired_angle : 이동 방향(0은 Zumi 객체가 생성될 때의 방향)\n",
    "* max_speed : 최대 주행 속도(기본값 : 127)\n",
    "```\n",
    "---\n",
    "\n",
    "<br>\n",
    "<b>\n",
    "적외선센서에서 데이터 읽어오기<br>\n",
    "\n",
    "만약 전면 왼쪽 적외선센서에 물체가 감지되면?<br>\n",
    "Zumi 방향을 -30도로 변경하기(우회전)\n",
    "\n",
    "만약 전면 오른쪽 적외선센서에 물체가 감지되면?<br>\n",
    "Zumi 방향을 +30도로 변경하기.(좌회전)\n",
    "    \n",
    "만약 전면 양쪽 적외선센서에 물체가 감지되면?<br>\n",
    "Zumi를 반대 방향으로 180도 회전시키기\n",
    "    \n",
    "Zumi를 현재 설정된 방향(heading)으로 계속 전진시키기\n",
    "</b>\n",
    "\n",
    "의사 코드를 코드로 구현하면 아래와 같이 장애물 피하기를 만들 수 있습니다."
   ]
  },
  {
   "cell_type": "code",
   "execution_count": null,
   "metadata": {},
   "outputs": [],
   "source": [
    "try:\n",
    "    zumi = Zumi()\n",
    "\n",
    "    heading = 0 # 주미 주행 방향(각도)\n",
    "\n",
    "    min_ir_threshold = 100 # 적외선센서 감지 거리\n",
    "    turn_degrees = 30 # 회전 각도\n",
    "\n",
    "    time_start = time.time()\n",
    "    time_elapsed = 0\n",
    "\n",
    "    while time_elapsed < 20:\n",
    "\n",
    "        time_elapsed = time.time()-time_start\n",
    "        front_right = reading_ir('front', 'R')\n",
    "        front_left = reading_ir('front', 'L')\n",
    "\n",
    "        if front_left < min_ir_threshold and front_right < min_ir_threshold:\n",
    "            print(\"something ahead\")\n",
    "            zumi.stop(0)\n",
    "            time.sleep(0.5)\n",
    "            zumi.reverse(40, 0.5, heading)\n",
    "            zumi.stop(0)\n",
    "            time.sleep(0.5)\n",
    "\n",
    "            heading = heading - 180\n",
    "\n",
    "        elif front_right < min_ir_threshold:\n",
    "            print(\"something on right\")\n",
    "            heading = heading + turn_degrees\n",
    "\n",
    "        elif front_left < min_ir_threshold:\n",
    "            print(\"something on left\")\n",
    "            heading = heading - turn_degrees\n",
    "\n",
    "        zumi.go_straight(30, heading, 60)\n",
    "        time.sleep(0.05)\n",
    "\n",
    "    zumi.stop(0)\n",
    "\n",
    "except KeyboardInterrupt:\n",
    "    zumi.stop(0)\n",
    "    print(\"종료 버튼이 눌려져 프로그램을 종료합니다.\")"
   ]
  }
 ],
 "metadata": {
  "kernelspec": {
   "display_name": "Python 3",
   "language": "python",
   "name": "python3"
  },
  "language_info": {
   "codemirror_mode": {
    "name": "ipython",
    "version": 3
   },
   "file_extension": ".py",
   "mimetype": "text/x-python",
   "name": "python",
   "nbconvert_exporter": "python",
   "pygments_lexer": "ipython3",
   "version": "3.6.5"
  }
 },
 "nbformat": 4,
 "nbformat_minor": 2
}
