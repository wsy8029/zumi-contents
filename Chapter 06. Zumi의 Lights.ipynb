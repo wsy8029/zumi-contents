{
 "cells": [
  {
   "cell_type": "markdown",
   "metadata": {},
   "source": [
    "<img src=\"image/Title.png\" width=1000>"
   ]
  },
  {
   "cell_type": "markdown",
   "metadata": {},
   "source": [
    "# Zumi 라이트"
   ]
  },
  {
   "cell_type": "markdown",
   "metadata": {},
   "source": [
    "자동차에 라이트가 있듯이 Zumi에게도 라이트가 있습니다. 자동차의 라이트는 어두운 밤에 불을 밝혀 주기도 하고 상대방에게 신호를 보내서 사고를 예방하고 안전한 운전을 할 수 있게 합니다. 이 챕터에서는 반복문(while)과 제어문(if)으로 Zumi의 라이트를 제어하는 방법을 배우게 됩니다."
   ]
  },
  {
   "cell_type": "markdown",
   "metadata": {},
   "source": [
    "\n",
    "# LED란?\n",
    "\n",
    "LED란 Light Emitting Diode(라이트 이미팅 다이오드)의 약자로서 반도체에 전기를 통해주면 빛이 나는 현상을 이용하여 만들어진 전자부품입니다. 전구와 비슷한 역할을 하지만 전기도 훨씬 적게 소비하고 수명도 반영구적이라 앞으로 더욱 널리 사용될 것이라고 합니다. 우리말로 발광다이오드라고 부르는 이 전자부품은 TV, 비디오, 전자레인지, 휴대폰 등 여러 가전제품의 상태 표시용으로 널리 사용되어왔습니다. 요즘에는 아래 그림과 같이 신호등에서도 사용됩니다.\n",
    "\n",
    "<br>\n",
    "\n",
    "<img src=\"image/ch6/led.jpg\" width=700>\n",
    "\n",
    "<br>\n",
    "<br>\n",
    "\n"
   ]
  },
  {
   "cell_type": "markdown",
   "metadata": {},
   "source": [
    "# 자동차의 라이트\n",
    "\n",
    "자동차에는 전조등, 안개등, 방향지시등과 같이 다양한 라이트가 있습니다. 그리고 라이트마다 역할도 다르기 때문에 상황에 맞게 사용해야 합니다.\n",
    "\n",
    "* <b>전조등</b> : 야간 주행시 전방을 밝혀주는 LED\n",
    "* <b>방향지시등</b> : 좌회전, 우회전 할 때, 상대방에게 신호를 주는 LED\n",
    "* <b>안개등</b> : 날씨로 인해 앞이 흐릴 때, 가까운 전방을 밝혀주는 LED\n",
    "* <b>제동등</b> : 브레이크를 밟을 때, 나타내는 LED\n",
    "* <b>후진등</b> : 후진을 할 때, 나타나는 LED\n",
    "\n",
    "<br>\n",
    "\n",
    "<img src=\"image/ch6/car.jpg\" width=1000>"
   ]
  },
  {
   "cell_type": "markdown",
   "metadata": {},
   "source": [
    "# Zumi의 라이트 사용하기\n",
    "Zumi에는 전조등과 제동등이 장착되어 있습니다.\n",
    "\n",
    "<br>\n",
    "\n",
    "<img src=\"image/ch6/led_board.png\" width=700>"
   ]
  },
  {
   "cell_type": "markdown",
   "metadata": {},
   "source": [
    "## Step 1 : 라이브러리 가져오기\n",
    "Zumi의 LED를 사용하기 위해 라이브러리를 가져 옵니다. <b>만약 이 셀을 실행하지 않으면, 이후의 프로그램은 작동하지 않습니다.<b>"
   ]
  },
  {
   "cell_type": "code",
   "execution_count": null,
   "metadata": {},
   "outputs": [],
   "source": [
    "from zumi.zumi import Zumi\n",
    "from zumi.util.screen import Screen\n",
    "import time\n",
    "from module.IrSensor import boolean_ir\n",
    "\n",
    "zumi = Zumi()\n",
    "screen = Screen()"
   ]
  },
  {
   "cell_type": "markdown",
   "metadata": {},
   "source": [
    "## Step 2 : Zumi 라이트 명령어\n",
    "Zumi는 자동차처럼 라이트를 사용할 수 있는 다양한 명령어가 있습니다.\n",
    "\n",
    "\n",
    "<br>\n",
    "\n",
    "--------\n",
    "\n",
    "* zumi.all_lights_on() : 모든 라이트 켜기\n",
    "* zumi.all_lights_off() : 모든 라이트 끄기\n",
    "<img src='image/ch6/all_light.png' width = 400>\n",
    "\n",
    "<br>\n",
    "\n",
    "--------\n",
    "\n",
    "* zumi.headlights_on() : 전면 라이트 켜기\n",
    "* zumi.headlights_off() : 전면 라이트 끄기\n",
    "<img src='image/ch6/headlight.png' width = 300>\n",
    "\n",
    "<br>\n",
    "\n",
    "--------\n",
    "\n",
    "* zumi.brake_lights_on() : 후면 라이트 켜기\n",
    "* zumi.brake_lights_off() : 후면 라이트 끄기\n",
    "<img src='image/ch6/brake_light.png' width = 300>\n",
    "\n",
    "<br>\n",
    "\n",
    "--------\n",
    "\n",
    "* zumi.hazard_lights_on() : 모든 라이트 깜빡이기\n",
    "* zumi.hazard_lights_off() : 모든 라이트 깜빡이 끄기\n",
    "<img src='image/ch6/hazard.png'>\n",
    "\n",
    "<br>\n",
    "\n",
    "--------\n",
    "\n",
    "* zumi.signal_left_on() : 왼쪽 라이트 깜빡이기\n",
    "* zumi.signal_left_off() : 왼쪽 라이트 깜빡이 끄기\n",
    "<img src='image/ch6/left_signal.png'>\n",
    "\n",
    "<br>\n",
    "\n",
    "--------\n",
    "\n",
    "* zumi.signal_right_on() : 오른쪽 라이트 깜빡이기\n",
    "* zumi.signal_right_off() : 오른쪽 라이트 깜빡이 끄기\n",
    "<img src='image/ch6/right_signal.png'>\n",
    "\n",
    "\n",
    "<br>"
   ]
  },
  {
   "cell_type": "markdown",
   "metadata": {},
   "source": [
    "#### 모든 라이트 켜기"
   ]
  },
  {
   "cell_type": "code",
   "execution_count": null,
   "metadata": {},
   "outputs": [],
   "source": [
    "zumi.all_lights_on()"
   ]
  },
  {
   "cell_type": "markdown",
   "metadata": {},
   "source": [
    "#### 모든 라이트 끄기"
   ]
  },
  {
   "cell_type": "code",
   "execution_count": null,
   "metadata": {},
   "outputs": [],
   "source": [
    "zumi.all_lights_off() "
   ]
  },
  {
   "cell_type": "markdown",
   "metadata": {},
   "source": [
    "<img src=\"image/icon.png\" align='left'> <b>라이트 동작을 자유롭게 코딩해 보세요."
   ]
  },
  {
   "cell_type": "code",
   "execution_count": 1,
   "metadata": {},
   "outputs": [],
   "source": [
    "#여기에 코딩해 보세요."
   ]
  },
  {
   "cell_type": "markdown",
   "metadata": {},
   "source": [
    "<img src=\"image/icon.png\" align='left'> <b>Zumi가 2초 동안 전진하고, 후면 라이트를 켜도록 코딩해 보세요."
   ]
  },
  {
   "cell_type": "code",
   "execution_count": 1,
   "metadata": {},
   "outputs": [],
   "source": [
    "#여기에 코딩해 보세요."
   ]
  },
  {
   "cell_type": "markdown",
   "metadata": {},
   "source": [
    "<img src=\"image/icon.png\" align='left'> <b>Zumi가 왼쪽 깜박이를 켜고 좌회전 하도록 코딩해 보세요."
   ]
  },
  {
   "cell_type": "code",
   "execution_count": 1,
   "metadata": {},
   "outputs": [],
   "source": [
    "#여기에 코딩해 보세요."
   ]
  },
  {
   "cell_type": "markdown",
   "metadata": {},
   "source": [
    "<br>\n",
    "\n",
    "## Step 3 : While을 이용한 Zumi 라이트 켜고 끄기\n",
    "반복문 `While`을 사용하면 조건이 참(True)인 동안 계속해서 Zumi 라이트를 켜고 끌 수 있습니다. 아래의 셀을 실행시켜 Zumi 라이트를 반복해서 켜고 꺼봅시다.\n",
    "\n",
    "<img src='image/ch6/while.png' width = 250>\n",
    "\n",
    "<br>"
   ]
  },
  {
   "cell_type": "markdown",
   "metadata": {},
   "source": [
    "#### 계속해서 전면 라이트 깜빡이기"
   ]
  },
  {
   "cell_type": "code",
   "execution_count": null,
   "metadata": {},
   "outputs": [],
   "source": [
    "while True:\n",
    "    zumi.headlights_on()\n",
    "    screen.draw_text_center('headlights on')\n",
    "    time.sleep(1)\n",
    "    zumi.headlights_off()\n",
    "    screen.draw_text_center('headlights off')\n",
    "    time.sleep(1)"
   ]
  },
  {
   "cell_type": "markdown",
   "metadata": {},
   "source": [
    "무한 반복을 멈추기 위해 중지 아이콘을 누르면 KeyboardInterrupt 에러가 발생합니다. 에러가 발생하지 않고 무한 반복을 멈추기 위해 `try`와 `except`를 사용해야 합니다."
   ]
  },
  {
   "cell_type": "markdown",
   "metadata": {},
   "source": [
    "#### 계속해서 전면 라이트 깜빡이기"
   ]
  },
  {
   "cell_type": "code",
   "execution_count": null,
   "metadata": {},
   "outputs": [],
   "source": [
    "try:    \n",
    "    while True:\n",
    "        zumi.headlights_on()\n",
    "        screen.draw_text_center('headlights on')\n",
    "        time.sleep(1)\n",
    "        zumi.headlights_off()\n",
    "        screen.draw_text_center('headlights off')\n",
    "        time.sleep(1)\n",
    "\n",
    "        \n",
    "except KeyboardInterrupt:\n",
    "    screen.draw_text_center('finish')\n",
    "    time.sleep(3)\n",
    "    zumi.all_lights_off()\n",
    "    screen.clear_display()"
   ]
  },
  {
   "cell_type": "markdown",
   "metadata": {},
   "source": [
    "<img src=\"image/icon.png\" align='left'> <b>Zumi의 원하는 라이트를 계속해서 켜고 끄도록 코딩해 보세요."
   ]
  },
  {
   "cell_type": "code",
   "execution_count": null,
   "metadata": {},
   "outputs": [],
   "source": [
    "try:    \n",
    "    #여기에 코딩해 보세요.\n",
    "        \n",
    "except KeyboardInterrupt:\n",
    "    screen.draw_text_center('finish')\n",
    "    time.sleep(3)\n",
    "    zumi.all_lghts_off()\n",
    "    screen.clear_display()"
   ]
  },
  {
   "cell_type": "markdown",
   "metadata": {},
   "source": [
    "#### Zumi 전면 라이트를 10번 반복해서 켜고 끄기"
   ]
  },
  {
   "cell_type": "code",
   "execution_count": null,
   "metadata": {},
   "outputs": [],
   "source": [
    "count = 1\n",
    "\n",
    "while count < 11:\n",
    "    zumi.headlights_on()\n",
    "    screen.draw_text_center('count : ' + str(count))\n",
    "    time.sleep(1)\n",
    "    zumi.headlights_off()\n",
    "    time.sleep(1)\n",
    "\n",
    "    count += 1\n",
    "    \n",
    "screen.draw_text_center('finish')\n",
    "time.sleep(3)\n",
    "screen.clear_display()"
   ]
  },
  {
   "cell_type": "markdown",
   "metadata": {},
   "source": [
    "<img src=\"image/icon.png\" align='left'> <b>Zumi 전면 또는 후면 라이트를 원하는 만큼 반복해서 켜고 끄도록 코딩해 보세요."
   ]
  },
  {
   "cell_type": "code",
   "execution_count": null,
   "metadata": {},
   "outputs": [],
   "source": [
    "#여기에 코딩해 보세요.\n",
    "\n",
    "screen.draw_text_center('finish')\n",
    "time.sleep(3)\n",
    "screen.clear_display()"
   ]
  },
  {
   "cell_type": "markdown",
   "metadata": {},
   "source": [
    "<br>\n",
    "\n",
    "## Step 4 :  if를 이용한 Zumi 라이트 켜고 끄기\n",
    "조건문 `if`는 조건이 '참(True)'이면 코드를 실행시키고 '거짓(False)'이면 다른 코드를 실행시킬 수 있도록 하는 python의 기능입니다. 조건문 if와 적외선센서를 같이 사용하여 Zumi 라이트를 제어해 봅시다.\n",
    "<br>\n",
    "\n",
    "<img src='image/ch6/if.png' width = 400>\n"
   ]
  },
  {
   "cell_type": "markdown",
   "metadata": {},
   "source": [
    "#### Zumi 전면 오른쪽 적외선센서에 물체가 감지되었을 때, 전면 라이트를 켜기"
   ]
  },
  {
   "cell_type": "code",
   "execution_count": null,
   "metadata": {},
   "outputs": [],
   "source": [
    "count = 0\n",
    "\n",
    "while count < 20:\n",
    "    front_right = boolean_ir('front', 'R')\n",
    "    \n",
    "    if front_right == True:\n",
    "        screen.draw_text_center('Detect')\n",
    "        zumi.headlights_on()\n",
    "        \n",
    "    if front_right == False:\n",
    "        screen.draw_text_center('Not Detect')\n",
    "        zumi.headlights_off()\n",
    "        \n",
    "    time.sleep(0.5)\n",
    "    \n",
    "    count += 1\n",
    "    \n",
    "screen.draw_text_center('finish')\n",
    "time.sleep(3)\n",
    "screen.clear_display()"
   ]
  },
  {
   "cell_type": "markdown",
   "metadata": {},
   "source": [
    "<img src=\"image/icon.png\" align='left'> <b>Zumi 적외선센서에 물체가 감지되었을 때, 원하는 라이트가 켜지도록 코딩해 보세요."
   ]
  },
  {
   "cell_type": "code",
   "execution_count": null,
   "metadata": {},
   "outputs": [],
   "source": [
    "#여기에 코딩해 보세요."
   ]
  },
  {
   "cell_type": "markdown",
   "metadata": {},
   "source": [
    "<img src=\"image/icon.png\" align='left'> <b>키보드 입력을 받아 Zumi가 주행하면서 라이트를 켜도록 자유롭게 동작시켜보세요. \n",
    "    <img src = \"image/ch6/wasd2.png\" width = 800>"
   ]
  },
  {
   "cell_type": "code",
   "execution_count": null,
   "metadata": {},
   "outputs": [],
   "source": [
    "while True:\n",
    "\n",
    "    direction = input(\"Please enter a command: \")\n",
    "\n",
    "    if direction == \"w\":\n",
    "        #여기에 코딩해 보세요.\n",
    "    if direction == \"s\":\n",
    "        #여기에 코딩해 보세요.\n",
    "    if direction == \"a\":\n",
    "        #여기에 코딩해 보세요.\n",
    "    if direction == \"d\":\n",
    "        #여기에 코딩해 보세요.\n",
    "\n",
    "    if direction == \"q\":\n",
    "        break\n",
    "        "
   ]
  },
  {
   "cell_type": "markdown",
   "metadata": {},
   "source": [
    "# 교통신호를 지키면서 안전운전을 해보세요.\n",
    "\n",
    "<img src = \"image/ch6/road_map_Intermediate.jpg\" width=700>"
   ]
  }
 ],
 "metadata": {
  "kernelspec": {
   "display_name": "Python 3",
   "language": "python",
   "name": "python3"
  },
  "language_info": {
   "codemirror_mode": {
    "name": "ipython",
    "version": 3
   },
   "file_extension": ".py",
   "mimetype": "text/x-python",
   "name": "python",
   "nbconvert_exporter": "python",
   "pygments_lexer": "ipython3",
   "version": "3.6.5"
  }
 },
 "nbformat": 4,
 "nbformat_minor": 2
}
