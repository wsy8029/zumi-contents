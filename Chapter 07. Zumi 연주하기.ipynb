{
 "cells": [
  {
   "cell_type": "markdown",
   "metadata": {},
   "source": [
    "<img src=\"image/Title.png\" width=1000>"
   ]
  },
  {
   "cell_type": "markdown",
   "metadata": {},
   "source": [
    "# Zumi 연주하기\n",
    "\n",
    "Zumi는 버저(Buzzer)를 갖고 있으며, 버저를 이용하여 Zumi의 기분이나 상태를 나태를 나타낼 수 있습니다. 이제 python의 연산 기능을 이용하여 Zumi가 연주하기도 하고, 계산을 할 수도 있게 해보겠습니다."
   ]
  },
  {
   "cell_type": "markdown",
   "metadata": {},
   "source": [
    "---------------------------------\n",
    "\n",
    "<br>\n",
    "\n",
    "# 버저(Buzzer)란 무엇일까요?\n",
    "\n",
    "**버저(Buzzer)** 란 전기를 통해주면 '삐~'하고 소리를 내는 전자부품입니다. 버저는 그 내부에 전자석과 진동을 일으키는 판으로 이루어지며, 전자석이 진동판을 아주 빠르게 흔들면서 소리를 발생시키는 원리로 동작됩니다. 버저는 일반 스피커와는 달리 출력하는 주파수가 제한되어 있기 때문에 주로 경보용으로 사용됩니다. 일반적인 예로 버저를 사용하여 만든 화재 경보기는 큰 소리를 내어 경고를 알리는 역할을 합니다.\n",
    "\n",
    "# 버저의 종류\n",
    "* <b>능동버저</b> : 단순한 '삐~' 소리만을 낼 수 있는 버저입니다. 전류가 흐르면 버저에서 소리를 내고 전류가 흐르지 않으면 소리를 내지 않습니다.\n",
    "\n",
    "* <b>수동버저</b> : 주파수에 따라 다양한 소리를 낼 수 있는 버저입니다. 음계를 소리 낼 수 있기 때문에 멜로디를 만들 수 있습니다.(Zumi는 수동 버저를 갖고 있습니다.)\n",
    "\n",
    "<img src=\"image/ch7/buzzer.jpg\" width=200>\n",
    "\n",
    "<br>\n",
    "\n",
    "------------------------------"
   ]
  },
  {
   "cell_type": "markdown",
   "metadata": {},
   "source": [
    "## Step1 : 라이브러리 가져오기\n",
    "\n",
    "Zumi의 버저를 사용하기 위해서는 버저가 소리를 낼수 있게 하는 Note 모듈을 불러와야 합니다. <b>만약 이 셀을 실행하지 않으면, 이후의 프로그램은 작동하지 않습니다.</b>"
   ]
  },
  {
   "cell_type": "code",
   "execution_count": null,
   "metadata": {},
   "outputs": [],
   "source": [
    "from zumi.zumi import Zumi\n",
    "from zumi.util.screen import Screen\n",
    "import time\n",
    "from zumi.protocol import Note\n",
    "from module.IrSensor import reading_ir\n",
    "\n",
    "zumi = Zumi()\n",
    "screen = Screen()"
   ]
  },
  {
   "cell_type": "markdown",
   "metadata": {},
   "source": [
    "<br>\n",
    "\n",
    "## Step2 : Zumi 사운드(Sound)\n",
    "\n",
    "Zumi는 사운드를 연주할 수 있습니다. 사운드는 주파수와 진폭으로 측정할 수 있습니다. 주파수는 초당 진동 또는 펄스의 수이며, 헤르츠 단위로 측정됩니다. 주파수가 높을수록, 음의 높이가 높아집니다. 진폭은 사운드가 얼마나 크거나 작은지를 나타내며, 데시벨로 측정됩니다. 진폭이 높을수록 소리가 커집니다.\n",
    "\n",
    "<br>\n",
    "\n",
    "<img src='image/ch7/sound2.png' width = 800> <br>\n",
    "\n",
    "\n",
    "일반적으로 사람의 나이에 따라 들을 수 있는 주파수의 영역이 다릅니다. [청력 테스트](https://www.youtube.com/watch?v=h5l4Rt4Ol7M)를 클릭해서 청력 테스트를 한번 해보세요.\n",
    "\n",
    "`zumi.play_note()` 를 사용하여 다양한 음표(note)를 재생할 수 있습니다.\n",
    "\n",
    "<br>\n",
    "\n",
    "<img src='image/ch7/sound.png'>\n",
    "\n",
    "<br>\n",
    "\n",
    "___\n",
    "* zumi.play_note(note_type, note_duration)\n",
    "\n",
    "```\n",
    "* note_type : 연주하고자 하는 음(Note)입니다. 정수값으로 0에서 60까지 사용하거나 Note Class로도 사용 가능합니다.\n",
    "\n",
    "Note class: \n",
    "    C2 = 1  CS2 = 2  D2 = 3  DS2 = 4  E2 = 5  F2 = 6  FS2 = 7  G2 = 8  GS2 = 9  A2 = 10 AS2 = 11 B2 = 12 \n",
    "    C3 = 13 CS3 = 14 D3 = 15 DS3 = 16 E3 = 17 F3 = 18 FS3 = 19 G3 = 20 GS3 = 21 A3 = 22 AS3 = 23 B3 = 24    \n",
    "    C4 = 25 CS4 = 26 D4 = 27 DS4 = 28 E4 = 29 F4 = 30 FS4 = 31 G4 = 32 GS4 = 33 A4 = 34 AS4 = 35 B4 = 36 \n",
    "    C5 = 37 CS5 = 38 D5 = 39 DS5 = 40 E5 = 41 F5 = 42 FS5 = 43 G5 = 44 GS5 = 45 A5 = 46 AS5 = 47 B5 = 48 \n",
    "    C6 = 49 CS6 = 50 D6 = 51 DS6 = 52 E6 = 53 F6 = 54 FS6 = 55 G6 = 56 GS6 = 57 A6 = 58 AS6 = 59 B6 = 60\n",
    "    \n",
    "* note_duration : 연주 시간입니다. 정수값으로 0에서 2500까지 입력이 가능하며, 입력하지 않은 경우에는 기본으로 500이 사용됩니다.\n",
    "```\n",
    "---"
   ]
  },
  {
   "cell_type": "markdown",
   "metadata": {},
   "source": [
    "#### 도레미파솔라시도 연주하기"
   ]
  },
  {
   "cell_type": "code",
   "execution_count": null,
   "metadata": {},
   "outputs": [],
   "source": [
    "zumi.play_note(Note.C4)\n",
    "zumi.play_note(Note.D4)\n",
    "zumi.play_note(Note.E4)\n",
    "zumi.play_note(Note.F4)\n",
    "zumi.play_note(Note.G4)\n",
    "zumi.play_note(Note.A4)\n",
    "zumi.play_note(Note.B4)\n",
    "zumi.play_note(Note.C5)"
   ]
  },
  {
   "cell_type": "markdown",
   "metadata": {},
   "source": [
    "<img src=\"image/icon.png\" align='left'> <b> 도레미파솔라시도의 연주 시간을 더 길게 코딩해 보세요."
   ]
  },
  {
   "cell_type": "code",
   "execution_count": null,
   "metadata": {},
   "outputs": [],
   "source": [
    "#여기에 코딩해 보세요."
   ]
  },
  {
   "cell_type": "markdown",
   "metadata": {},
   "source": [
    "#### C4 음표 연주하기"
   ]
  },
  {
   "cell_type": "code",
   "execution_count": null,
   "metadata": {},
   "outputs": [],
   "source": [
    "# Note 클래스\n",
    "zumi.play_note(Note.C4)"
   ]
  },
  {
   "cell_type": "code",
   "execution_count": null,
   "metadata": {},
   "outputs": [],
   "source": [
    "# 정수값\n",
    "zumi.play_note(25)"
   ]
  },
  {
   "cell_type": "markdown",
   "metadata": {},
   "source": [
    "<img src=\"image/icon.png\" align='left'> <b>매개 변수에 Note 클래스와 연주 시간을 자유롭게 입력하여 음표를 연주해 보세요."
   ]
  },
  {
   "cell_type": "code",
   "execution_count": null,
   "metadata": {},
   "outputs": [],
   "source": [
    "#여기에 코딩해 보세요."
   ]
  },
  {
   "cell_type": "markdown",
   "metadata": {},
   "source": [
    "<img src=\"image/icon.png\" align='left'> <b>매개 변수에 정수값과 연주 시간을 자유롭게 입력하여 음표를  연주해 보세요."
   ]
  },
  {
   "cell_type": "code",
   "execution_count": null,
   "metadata": {},
   "outputs": [],
   "source": [
    "#여기에 코딩해 보세요."
   ]
  },
  {
   "cell_type": "markdown",
   "metadata": {},
   "source": [
    "<br>\n",
    "\n",
    "####  happy 멜로디 연주하기"
   ]
  },
  {
   "cell_type": "code",
   "execution_count": null,
   "metadata": {},
   "outputs": [],
   "source": [
    "zumi.play_note(Note.C5, 75)\n",
    "zumi.play_note(Note.G5, 75)\n",
    "zumi.play_note(Note.E5, 75)\n",
    "time.sleep(0.5)"
   ]
  },
  {
   "cell_type": "markdown",
   "metadata": {},
   "source": [
    "#### celebrate 멜로디 연주하기"
   ]
  },
  {
   "cell_type": "code",
   "execution_count": null,
   "metadata": {},
   "outputs": [],
   "source": [
    "time.sleep(0.25)\n",
    "zumi.play_note(48, 100)\n",
    "time.sleep(0.005)\n",
    "zumi.play_note(52, 100)\n",
    "time.sleep(0.005)\n",
    "zumi.play_note(55, 100)\n",
    "time.sleep(0.005)\n",
    "zumi.play_note(55, 100)\n",
    "time.sleep(0.2)\n",
    "zumi.play_note(52, 125)\n",
    "time.sleep(0.005)\n",
    "zumi.play_note(55, 125)"
   ]
  },
  {
   "cell_type": "markdown",
   "metadata": {},
   "source": [
    "#### wake up 멜로디 연주하기"
   ]
  },
  {
   "cell_type": "code",
   "execution_count": null,
   "metadata": {},
   "outputs": [],
   "source": [
    "note = 36\n",
    "tempo = 100\n",
    "\n",
    "zumi.play_note(note, tempo + 20)\n",
    "zumi.play_note(note, tempo)\n",
    "time.sleep(0.1)\n",
    "zumi.play_note(note + 5, tempo)\n",
    "time.sleep(0.1)\n",
    "zumi.play_note(note + 5, tempo)\n",
    "time.sleep(0.05)\n",
    "zumi.play_note(note + 7, tempo)\n",
    "time.sleep(0.15)\n",
    "zumi.play_note(note + 12, tempo)"
   ]
  },
  {
   "cell_type": "markdown",
   "metadata": {},
   "source": [
    "#### calibrating 멜로디 연주하기"
   ]
  },
  {
   "cell_type": "code",
   "execution_count": null,
   "metadata": {},
   "outputs": [],
   "source": [
    "for i in range(3):\n",
    "    tempo = 75\n",
    "    zumi.play_note(Note.G5, tempo)\n",
    "    time.sleep(0.1)\n",
    "    zumi.play_note(Note.G5, tempo)\n",
    "    time.sleep(0.1)\n",
    "    zumi.play_note(Note.D6, tempo)\n",
    "    time.sleep(0.1)\n",
    "    zumi.play_note(Note.D6, tempo)\n",
    "    time.sleep(1.25)"
   ]
  },
  {
   "cell_type": "markdown",
   "metadata": {},
   "source": [
    "<img src=\"image/icon.png\" align='left'> <b> 아래의 Zumi 표정과 어울리는 멜로디를 작곡해 보세요.<br>\n",
    "<img src=\"image/ch7/sleep.jpg\" align='left' width=200>"
   ]
  },
  {
   "cell_type": "code",
   "execution_count": null,
   "metadata": {},
   "outputs": [],
   "source": [
    "#여기에 코딩해 보세요."
   ]
  },
  {
   "cell_type": "markdown",
   "metadata": {},
   "source": [
    "<img src=\"image/icon.png\" align='left'> <b> Zumi의 적외선센서를 이용하여 장애물이 감지되면 위험신호를 알리는 멜로디를 만들어 보세요.<br>"
   ]
  },
  {
   "cell_type": "code",
   "execution_count": null,
   "metadata": {},
   "outputs": [],
   "source": [
    "#여기에 코딩해 보세요."
   ]
  },
  {
   "cell_type": "markdown",
   "metadata": {},
   "source": [
    "<br>\n",
    " \n",
    "## Step3 : 비교, 논리 연산자를 이용한 Zumi 사운드 연주\n"
   ]
  },
  {
   "cell_type": "markdown",
   "metadata": {},
   "source": [
    "먼저, Zumi 적외선센서의 물체 감지 거리에 따라 음을 다르게 연주할 수 있도록 python의 `비교연산자(==, !=, >=, <=, >, <)`를 사용해 봅시다. 비교 연산자를 사용하면 두 값을 서로 비교하여 참인지 거짓인지 알 수 있습니다. 아래의 셀을 실행시켜보세요.<b>\n",
    "                                                                                               <br>\n",
    "<img src = 'image/ch7/ir_distance.png'>"
   ]
  },
  {
   "cell_type": "markdown",
   "metadata": {},
   "source": [
    "#### 전면 오른쪽 적외선센서의 값이 50보다 작으면 C4 연주하기"
   ]
  },
  {
   "cell_type": "code",
   "execution_count": null,
   "metadata": {},
   "outputs": [],
   "source": [
    "for i in range(0,50):\n",
    "      \n",
    "    front_right = reading_ir('front', 'R')\n",
    "    \n",
    "    message = \" Sensor reading         \"\n",
    "    message = message + str(front_right)\n",
    "    screen.draw_text(message)   \n",
    "    \n",
    "    if front_right < 50:\n",
    "        zumi.play_note(Note.C4)\n",
    "        "
   ]
  },
  {
   "cell_type": "markdown",
   "metadata": {},
   "source": [
    "<img src=\"image/icon.png\" align='left'> <b>전면 적외선센서의 물체 감지 거리에 따라 음을 다르게 연주하도록 코딩해 보세요."
   ]
  },
  {
   "cell_type": "code",
   "execution_count": null,
   "metadata": {},
   "outputs": [],
   "source": [
    "for i in range(0,50):\n",
    "      \n",
    "    front_right = reading_ir('front', 'R')\n",
    "    front_left = reading_ir('front', 'L')\n",
    "    \n",
    "    message = \" Sensor reading         \"\n",
    "    message = message + str(front_right)\n",
    "    message = message + \"  \"\n",
    "    message = message + str(front_left)  \n",
    "    screen.draw_text(message)   \n",
    "    \n",
    "    #여기에 코딩해 보세요.\n",
    "        "
   ]
  },
  {
   "cell_type": "markdown",
   "metadata": {},
   "source": [
    "이번에는 python의 `논리연산자(and, or, not)`를 사용하여 Zumi의 적외선센서에 물체가 감지되었을 때 경고음을 내봅시다."
   ]
  },
  {
   "cell_type": "markdown",
   "metadata": {},
   "source": [
    "#### 전면 적외선센서 왼쪽과 오른쪽, 둘 중 하나에 물체가 감지되면 경고음 내기\n",
    "<img src='image/ch7/OR.png'>    "
   ]
  },
  {
   "cell_type": "code",
   "execution_count": null,
   "metadata": {},
   "outputs": [],
   "source": [
    "for i in range(0,50):\n",
    "      \n",
    "    front_right = reading_ir('front', 'R')\n",
    "    front_left = reading_ir('front', 'L')\n",
    "    \n",
    "    message = \" Sensor reading         \"\n",
    "    message = message + str(front_right)\n",
    "    message = message + \"  \"\n",
    "    message = message + str(front_left)  \n",
    "    screen.draw_text(message)   \n",
    "    \n",
    "    if front_right < 100 or front_left < 100: \n",
    "        zumi.play_note(Note.C6)\n",
    "        \n",
    "    time.sleep(1)"
   ]
  },
  {
   "cell_type": "markdown",
   "metadata": {},
   "source": [
    "<img src=\"image/icon.png\" align='left'> <b> 전면 적외선센서의 양쪽에 물체가 감지되면 경고음이 나도록 코딩해 보세요.\n",
    "<img src='image/ch7/And.png' width = 630>    "
   ]
  },
  {
   "cell_type": "code",
   "execution_count": null,
   "metadata": {},
   "outputs": [],
   "source": [
    "for i in range(0,50):\n",
    "      \n",
    "    front_right = reading_ir('front', 'R')\n",
    "    front_left = reading_ir('front', 'L')\n",
    "    \n",
    "    message = \" Sensor reading         \"\n",
    "    message = message + str(front_right)\n",
    "    message = message + \"  \"\n",
    "    message = message + str(front_left)  \n",
    "    screen.draw_text(message)   \n",
    "    \n",
    "    #여기에 코딩해 보세요.\n",
    "        \n",
    "    time.sleep(1)"
   ]
  },
  {
   "cell_type": "markdown",
   "metadata": {},
   "source": [
    "<img src=\"image/icon.png\" align='left'> <b>Not 연산자를 사용하여 전면 적외선센서 왼쪽과 오른쪽, 둘 중 하나에 물체가 감지되면 경고음이 나도록 코딩해 보세요.\n",
    "    \n",
    "<img src='image/ch7/OR.png'>    "
   ]
  },
  {
   "cell_type": "code",
   "execution_count": null,
   "metadata": {},
   "outputs": [],
   "source": [
    "for i in range(0,50):\n",
    "      \n",
    "    front_right = reading_ir('front', 'R')\n",
    "    front_left = reading_ir('front', 'L')\n",
    "    \n",
    "    message = \" Sensor reading         \"\n",
    "    message = message + str(front_right)\n",
    "    message = message + \"  \"\n",
    "    message = message + str(front_left)  \n",
    "    screen.draw_text(message)   \n",
    "    \n",
    "    #여기에 코딩해 보세요.\n",
    "        \n",
    "    time.sleep(1)"
   ]
  },
  {
   "cell_type": "markdown",
   "metadata": {},
   "source": [
    "<br>\n",
    "\n",
    "\n",
    "# Step4 : 산술, 대입 연산자를 이용한 Zumi 계산기\n",
    "\n",
    "우리는 더하기, 빼기, 나누기, 곱하기를 <b>+, -, ÷, ×</b>로 나타냅니다. python에서는 <b>+, -, /, * </b> 로 나타내며 이를 `산술 연산자`라고 합니다. 산술 연산자를 이용하여 Zumi 계산기를 사용해 봅시다."
   ]
  },
  {
   "cell_type": "markdown",
   "metadata": {},
   "source": [
    "--------\n",
    "\n",
    "#### zumi 산술 연산자 계산기 사용법\n",
    "\n",
    " 1. 전면 오른쪽 적외선센서가 감지되면 왼쪽 숫자가 1씩 증가 합니다.\n",
    " 2. 전면 왼쪽 적외선센서가 감지되면 오른쪽 숫자가 1씩 증가 합니다.\n",
    " 3. 전면의 양쪽 적외선센서가 모두 감지되면 연산자가 바뀝니다.\n",
    "\n",
    "\n",
    "-------------\n",
    " \n",
    " <br>\n",
    " \n",
    " <img src='image/ch7/menual.png' width = 700>"
   ]
  },
  {
   "cell_type": "code",
   "execution_count": null,
   "metadata": {},
   "outputs": [],
   "source": [
    "A = 0\n",
    "B = 0\n",
    "operators = 0\n",
    "message =\"\"\n",
    "for i in range(0,50):  \n",
    "        \n",
    "    front_right = reading_ir('front', 'R')\n",
    "    front_left = reading_ir('front', 'L')\n",
    "        \n",
    "    if front_right < 100 and front_left < 100:            \n",
    "            operators = operators + 1  \n",
    "            \n",
    "            if operators > 4:\n",
    "                operators = 0      \n",
    "                \n",
    "    elif front_right < 100:\n",
    "        A = A + 1  \n",
    "    elif front_left < 100:\n",
    "        B = B + 1\n",
    "                \n",
    "    message = \"Arithmetic         \"\n",
    "    message = message + \"Operators              \"\n",
    "    \n",
    "    if operators == 0:\n",
    "        C = A + B\n",
    "        \n",
    "    elif operators == 1:\n",
    "        C = A - B\n",
    "        \n",
    "    elif operators == 2:\n",
    "        C = A * B\n",
    "        \n",
    "    elif operators == 3:        \n",
    "        if B == 0:\n",
    "            C = 0\n",
    "        else :\n",
    "            C = A / B\n",
    "        \n",
    "    elif operators == 4:\n",
    "        if B == 0:\n",
    "            C = 0\n",
    "        else :\n",
    "            C = A % B\n",
    "    \n",
    "    message = message + str(int(C))     \n",
    "    message = message + \" = \"\n",
    "    message = message + str(A)\n",
    "    \n",
    "    if operators == 0:\n",
    "        message = message + \" + \"\n",
    "    elif operators == 1:\n",
    "        message = message + \" - \"\n",
    "    elif operators == 2:\n",
    "        message = message + \" * \"\n",
    "    elif operators == 3:\n",
    "        message = message + \" / \"\n",
    "    elif operators == 4:\n",
    "        message = message + \" % \"\n",
    "        \n",
    "    message = message + str(B)\n",
    "    \n",
    "    screen.draw_text(message)       \n",
    "    time.sleep(1)"
   ]
  },
  {
   "cell_type": "markdown",
   "metadata": {},
   "source": [
    "<br>\n",
    "\n",
    "`대입 연산자`는 대입 연산자는 말 그대로 변수에 값을 대입하는 연산자입니다. 아래의 대입 연산 계산기 셀을 실행시켜 사용해 봅시다.\n",
    "\n",
    "<img src='image/ch7/menual2.png' width = 700>"
   ]
  },
  {
   "cell_type": "code",
   "execution_count": null,
   "metadata": {},
   "outputs": [],
   "source": [
    "A = 0\n",
    "B = 0\n",
    "\n",
    "operators = 0\n",
    "message =\"\"\n",
    "\n",
    "for i in range(0,50):  \n",
    "        \n",
    "    front_right = reading_ir('front', 'R')\n",
    "    front_left = reading_ir('front', 'L')\n",
    "    \n",
    "    if front_right < 100 and front_left < 100:            \n",
    "            operators = operators + 1  \n",
    "            \n",
    "            if operators > 4:\n",
    "                operators = 0      \n",
    "                \n",
    "    elif front_right < 100:\n",
    "        A = A + 1  \n",
    "        \n",
    "    elif front_left < 100:\n",
    "        B = B + 1\n",
    "    \n",
    "    message = \"A\"\n",
    "    message = message + \" = \"\n",
    "    message = message + str(A)\n",
    "    message = message + \"  B = \"\n",
    "    message = message + str(B)\n",
    "    message = message + \"      \"\n",
    "    \n",
    "    message = message + \"A\"    \n",
    "    \n",
    "    if operators == 0:\n",
    "        message = message + \" += \"\n",
    "    elif operators == 1:\n",
    "        message = message + \" -= \"\n",
    "    elif operators == 2:\n",
    "        message = message + \" *= \"\n",
    "    elif operators == 3:\n",
    "        message = message + \" /= \"\n",
    "    elif operators == 4:\n",
    "        message = message + \" %= \"\n",
    "        \n",
    "    message = message + 'B'\n",
    "    message = message + \"              \"\n",
    "    \n",
    "    if operators == 0:\n",
    "        C = A + B\n",
    "        \n",
    "    elif operators == 1:\n",
    "        C = A - B        \n",
    "        \n",
    "    elif operators == 2:\n",
    "        C = A * B        \n",
    "        \n",
    "    elif operators == 3:        \n",
    "        if B == 0:\n",
    "            C = 0\n",
    "        else :\n",
    "            C = A / B        \n",
    "            \n",
    "    elif operators == 4:        \n",
    "        if B == 0:\n",
    "            C = 0\n",
    "        else :\n",
    "            C = A % B\n",
    "            \n",
    "    message = message + 'A value : ' + str(int(C))\n",
    "           \n",
    "    screen.draw_text(message)       \n",
    "    time.sleep(1)"
   ]
  }
 ],
 "metadata": {
  "kernelspec": {
   "display_name": "Python 3",
   "language": "python",
   "name": "python3"
  },
  "language_info": {
   "codemirror_mode": {
    "name": "ipython",
    "version": 3
   },
   "file_extension": ".py",
   "mimetype": "text/x-python",
   "name": "python",
   "nbconvert_exporter": "python",
   "pygments_lexer": "ipython3",
   "version": "3.6.5"
  }
 },
 "nbformat": 4,
 "nbformat_minor": 2
}
