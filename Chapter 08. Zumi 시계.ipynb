{
 "cells": [
  {
   "cell_type": "markdown",
   "metadata": {},
   "source": [
    "<img src=\"image/Title.png\" width=1000>"
   ]
  },
  {
   "cell_type": "markdown",
   "metadata": {},
   "source": [
    "# Zumi 시계\n",
    "Zumi를 이용하면 날짜와 시간을 확인할 수 있습니다. 이번 챕터에서는 python의 기본 라이브러리를 사용해서 컴퓨터에 설정된 시간을 표시하고 Zumi에 아날로그 시계를 표시하는 방법을 배웁니다. 또 온라인에서 시간을 가져와 Zumi에 표시해 봅시다."
   ]
  },
  {
   "cell_type": "markdown",
   "metadata": {},
   "source": [
    "<br>\n",
    "\n",
    "# 그리니치 평균시(GMT)란?\n",
    "지구는 자전하기 때문에 태양의 빛을 받는 국가는 낮이되고 빛을 받지 못하는 국가는 밤이됩니다. 그래서 국가간의 시차가 발생하게 됩니다. 시차로 생긴 불편함 때문에 사람들은 시간의 기준을 정할 필요성을 느끼게 됩니다.<br>\n",
    "\n",
    "<img src='image/ch8/sun.png' width = 600>\n",
    "\n"
   ]
  },
  {
   "cell_type": "markdown",
   "metadata": {},
   "source": [
    "<br>\n",
    "좌표계처럼 세계지도를 <b>경도</b>와 <b>위도</b>로 표시해서 어느 한 위치를 기준점(경도 0도)으로 하면 다른 지역의 시간을 쉽게 알 수 있습니다.\n",
    "\n",
    "<img src='image/ch8/degree.png' width = 600>\n",
    "\n",
    "<br>\n"
   ]
  },
  {
   "cell_type": "markdown",
   "metadata": {},
   "source": [
    "1884년 워싱턴 회의는 영국의 그리니치 천문대를 지나는 자오선을 본초자오선으로 지정하여, 경도의 중심으로 삼았습니다. 자오선이란, 자시와 오시를 뜻하는 것으로 밤 12시와 낮 12시가 시작되는 선을 말합니다. `GMT(Greenwich Mean Time)`은 그리니치 천문대를 기준으로 하는 평균 태양시를 말합니다.<br>\n",
    "<img src='image/ch8/gmt.png' width = 600>\n",
    "\n",
    "<br>"
   ]
  },
  {
   "cell_type": "markdown",
   "metadata": {},
   "source": [
    "그리니치를 기준으로(경도 0도) 동쪽으로 15도마다 1시간씩 시간이 빨라집니다. 베이징은 경도 116도에 있어서 세계시보다 8시간 빠릅니다. 따라서 `GMT+8(그리니치 평균시)`이 됩니다.(서울의 그리니치 평균시는 몇이 될까요? 한 번 생각해 보세요!)\n",
    "\n",
    "<img src='image/ch8/local.png' width = 600>"
   ]
  },
  {
   "cell_type": "markdown",
   "metadata": {},
   "source": [
    "## Step1 : 라이브러리 가져오기\n",
    "\n",
    "Zumi 시계를 만들기 위해 라이브러리를 가져 옵니다. <b>만약 이 셀을 실행하지 않으면, 이후의 프로그램은 작동하지 않습니다."
   ]
  },
  {
   "cell_type": "code",
   "execution_count": null,
   "metadata": {},
   "outputs": [],
   "source": [
    "from zumi.zumi import Zumi\n",
    "from zumi.util.screen import Screen\n",
    "from datetime import datetime\n",
    "from module.Clock import Clock\n",
    "import time\n",
    "\n",
    "zumi = Zumi()\n",
    "screen = Screen()\n",
    "clock = Clock()"
   ]
  },
  {
   "cell_type": "markdown",
   "metadata": {},
   "source": [
    "<br>\n",
    "\n",
    "## Step2 : datetime 명령어\n",
    "현재 Zumi에 설정된 시간을 불러오는 명령어입니다.\n",
    "<br>\n",
    "\n",
    "___\n",
    "* datetime.now() : 현재 시간 출력하기\n",
    "\n",
    "<img src='image/ch8/time.png' width = 500>\n",
    "\n",
    "---"
   ]
  },
  {
   "cell_type": "markdown",
   "metadata": {},
   "source": [
    "#### Zumi 스크린에 시간 출력하기"
   ]
  },
  {
   "cell_type": "code",
   "execution_count": null,
   "metadata": {},
   "outputs": [],
   "source": [
    "now = datetime.now()\n",
    "screen.draw_text(str(now))"
   ]
  },
  {
   "cell_type": "markdown",
   "metadata": {},
   "source": [
    "<img src=\"image/icon.png\" align='left'> <b> 시간이 계속 업데이트 되어 Zumi 스크린에 나타나도록 코딩해 보세요."
   ]
  },
  {
   "cell_type": "code",
   "execution_count": null,
   "metadata": {},
   "outputs": [],
   "source": [
    "try:\n",
    "    #여기에 코딩해 보세요.\n",
    "    \n",
    "except KeyboardInterrupt:\n",
    "    screen.draw_text_center('finish')\n",
    "    time.sleep(3)\n",
    "    screen.clear_display()"
   ]
  },
  {
   "cell_type": "markdown",
   "metadata": {},
   "source": [
    "시간을 시, 분, 초 정수형으로 개별 출력할 수 있습니다. 아래의 셀을 실행시켜 보세요."
   ]
  },
  {
   "cell_type": "code",
   "execution_count": null,
   "metadata": {},
   "outputs": [],
   "source": [
    "now = datetime.now()\n",
    "\n",
    "hour = now.hour\n",
    "print(hour)\n",
    "\n",
    "minute = now.minute\n",
    "print(minute)\n",
    "\n",
    "second = now.second\n",
    "print(second)\n",
    "\n",
    "\n",
    "print(type(hour), type(minute), type(second))"
   ]
  },
  {
   "cell_type": "markdown",
   "metadata": {},
   "source": [
    "<b>시간을 시, 분, 초 문자열 형태로 개별 출력하기</b>"
   ]
  },
  {
   "cell_type": "code",
   "execution_count": null,
   "metadata": {},
   "outputs": [],
   "source": [
    "now = datetime.now()\n",
    "\n",
    "hour = now.strftime(\"%H\")\n",
    "print(hour)\n",
    "\n",
    "minute = now.strftime(\"%M\")\n",
    "print(minute)\n",
    "\n",
    "second = now.strftime(\"%S\")\n",
    "print(second)\n",
    "\n",
    "print(type(hour), type(minute), type(second))"
   ]
  },
  {
   "cell_type": "markdown",
   "metadata": {},
   "source": [
    "또한 연도와 날짜도 문자열 형태로 개별 출력할 수 있습니다."
   ]
  },
  {
   "cell_type": "code",
   "execution_count": null,
   "metadata": {
    "scrolled": true
   },
   "outputs": [],
   "source": [
    "now = datetime.now()\n",
    "\n",
    "year = now.strftime(\"%Y\")\n",
    "print(year)\n",
    "\n",
    "month = now.strftime(\"%m\")\n",
    "print(month)\n",
    "\n",
    "day = now.strftime(\"%d\")\n",
    "print(day)\n",
    "\n",
    "print(type(year), type(month), type(day))"
   ]
  },
  {
   "cell_type": "markdown",
   "metadata": {},
   "source": [
    "<img src=\"image/icon.png\" align='left'> <b>Zumi 스크린에 원하는 시간이나 날짜를 개별적으로 출력해 보세요."
   ]
  },
  {
   "cell_type": "code",
   "execution_count": null,
   "metadata": {},
   "outputs": [],
   "source": [
    "#여기에 코딩해 보세요."
   ]
  },
  {
   "cell_type": "markdown",
   "metadata": {},
   "source": [
    "## Step3 : Zumi 아날로그 시계\n",
    "Zumi 스크린에 아날로그 시계를 표시할 수 있는 명령어가 있습니다.\n",
    "\n",
    "<br>\n",
    "\n",
    "---------\n",
    "\n",
    "clock.on_screen(hour = 2, minute = 1, string = 'NewYork')\n",
    "\n",
    "```\n",
    "* hour : 현재 시\n",
    "* minute : 현재 분\n",
    "* string : Zumi가 화면에 표시할 문자(8글자 이내)\n",
    "\n",
    "```\n",
    "\n",
    "------\n",
    "\n",
    "<img src='image/ch8/clock.png' width = 300>\n"
   ]
  },
  {
   "cell_type": "markdown",
   "metadata": {},
   "source": [
    "#### Zumi 아날로그 시계 표시하기"
   ]
  },
  {
   "cell_type": "code",
   "execution_count": null,
   "metadata": {},
   "outputs": [],
   "source": [
    "clock.on_screen(3,10)"
   ]
  },
  {
   "cell_type": "markdown",
   "metadata": {},
   "source": [
    "<img src=\"image/icon.png\" align='left'> <b>Zumi 아날로그 시계에 원하는 시간과 문구를 자유롭게 표시해 보세요."
   ]
  },
  {
   "cell_type": "code",
   "execution_count": null,
   "metadata": {},
   "outputs": [],
   "source": [
    "#여기에 코딩해 보세요."
   ]
  },
  {
   "cell_type": "markdown",
   "metadata": {},
   "source": [
    "<img src=\"image/icon.png\" align='left'> <b>현재 시간을 불러와 아날로그 시계에 표시해 보세요."
   ]
  },
  {
   "cell_type": "code",
   "execution_count": null,
   "metadata": {},
   "outputs": [],
   "source": [
    "#여기에 코딩해 보세요."
   ]
  },
  {
   "cell_type": "markdown",
   "metadata": {},
   "source": [
    "<img src=\"image/icon.png\" align='left'> <b>아날로그 시계에도 현재 시간이 계속해서 업데이트 되도록 코딩해 보세요."
   ]
  },
  {
   "cell_type": "code",
   "execution_count": null,
   "metadata": {},
   "outputs": [],
   "source": [
    "try:\n",
    "    #여기에 코딩해 보세요.\n",
    "    \n",
    "except KeyboardInterrupt:\n",
    "    screen.draw_text_center('finish')\n",
    "    time.sleep(3)\n",
    "    screen.clear_display()"
   ]
  },
  {
   "cell_type": "markdown",
   "metadata": {},
   "source": [
    "## Step4 : 온라인에서 시간 가져오기\n",
    "정확한 현재 시간을 표시하기 위해 온라인에서 현재 시간을 불러와 Zumi에 표시할 수 있습니다. <b>다음 예제를 실행시키기 전에, Zumi가 온라인 모드인지 확인하세요. 현재 온라인 모드가 아니라면 Zumi의 Wifi를 연결시켜야 합니다.</b>\n",
    "\n"
   ]
  },
  {
   "cell_type": "markdown",
   "metadata": {},
   "source": [
    "#### 온라인에서 시간을 불러오기 위한 라이브러리 가져오기"
   ]
  },
  {
   "cell_type": "code",
   "execution_count": null,
   "metadata": {},
   "outputs": [],
   "source": [
    "import urllib.request\n",
    "import urllib.error\n",
    "from time import localtime, strftime"
   ]
  },
  {
   "cell_type": "markdown",
   "metadata": {},
   "source": [
    "#### Google에서 현재 시간 불러오기(GMT 시간)"
   ]
  },
  {
   "cell_type": "code",
   "execution_count": null,
   "metadata": {},
   "outputs": [],
   "source": [
    "# GMT Time \n",
    "getServerTime = urllib.request.urlopen('http://www.google.com').headers['Date']\n",
    "print(getServerTime)\n",
    "\n",
    "serverDate = time.strptime(getServerTime, '%a, %d %b %Y %H:%M:%S %Z')\n",
    "\n",
    "print(\"연도 : \", serverDate[0])\n",
    "print(\"월 : \", serverDate[1])\n",
    "print(\"일 : \", serverDate[2])\n",
    "print(\"시 : \", serverDate[3])\n",
    "print(\"분 : \", serverDate[4])\n",
    "print(\"초 : \", serverDate[5])\n",
    "print(\"요일 : \", serverDate[6])"
   ]
  },
  {
   "cell_type": "markdown",
   "metadata": {},
   "source": [
    "<img src=\"image/icon.png\" align='left'> <b> Google에서 불러온 시간을 Zumi 아날로그 시계로 표시해 보세요."
   ]
  },
  {
   "cell_type": "code",
   "execution_count": null,
   "metadata": {},
   "outputs": [],
   "source": [
    "#여기에 코딩하세요."
   ]
  }
 ],
 "metadata": {
  "kernelspec": {
   "display_name": "Python 3",
   "language": "python",
   "name": "python3"
  },
  "language_info": {
   "codemirror_mode": {
    "name": "ipython",
    "version": 3
   },
   "file_extension": ".py",
   "mimetype": "text/x-python",
   "name": "python",
   "nbconvert_exporter": "python",
   "pygments_lexer": "ipython3",
   "version": "3.6.5"
  }
 },
 "nbformat": 4,
 "nbformat_minor": 2
}
