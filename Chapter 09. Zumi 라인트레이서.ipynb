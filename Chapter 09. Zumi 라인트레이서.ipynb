{
 "cells": [
  {
   "cell_type": "markdown",
   "metadata": {},
   "source": [
    "<img src=\"image/Title.png\" width=1000>"
   ]
  },
  {
   "cell_type": "markdown",
   "metadata": {},
   "source": [
    "# Zumi 라인트레이서\n",
    "라인트레이서(Line Tracer)는 정해진 주행선을 따라 움직이는 자율이동 로봇으로서 전문용어로 AGV(Automatic Guided Vehicle)라고 불립니다. 라인트레이서의 기본적인 원리는 바닥에 그려진 주행선을 센서로 검출하여 목적 위치까지 선을 따라 이동하는 것입니다. Zumi도 하단 적외선센서를 이용하면 라인트레이서를 할 수 있습니다. 이번 챕터에서 python의 조건문을 이용하여 Zumi로 어떻게 라인을 감지하는지 배워보고 라인트레이서를 만들어 보겠습니다."
   ]
  },
  {
   "cell_type": "markdown",
   "metadata": {},
   "source": [
    "미션 맵 경로 : [라인트레이서 맵](http://localhost:8888/view/%EC%9B%90%EA%B3%A0%EC%9E%91%EC%97%85/%EC%A3%BC%EB%AF%B8%20%ED%95%98%EB%93%9C%EC%9B%A8%EC%96%B4%20%EC%98%88%EC%A0%9C/09%EC%B1%95%ED%84%B0/9ch%20Map.png)\n",
    "\n",
    "<b>(이미지를 다른 이름으로 저장합니다. 용지 사이즈는 A3이고 비율 자동맞춤 관련 설정을 모두 해제하고 출력하세요.)"
   ]
  },
  {
   "cell_type": "markdown",
   "metadata": {},
   "source": [
    "\n",
    "# 라인트레이서의 실생활 활용\n",
    "라인트레이서는 공장에서 물건을 옮기는 무인차에 사용되기도 하고, 컨베이어 벨트나 지게차를 장착하여 여러 산업분야에 많이 쓰이고 있습니다. 또 최근에는 음식점과 같은 서비스업에서 사용하기도 합니다. 아래의 링크를 클릭하여 라인트레이서가 어떻게 사용되는지 동영상을 시청해 봅시다.<br>\n",
    "\n",
    "[산업 라인트레이서](https://www.youtube.com/watch?v=WIlS3vNSuQ4)\n",
    "\n",
    "[서빙 라인트레이서](https://www.youtube.com/watch?v=sJ-FXGD5iJo)\n"
   ]
  },
  {
   "cell_type": "markdown",
   "metadata": {},
   "source": [
    "## Step1 : 라이브러리 가져오기\n",
    "\n",
    "Zumi 라인트레이서를 만들기 위해 라이브러리를 가져 옵니다. <b>만약 이 셀을 실행하지 않으면, 이후의 프로그램은 작동하지 않습니다."
   ]
  },
  {
   "cell_type": "code",
   "execution_count": null,
   "metadata": {},
   "outputs": [],
   "source": [
    "from zumi.zumi import Zumi\n",
    "from zumi.util.screen import Screen\n",
    "import time\n",
    "from module.IrSensor import reading_ir\n",
    "\n",
    "zumi = Zumi()\n",
    "screen = Screen()"
   ]
  },
  {
   "cell_type": "markdown",
   "metadata": {},
   "source": [
    "## Step2 : 도로 주행 중 멈추기\n",
    "`조건문if`를 사용하면 조건이 '참'일 때 코드가 동작하도록 할 수 있습니다. 아래의 셀을 실행시켜 Zumi가 전진하는 동안에 정지선을 발견하면 주행을 멈추도록 해보세요."
   ]
  },
  {
   "cell_type": "markdown",
   "metadata": {},
   "source": [
    "#### 정지선 감지하면 멈추기\n",
    "\n",
    "<br>\n",
    "\n",
    "<img src=\"image/ch9/stop_line.png\">"
   ]
  },
  {
   "cell_type": "code",
   "execution_count": null,
   "metadata": {},
   "outputs": [],
   "source": [
    "zumi = Zumi()\n",
    "\n",
    "while True:\n",
    "    bottom_left = reading_ir('bottom', 'L')\n",
    "    bottom_right = reading_ir('bottom', 'R')\n",
    "    \n",
    "    zumi.go_straight(10, 0)\n",
    "    \n",
    "    if bottom_right > 100  and bottom_left > 100:\n",
    "        zumi.stop(0)\n",
    "        screen.draw_text_center(\"Stop\")\n",
    "        break\n",
    "        \n",
    "time.sleep(3)\n",
    "screen.clear_display()"
   ]
  },
  {
   "cell_type": "markdown",
   "metadata": {},
   "source": [
    "<br>\n",
    "\n",
    "<img src=\"image/icon.png\" align='left'> <b> 실제 자동차처럼 Zumi가 정지선을 감지하면 제동등(brake_lights_on())을 켜도록 코딩해 보세요.\n",
    "<img src=\"image/ch9/stop_brake.png\">"
   ]
  },
  {
   "cell_type": "code",
   "execution_count": null,
   "metadata": {},
   "outputs": [],
   "source": [
    "#여기에 코딩해 보세요."
   ]
  },
  {
   "cell_type": "markdown",
   "metadata": {},
   "source": [
    "<br>\n",
    "\n",
    "<img src=\"image/icon.png\" align='left'> <b> 정지선을 감지하면 오른쪽으로 유턴하도록 코딩해 보세요.(오른쪽으로 유턴하는 명령어 : zumi.right_u_turn(step=6))\n",
    "    \n",
    "\n",
    "<img src=\"image/ch9/Uturn.png\" width = 800>"
   ]
  },
  {
   "cell_type": "code",
   "execution_count": null,
   "metadata": {},
   "outputs": [],
   "source": [
    "#여기에 코딩해 보세요."
   ]
  },
  {
   "cell_type": "markdown",
   "metadata": {},
   "source": [
    "<br>\n",
    "\n",
    "<img src=\"image/icon.png\" align='left'> <b> 정지선을 감지하면 원하는 동작을 하도록 코딩해 보세요.(사운드나 라이트 등 다양한 명령어도 같이 사용해 보세요.)"
   ]
  },
  {
   "cell_type": "code",
   "execution_count": null,
   "metadata": {},
   "outputs": [],
   "source": [
    "#여기에 코딩해 보세요."
   ]
  },
  {
   "cell_type": "markdown",
   "metadata": {},
   "source": [
    "## Step3 : 라인 카운트하기\n",
    "\n",
    "#### 라이브러리 가져오기\n",
    "라인 갯수를 세는 동작을 하기 위해 라이브러리를 가져 옵니다. <b>만약 이 셀을 실행하지 않으면, 이후의 프로그램은 작동하지 않습니다."
   ]
  },
  {
   "cell_type": "code",
   "execution_count": null,
   "metadata": {},
   "outputs": [],
   "source": [
    "from module.LineTrace import crossing_line, counting_line"
   ]
  },
  {
   "cell_type": "markdown",
   "metadata": {},
   "source": [
    "입력한 갯수만큼 라인을 지나가는 명령어입니다.\n",
    "\n",
    "___\n",
    "\n",
    "crossing_line(num_line, motor_speed, ir_threshold)\n",
    "\n",
    "```\n",
    "* num_line : 지나가려는 라인 갯수입니다.\n",
    "* motor_speed : 모터의 회전 속도입니다.(기본값 : 10)\n",
    "* ir_threshold : 적외선센서 기준값입니다.(기본값 : 125)\n",
    "```\n",
    "___\n",
    "\n",
    "<img src=\"image/ch9/crossing.png\" width = 700>"
   ]
  },
  {
   "cell_type": "markdown",
   "metadata": {},
   "source": [
    "#### 라인 4개 지나가기"
   ]
  },
  {
   "cell_type": "code",
   "execution_count": null,
   "metadata": {},
   "outputs": [],
   "source": [
    "crossing_line(4)"
   ]
  },
  {
   "cell_type": "markdown",
   "metadata": {},
   "source": [
    "<img src=\"image/icon.png\" align='left'> <b> 원하는 라인 갯수만큼 지나가도록 코딩해 보세요."
   ]
  },
  {
   "cell_type": "code",
   "execution_count": null,
   "metadata": {},
   "outputs": [],
   "source": [
    "#여기에 코딩해 보세요,"
   ]
  },
  {
   "cell_type": "markdown",
   "metadata": {},
   "source": [
    "<br>\n",
    "원하는 시간동안 지나간 라인의 갯수를 세는 명령어입니다.\n",
    "\n",
    "___\n",
    "\n",
    "counting_line(second, motor_speed, ir_threshold)\n",
    "\n",
    "```\n",
    "* time : 동작 시간입니다.(초 단위)\n",
    "* motor_speed : 모터의 회전 속도입니다.(기본값 : 10)\n",
    "* ir_threshold : 적외선센서 기준값입니다.(기본값 : 125)\n",
    "```\n",
    "___\n",
    "\n",
    "<img src=\"image/ch9/counting.png\" width = 700>"
   ]
  },
  {
   "cell_type": "markdown",
   "metadata": {},
   "source": [
    "#### 2초 동안 라인 카운팅하기"
   ]
  },
  {
   "cell_type": "code",
   "execution_count": null,
   "metadata": {},
   "outputs": [],
   "source": [
    "counting_line(2)"
   ]
  },
  {
   "cell_type": "markdown",
   "metadata": {},
   "source": [
    "<img src=\"image/icon.png\" align='left'> <b> 원하는 시간동안 라인 갯수를 세도록 코딩해 보세요."
   ]
  },
  {
   "cell_type": "code",
   "execution_count": null,
   "metadata": {},
   "outputs": [],
   "source": [
    "#여기에 코딩해 보세요."
   ]
  },
  {
   "cell_type": "markdown",
   "metadata": {},
   "source": [
    "## Step4 : 바코드 읽기\n",
    "굵기가 다른 흑백 막대를 사용해서 상품의 정보를 알려주는 것을 `바코드(barcode)`라고 합니다. Zumi는 선 굵기를 구별하여 바코드를 읽을 수 있습니다. `input count`에 지나갈 바코드 막대의 개수를 입력해주세요.\n"
   ]
  },
  {
   "cell_type": "markdown",
   "metadata": {},
   "source": [
    "#### 선의 굵기 판독하기\n",
    "<img src=\"image/ch9/barcode.png\" width = 600>"
   ]
  },
  {
   "cell_type": "code",
   "execution_count": null,
   "metadata": {},
   "outputs": [],
   "source": [
    "zumi = Zumi()\n",
    "\n",
    "zumi.reset_gyro()\n",
    "heading = 0\n",
    "    \n",
    "line_cnt = 0\n",
    "blackFlag = False\n",
    "time = 0\n",
    "count = int(input(\"input count :\"))\n",
    "length = ''\n",
    "\n",
    "while count > 0:\n",
    "    \n",
    "    bottom_right = reading_ir('bottom', 'R')\n",
    "    \n",
    "    if blackFlag == False:\n",
    "        if bottom_right > 100:\n",
    "            blackFlag = True\n",
    "            \n",
    "    if blackFlag == True:\n",
    "        if bottom_right <50:\n",
    "            if time > 5:\n",
    "                length += 'Long '\n",
    "                \n",
    "            else:\n",
    "                length += 'Short '\n",
    "                \n",
    "            time = 0\n",
    "            count -= 1\n",
    "            blackFlag = False\n",
    "            \n",
    "        time += 1\n",
    "    zumi.go_straight(20, 0)\n",
    "\n",
    "print(length)\n",
    "zumi.stop(0)"
   ]
  },
  {
   "cell_type": "markdown",
   "metadata": {},
   "source": [
    "# 바코드를 등록하고 사용하는 놀이를 해보세요.\n",
    "<img src=\"image/ch9/play barcode.png\" width = 800>"
   ]
  },
  {
   "cell_type": "markdown",
   "metadata": {},
   "source": [
    "### 라이브러리 불러오기\n",
    "바코드 놀이를 하기 위한 라이브러리를 불러옵니다."
   ]
  },
  {
   "cell_type": "code",
   "execution_count": null,
   "metadata": {},
   "outputs": [],
   "source": [
    "from module.Barcode import regist_code, using_code, clear_code"
   ]
  },
  {
   "cell_type": "markdown",
   "metadata": {},
   "source": [
    "#### 바코드 등록하기\n",
    "바코드를 등록합니다. 바코드 칸을 펜이나 마스킹 테이프로 채우고 Zumi를 'Parking'에 두고 아래의 셀을 실행시킵니다. 다른 바코드를 등록하고 싶으면 아래의 셀을 다시 실행시킵니다.(굵은 막대와 짧은 막대를 -(Long), . (short)으로 표기합니다.)\n",
    "\n",
    "* product Name : <font face=\"Courier\">banana</font>  \n"
   ]
  },
  {
   "cell_type": "code",
   "execution_count": null,
   "metadata": {},
   "outputs": [],
   "source": [
    "regist_code()"
   ]
  },
  {
   "cell_type": "markdown",
   "metadata": {},
   "source": [
    "#### 바코드 사용하기\n",
    "Zumi를 다시 'Parking'에 두고 아래의 셀을 실행시켜 바코드가 잘 등록되었는지 확인해 봅니다."
   ]
  },
  {
   "cell_type": "code",
   "execution_count": null,
   "metadata": {},
   "outputs": [],
   "source": [
    "using_code()"
   ]
  },
  {
   "cell_type": "markdown",
   "metadata": {},
   "source": [
    "#### 바코드 전부 지우기\n",
    "등록된 바코드를 전부 지우려면 아래의 셀을 실행시킵니다."
   ]
  },
  {
   "cell_type": "code",
   "execution_count": null,
   "metadata": {},
   "outputs": [],
   "source": [
    "clear_code()"
   ]
  },
  {
   "cell_type": "markdown",
   "metadata": {},
   "source": [
    "## 모터 제어 명령어\n",
    "라인트레이스를 하기 전에 먼저, 모터를 제어하는 명령어를 알아보겠습니다. Zumi의 왼쪽 모터와 오른쪽 모터의 속도 값을 지정해서 주행할 수 있는 `zumi.control_motors()` 명령어가 있습니다.\n",
    "\n",
    "___\n",
    "\n",
    "zumi.control_motors(right = 10, left = 10, acceleration = 0)\n",
    "\n",
    "```\n",
    "* right : 오른쪽 모터의 속도입니다.\n",
    "* left : 왼쪽 모터의 속도입니다.\n",
    "* acceleration : 모터의 가속도 값입니다.(기본값 : 0)\n",
    "```\n",
    "___"
   ]
  },
  {
   "cell_type": "markdown",
   "metadata": {},
   "source": [
    "#### 속도 10으로 전진하기"
   ]
  },
  {
   "cell_type": "code",
   "execution_count": null,
   "metadata": {},
   "outputs": [],
   "source": [
    "for i in range(5):\n",
    "    zumi.control_motors(10,10)\n",
    "    time.sleep(0.5)\n",
    "\n",
    "zumi.stop()"
   ]
  },
  {
   "cell_type": "markdown",
   "metadata": {},
   "source": [
    "위의 셀을 동작시켰을 때, Zumi가 곧바로 전진하지 않고 왼쪽이나 오른쪽으로 곡선 주행을 하나요? 그 이유는 좌우 모터의 RPM(분당 회전수)가 차이가 있어서 곧바로 전진을 하지 못하는 것입니다. 아래의 셀에서 좌우 모터 속도를 변경해 보세요."
   ]
  },
  {
   "cell_type": "markdown",
   "metadata": {},
   "source": [
    "<img src=\"image/icon.png\" align='left'> <b> `zumi.control_motors` 명령어의 매개 변수를 변경하고 곧바로 전진할 수 있도록 코딩해 보세요."
   ]
  },
  {
   "cell_type": "code",
   "execution_count": null,
   "metadata": {},
   "outputs": [],
   "source": [
    "#여기에 코딩해 보세요."
   ]
  },
  {
   "cell_type": "markdown",
   "metadata": {},
   "source": [
    "## Step5 : 라인트레이스 하기\n",
    "Zumi도 라인트레이스를 할 수 있습니다. 라인트레이스를 하는 방법은 2가지가 있습니다. 먼저, 2개의 적외선센서 사이에 라인을 놓고 따라가는 방법이 있습니다. 아래 그림을 참고하세요. 다른 하나의 방법은 잠시 후에 알아보겠습니다. 이제 Zumi를 라인트레이서로 만들어보세요.\n",
    "\n",
    "<img src=\"image/ch9/white_line.png\" width = 600>"
   ]
  },
  {
   "cell_type": "markdown",
   "metadata": {},
   "source": [
    "미션 맵 경로 : [얇은 선 라인트레이서 맵](http://localhost:8888/view/%EC%9B%90%EA%B3%A0%EC%9E%91%EC%97%85/%EC%A3%BC%EB%AF%B8%20%ED%95%98%EB%93%9C%EC%9B%A8%EC%96%B4%20%EC%98%88%EC%A0%9C/09%EC%B1%95%ED%84%B0/9ch%20Map.png)\n",
    "\n",
    "<b>(이미지를 다른 이름으로 저장합니다. 용지 사이즈는 A3이고 비율 자동맞춤 관련 설정을 모두 해제하고 출력하세요.)"
   ]
  },
  {
   "cell_type": "markdown",
   "metadata": {},
   "source": [
    "#### 라인을 사이에 두고 주행하는 라인트레이서 하기"
   ]
  },
  {
   "cell_type": "code",
   "execution_count": null,
   "metadata": {},
   "outputs": [],
   "source": [
    "try:\n",
    "    threshold = 100\n",
    "    turnSpeed = 5\n",
    "    forwardSpeed = 10\n",
    "\n",
    "    while True:   \n",
    "        bottom_left = reading_ir('bottom', 'L') \n",
    "        bottom_right = reading_ir('bottom', 'R')\n",
    "        \n",
    "        if bottom_left < threshold and bottom_right < threshold :      \n",
    "            zumi.control_motors(forwardSpeed,forwardSpeed,0)\n",
    "\n",
    "        elif bottom_left > threshold and bottom_right < threshold :\n",
    "            zumi.control_motors(turnSpeed,0,0)\n",
    "\n",
    "        elif bottom_left < threshold and bottom_right > threshold:\n",
    "            zumi.control_motors(0,turnSpeed,0)\n",
    "\n",
    "        elif bottom_left > threshold :\n",
    "            zumi.control_motors(turnSpeed,0,0)\n",
    "\n",
    "        elif bottom_right > threshold :\n",
    "            zumi.control_motors(0,turnSpeed,0)\n",
    "            \n",
    "except KeyboardInterrupt:\n",
    "    zumi.stop(0)\n",
    "    print(\"The interrupt button was pressed.\")"
   ]
  },
  {
   "cell_type": "markdown",
   "metadata": {},
   "source": [
    "다른 하나의 방법은 2개의 적외선센서를 라인에 두고 따라가는 방법입니다. 아래의 셀을 완성하여 2번째 방법의 라인트레이서를 만들어 보세요."
   ]
  },
  {
   "cell_type": "markdown",
   "metadata": {},
   "source": [
    "<img src=\"image/icon.png\" align='left'> <b> 라인 위에서 주행하는 라인트레이서를 만들어 보세요.\n",
    "    <br>\n",
    "<img src=\"image/ch9/black_line.png\" width = 600>\n",
    "    \n",
    "미션 맵 경로 : [굵은 선 라인트레이서 맵](http://localhost:8888/view/%EC%9B%90%EA%B3%A0%EC%9E%91%EC%97%85/%EC%A3%BC%EB%AF%B8%20%ED%95%98%EB%93%9C%EC%9B%A8%EC%96%B4%20%EC%98%88%EC%A0%9C/09%EC%B1%95%ED%84%B0/9ch%20Map.png)\n",
    "\n",
    "<br>\n",
    "<b>(이미지를 다른 이름으로 저장합니다. 용지 사이즈는 A3이고 비율 자동맞춤 관련 설정을 모두 해제하고 출력하세요.)"
   ]
  },
  {
   "cell_type": "code",
   "execution_count": null,
   "metadata": {},
   "outputs": [],
   "source": [
    "try:\n",
    "    threshold = 100\n",
    "    turnSpeed = 5\n",
    "    forwardSpeed = 10\n",
    "\n",
    "    while True:   \n",
    "        #여기에 코딩해 보세요.\n",
    "            \n",
    "except KeyboardInterrupt:\n",
    "    zumi.stop(0)\n",
    "    print(\"The interrupt button was pressed.\")"
   ]
  },
  {
   "cell_type": "markdown",
   "metadata": {},
   "source": [
    "<img src=\"image/icon.png\" align='left'> <b> 라인트레이스를 하다가 정지선을 만나면 주행을 멈추도록 코딩해 보세요.\n",
    "<img src=\"image/ch9/STOP.png\" width = 300>"
   ]
  },
  {
   "cell_type": "markdown",
   "metadata": {},
   "source": [
    "미션 맵 경로 : [정지선 라인트레이서 맵](http://localhost:8888/view/%EC%9B%90%EA%B3%A0%EC%9E%91%EC%97%85/%EC%A3%BC%EB%AF%B8%20%ED%95%98%EB%93%9C%EC%9B%A8%EC%96%B4%20%EC%98%88%EC%A0%9C/09%EC%B1%95%ED%84%B0/9ch%20Map.png)\n",
    "\n",
    "<br>\n",
    "<b>(이미지를 다른 이름으로 저장합니다. 용지 사이즈는 A3이고 비율 자동맞춤 관련 설정을 모두 해제하고 출력하세요.)"
   ]
  },
  {
   "cell_type": "code",
   "execution_count": null,
   "metadata": {},
   "outputs": [],
   "source": [
    "#여기에 코딩해 보세요."
   ]
  }
 ],
 "metadata": {
  "kernelspec": {
   "display_name": "Python 3",
   "language": "python",
   "name": "python3"
  },
  "language_info": {
   "codemirror_mode": {
    "name": "ipython",
    "version": 3
   },
   "file_extension": ".py",
   "mimetype": "text/x-python",
   "name": "python",
   "nbconvert_exporter": "python",
   "pygments_lexer": "ipython3",
   "version": "3.6.5"
  }
 },
 "nbformat": 4,
 "nbformat_minor": 2
}
