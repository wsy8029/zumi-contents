{
 "cells": [
  {
   "cell_type": "markdown",
   "metadata": {},
   "source": [
    "<img src=\"image/Title.png\" width=1000>"
   ]
  },
  {
   "cell_type": "markdown",
   "metadata": {},
   "source": [
    "# Zumi 모양 그리기\n",
    "\n",
    "모양은 직선 또는 곡선으로 만들어진 2차원 도형입니다. Zumi로 모양을 그린다면 어떤 명령어를 사용해야 할까요? 방향 설정과 각도를 이용해야 할 것이며, 또 특정 동작을 반복해야 할 것입니다.(사각형 내각의 합은 360°이고, 삼각형 내각의 합은 180°입니다.)\n",
    "이번에는 반복문 for를 이용하여 도형을 그리고, Zumi로 제로 카운트 게임을 해보겠습니다.\n",
    "\n",
    "<img src=\"image/ch10/shapes.png\" width=500>"
   ]
  },
  {
   "cell_type": "markdown",
   "metadata": {},
   "source": [
    "## Step 1: 라이브러리 가져오기\n",
    "Zumi의 주행 기능을 가져오기 위해 라이브러리를 가져 옵니다. <b>만약 이 셀을 실행하지 않으면, 이후의 프로그램은 작동하지 않습니다."
   ]
  },
  {
   "cell_type": "code",
   "execution_count": null,
   "metadata": {},
   "outputs": [],
   "source": [
    "from zumi.zumi import Zumi\n",
    "from zumi.util.screen import Screen\n",
    "from module.IrSensor import reading_ir\n",
    "import time\n",
    "\n",
    "\n",
    "zumi = Zumi()\n",
    "screen = Screen()"
   ]
  },
  {
   "cell_type": "markdown",
   "metadata": {},
   "source": [
    "## Step 2: 도형 그리기\n",
    "\n",
    "먼저 사각형 만들기를 해보겠습니다. 정사각형 모양으로 주행을 하려면 오른쪽 또는 왼쪽으로 4번을 회전해야 합니다.\n",
    "\n",
    "<img src =\"image/ch10/square.png\" width = 300>"
   ]
  },
  {
   "cell_type": "markdown",
   "metadata": {},
   "source": [
    "#### 사각형 그리기\n",
    "정사각형은 네 개의 변이 있으므로 동일한 코드를 4번 작성해야 합니다."
   ]
  },
  {
   "cell_type": "code",
   "execution_count": null,
   "metadata": {},
   "outputs": [],
   "source": [
    "zumi.forward()\n",
    "zumi.turn_left()\n",
    "zumi.forward()\n",
    "zumi.turn_left()\n",
    "zumi.forward()\n",
    "zumi.turn_left()\n",
    "zumi.forward()\n",
    "zumi.turn_left()"
   ]
  },
  {
   "cell_type": "markdown",
   "metadata": {},
   "source": [
    "#### <img src=\"image/icon.png\" align='left'> <b> zumi.forward()의 지속 시간을 변경하면 더 큰 사각형을 그릴 수 있습니다. 지속 시간을 자유롭게 변경하여 사각형을 그리도록 코딩해 보세요."
   ]
  },
  {
   "cell_type": "code",
   "execution_count": null,
   "metadata": {},
   "outputs": [],
   "source": [
    "zumi.forward(duration = 2)\n",
    "zumi.turn_left()\n",
    "#여기에 코딩해 보세요."
   ]
  },
  {
   "cell_type": "markdown",
   "metadata": {},
   "source": [
    "### 반복 \n",
    "사각형을 그릴 때 `zumi.forward()`와 `zumi.turn_left()`가 네 번 반복한다는 것을 알 수 있습니다. 이 코드를 더 간결하게 만들기 위해서 반복문을 사용하면 코드의 일부를 반복할 수 있습니다. 이것은 아주 효율적인 방법입니다! 반복문이 없다면 같은 코드를 계속 반복해서 써야 할 것입니다. 반복문 for는 설정한 조건이 만족하는 동안 반복합니다.\n",
    "\n",
    "<img src='image/ch10/for_square.png'>"
   ]
  },
  {
   "cell_type": "markdown",
   "metadata": {},
   "source": [
    "#### 반복문을 이용한 정사각형 그리기\n",
    "반복문 for를 사용하여 사각형 코드를 다시 작성합니다."
   ]
  },
  {
   "cell_type": "code",
   "execution_count": null,
   "metadata": {},
   "outputs": [],
   "source": [
    "for i in range(4):\n",
    "   #여기에 코딩해 보세요."
   ]
  },
  {
   "cell_type": "markdown",
   "metadata": {},
   "source": [
    "### 절대각도로 회전하는 명령어\n",
    "`zumi.turn()`함수를 이용하면 Zumi는 절대각도 위치로 회전합니다.\n",
    "\n",
    "___\n",
    "\n",
    "* zumi.turn(desired_angle)\n",
    "\n",
    "```\n",
    "* desried_angle : 회전 각도입니다.\n",
    "```\n",
    "---\n",
    "\n",
    "<img src=\"image/ch10/turn_func.png\">"
   ]
  },
  {
   "cell_type": "markdown",
   "metadata": {},
   "source": [
    "절대각도 맵 경로 : [절대각도 맵](http://localhost:8888/view/%EC%9B%90%EA%B3%A0%EC%9E%91%EC%97%85/%EC%A3%BC%EB%AF%B8%20%ED%95%98%EB%93%9C%EC%9B%A8%EC%96%B4%20%EC%98%88%EC%A0%9C/10%EC%B1%95%ED%84%B0/image/10chapter%20map.png)\n",
    "\n",
    "<b>(이미지를 다른 이름으로 저장합니다. 용지 사이즈는 A4이고 비율 자동맞춤 관련 설정을 모두 해제하고 출력하세요.)"
   ]
  },
  {
   "cell_type": "markdown",
   "metadata": {},
   "source": [
    "#### Zumi를 240도 위치로 회전시킨 후 90도 위치로 회전시키기"
   ]
  },
  {
   "cell_type": "code",
   "execution_count": null,
   "metadata": {},
   "outputs": [],
   "source": [
    "zumi = Zumi()\n",
    "\n",
    "zumi.turn(240)\n",
    "zumi.turn(90)"
   ]
  },
  {
   "cell_type": "markdown",
   "metadata": {},
   "source": [
    "<img src=\"image/icon.png\" align='left'> <b> Zumi를 자유롭게 절대각도로 회전하도록 코딩해 보세요."
   ]
  },
  {
   "cell_type": "code",
   "execution_count": null,
   "metadata": {},
   "outputs": [],
   "source": [
    "zumi = Zumi()\n",
    "\n",
    "#여기에 코딩해 보세요."
   ]
  },
  {
   "cell_type": "markdown",
   "metadata": {},
   "source": [
    "#### 반복문과 회전 각도를 이용한 정사각형 그리기\n",
    "`zumi.forward()`와 `zumi.turn_left()` 명령어로 그린 사각형은 정확하지 않습니다. Zumi는 사각형을 똑바로 그리며 주행한다고 생각할 수도 있지만 약간의 오차가 있을 수 있습니다. 회전 각도(heading)를 사용하여 같은 사각형을 보다 정확하게 만드는 방법이 있습니다. Zumi가 90도 회전을 시도하는 대신 `zumi.turn()` 명령어를 이용하여 무조건 자이로 스코프에 따라 회전하게 하면 더 정확하게 동작할 수 있습니다."
   ]
  },
  {
   "cell_type": "code",
   "execution_count": null,
   "metadata": {},
   "outputs": [],
   "source": [
    "zumi = Zumi()\n",
    "\n",
    "for angle in range(90, 361, 90):\n",
    "    zumi.forward()\n",
    "    zumi.turn(angle)"
   ]
  },
  {
   "cell_type": "markdown",
   "metadata": {},
   "source": [
    "<img src=\"image/icon.png\" align='left'> <b>반복문을 이용한 삼각형 그리기"
   ]
  },
  {
   "cell_type": "markdown",
   "metadata": {},
   "source": [
    "사각형은 모든 회전이 90도이기 때문에 그리기가 매우 간단합니다. 정삼각형을 그리려면 어떻게 해야 할까요?\n",
    "처음에는 3번의 반복을 위해 60도 회전을 시도해 볼 수 있지만, 이것을 동작해보면 Zumi가 삼각형으로 주행하지 않습니다.<br>"
   ]
  },
  {
   "cell_type": "markdown",
   "metadata": {},
   "source": [
    "### < 힌트 >\n",
    "다각형은 내각의 합은 다르지만 외각의 합은 360도로 모두 동일합니다. 그렇기 때문에 정삼각형의 외각은 120도가 됩니다.(360÷3=120)\n",
    "\n",
    "<br>\n",
    "\n",
    "<img src='image/ch10/hint.png' width=800>"
   ]
  },
  {
   "cell_type": "code",
   "execution_count": null,
   "metadata": {},
   "outputs": [],
   "source": [
    "#힌트를 생각해보며 여기에 코딩해 보세요."
   ]
  },
  {
   "cell_type": "markdown",
   "metadata": {},
   "source": [
    "#### 반복문을 이용한 원 그리기\n",
    "원 모양은 변이 무수히 모여진 모양으로 생각할 수 있습니다. 원을 만들려면 먼저 Zumi가 향하는 각도를 알아야 합니다. 이것은 원의 시작점이 됩니다. 그 다음 0에서 361까지 for문을 실행하여 각도를 4씩 증가시키며 변을 그립니다. "
   ]
  },
  {
   "cell_type": "code",
   "execution_count": null,
   "metadata": {},
   "outputs": [],
   "source": [
    "zumi = Zumi()\n",
    "\n",
    "for angle in range(0, 361, 4):\n",
    "    zumi.go_straight(30, angle)\n",
    "    time.sleep(0.02)\n",
    "zumi.stop(0)"
   ]
  },
  {
   "cell_type": "markdown",
   "metadata": {},
   "source": [
    "<img src=\"image/icon.png\" align='left'> <b> 원의 크기를 바꿔 그릴수도 있습니다.(range의 세 번째 매개변수를 변경해 보세요.)"
   ]
  },
  {
   "cell_type": "code",
   "execution_count": null,
   "metadata": {},
   "outputs": [],
   "source": [
    "#여기에 코딩해 보세요."
   ]
  },
  {
   "cell_type": "markdown",
   "metadata": {},
   "source": [
    "<img src=\"image/icon.png\" align='left'> <b> Zumi가 시계 반대 방향으로 원을 그리도록 코딩해 보세요."
   ]
  },
  {
   "cell_type": "code",
   "execution_count": null,
   "metadata": {},
   "outputs": [],
   "source": [
    "#여기에 코딩해 보세요."
   ]
  },
  {
   "cell_type": "markdown",
   "metadata": {},
   "source": [
    "<br> \n",
    "\n",
    "## Step3: 오각형, 육각형, 팔각형 만들기\n",
    "\n",
    "Zumi로 다양한 모양을 만들 수 있습니다.  오각형, 육각형 또는 팔각형을 만들어 보세요. Zumi에 펜을 부착하고 큰 종이를 이용하여 그림을 그릴 수도 있습니다.\n",
    "<img src=\"image/ch10/shapes2.jpg\" width = 700>"
   ]
  },
  {
   "cell_type": "markdown",
   "metadata": {},
   "source": [
    "#### 오각형 그리기"
   ]
  },
  {
   "cell_type": "code",
   "execution_count": null,
   "metadata": {},
   "outputs": [],
   "source": [
    "zumi = Zumi()\n",
    "\n",
    "for angle in range(72, 361, 72):\n",
    "    zumi.forward()\n",
    "    zumi.turn(angle)"
   ]
  },
  {
   "cell_type": "markdown",
   "metadata": {},
   "source": [
    "<img src=\"image/icon.png\" align='left'> <b>원하는 다각형을 그리도록 코딩해 보세요."
   ]
  },
  {
   "cell_type": "code",
   "execution_count": null,
   "metadata": {},
   "outputs": [],
   "source": [
    "#여기에 코딩해 보세요."
   ]
  },
  {
   "cell_type": "markdown",
   "metadata": {},
   "source": [
    "# 확장활동\n",
    "\n",
    "### 도형의 둘레와 면적\n",
    " 테이프 또는 큰 매트를 사용하여 바닥에 좌표 평면을 만듭니다. Zumi의 시작점을 설정하고 도형을 그린 다음, 도형의 둘레를 측정하고, 면적을 구해보세요!\n",
    " \n",
    "### 변환\n",
    "도형들을 회전, 반사, 변형시켜 그려 보세요.\n",
    " \n",
    " **회전**은 모양이 하나의 중심점을 기준으로 회전하는 것을 의미합니다.<br>\n",
    " **반사**는 모양이 선을 중심으로 뒤집힌 것을 의미합니다.<br>\n",
    " **변형**은 모양의 모든 점이 같은 방향과 거리로 이동함을 의미합니다."
   ]
  },
  {
   "cell_type": "markdown",
   "metadata": {},
   "source": [
    "## Step4: 제로 카운트 게임\n",
    "제로 카운트 게임은 설정한 수부터(예를 들어, 20부터) 마음 속으로 숫자를 세고 0이 되는 순간을 맞추는 게임입니다. 반복문 for를 사용하여 1씩 카운트를 하고, 적외선센서가 감지되면 break문으로 카운트를 중지합니다. 아래의 셀을 실행 시켜 제로 카운트 게임을 해봅시다."
   ]
  },
  {
   "cell_type": "code",
   "execution_count": null,
   "metadata": {},
   "outputs": [],
   "source": [
    "count = 20\n",
    "AcceptableRange = 2\n",
    "screen.clear_display()\n",
    "start_count = 3\n",
    "\n",
    "for i in range(start_count):\n",
    "    screen.draw_text_center(str(start_count), font_size = 30)\n",
    "    start_count -= 1\n",
    "    time.sleep(1)\n",
    "\n",
    "for i in range(0,count+1):\n",
    "    count = count - 1\n",
    "    \n",
    "    screen.draw_text_center('Start Counting…', font_size = 20)\n",
    "    \n",
    "    front_right_ir = reading_ir(\"front\", 'R')\n",
    "    front_left_ir = reading_ir(\"front\", 'L')\n",
    "    \n",
    "    if front_right_ir < 100:\n",
    "        break\n",
    "    if front_left_ir < 100:\n",
    "        break\n",
    "        \n",
    "    time.sleep(1)\n",
    "   \n",
    "if count < 0:\n",
    "    screen.draw_text_center(\"Time over\",font_size=30)        \n",
    "elif count == 0:\n",
    "    screen.draw_text_center(\"Perpect\", font_size=30)\n",
    "elif count <= AcceptableRange:\n",
    "    screen.draw_text_center(str(count),font_size=60)\n",
    "    time.sleep(2)\n",
    "    screen.draw_text_center(\"success\",font_size=30)\n",
    "else:\n",
    "    screen.draw_text_center(str(count),font_size=60)\n",
    "    time.sleep(2)\n",
    "    screen.draw_text_center(\"Too bad\",font_size=30)\n",
    "    \n",
    "time.sleep(3)\n",
    "screen.clear_display()"
   ]
  },
  {
   "cell_type": "markdown",
   "metadata": {},
   "source": [
    "<img src=\"image/icon.png\" align='left'> <b>위의 셀에서 시간(count)을 바꿔서 제로 카운트 게임을 해보세요."
   ]
  },
  {
   "cell_type": "code",
   "execution_count": null,
   "metadata": {},
   "outputs": [],
   "source": [
    "#여기에 코딩해 보세요."
   ]
  },
  {
   "cell_type": "markdown",
   "metadata": {},
   "source": [
    "# 구구단을 외우자\n",
    "\n",
    "구구단을 생각해보면 계속해서 반복되는 범위가 있다는 것을 알 수 있습니다. 파이썬의 반복문 for를 이용하면 일일이 적어야 하는 수고를 덜 수 있습니다. 원하는 구구단을 입력하여 구구단 코딩을 확인해 보세요!\n",
    "\n",
    "* Input number : <font face=\"Courier\">3</font>  "
   ]
  },
  {
   "cell_type": "code",
   "execution_count": null,
   "metadata": {},
   "outputs": [],
   "source": [
    "count = input(\"Input number : \")\n",
    "\n",
    "if 0 < int(count) < 1000:\n",
    "    for i in range(1, 10):\n",
    "        screen.draw_text_center(str(count) + \" x \" + str(i) + \" = \" + str(i*int(count)), font_size=20)\n",
    "        time.sleep(0.5)\n",
    "\n",
    "    time.sleep(3)\n",
    "    screen.clear_display()\n",
    "    \n",
    "else:\n",
    "    print(\"please input range 1~1000\")"
   ]
  }
 ],
 "metadata": {
  "kernelspec": {
   "display_name": "Python 3",
   "language": "python",
   "name": "python3"
  },
  "language_info": {
   "codemirror_mode": {
    "name": "ipython",
    "version": 3
   },
   "file_extension": ".py",
   "mimetype": "text/x-python",
   "name": "python",
   "nbconvert_exporter": "python",
   "pygments_lexer": "ipython3",
   "version": "3.6.5"
  }
 },
 "nbformat": 4,
 "nbformat_minor": 2
}
