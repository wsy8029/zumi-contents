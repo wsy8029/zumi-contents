{
 "cells": [
  {
   "cell_type": "markdown",
   "metadata": {},
   "source": [
    "<img src=\"image/Title.png\" width=1000>"
   ]
  },
  {
   "cell_type": "markdown",
   "metadata": {},
   "source": [
    "# 미로 탈출하기\n",
    "\n",
    "미로는 어지럽게 갈래가 져서, 한 번 들어가면 다시 빠져나오기 어려운 길을 말합니다. python의 배열 구조인 리스트를 이용하여 미로를 그려보고, 또 그곳을 탈출하는 재미를 느껴보세요!"
   ]
  },
  {
   "cell_type": "markdown",
   "metadata": {},
   "source": [
    "## Step 1: 라이브러리 가져오기\n",
    "Zumi로 미로를 그리기 위해 라이브러리를 가져 옵니다. <b>만약 이 셀을 실행하지 않으면, 이후의 프로그램은 작동하지 않습니다."
   ]
  },
  {
   "cell_type": "code",
   "execution_count": null,
   "metadata": {},
   "outputs": [],
   "source": [
    "from zumi.zumi import Zumi\n",
    "from zumi.util.screen import Screen\n",
    "import time\n",
    "import IPython.display\n",
    "from module.Maze import Maze\n",
    "\n",
    "zumi = Zumi()\n",
    "screen = Screen()\n",
    "maze = Maze()"
   ]
  },
  {
   "cell_type": "markdown",
   "metadata": {},
   "source": [
    "## Step 2: 미로 그리기\n",
    "\n",
    "미로를 그리기 위해서는 먼저 python의 배열에 대해 알아야 합니다. python의 배열은 여러 요소를 하나의 묶음으로 관리하고 각 요소간에는 순서가 존재하여 인덱스를 통해 접근하는 방식으로, 리스트(list)와 튜플(tuple)이라는 두 가지 타입이 있습니다. 이 중에서 리스트를 사용하여 아래와 같이 요소를 어떻게 나열하느냐에 따라 다양한 방식으로 사용할 수 있습니다."
   ]
  },
  {
   "cell_type": "markdown",
   "metadata": {},
   "source": [
    "#### 리스트의 1차원 배열\n",
    "Zumi의 알파벳을 요소로 하는 리스트를 만들었습니다. 인덱스가 0부터 시작한다는 것에 주의하며 아래 셀을 실행해 보세요."
   ]
  },
  {
   "cell_type": "code",
   "execution_count": null,
   "metadata": {},
   "outputs": [],
   "source": [
    "list = ['z','u','m','i']\n",
    "print(list[0])\n",
    "print(list[1])\n",
    "print(list[2])\n",
    "print(list[3])\n",
    "print(list)"
   ]
  },
  {
   "cell_type": "markdown",
   "metadata": {},
   "source": [
    "#### 리스트의 2차원 배열\n",
    "1차원 배열은 한 줄로 이루어진 선형 구조로, 미로의 구조(행과 열)를 나타내기에는 적합하지 않습니다. 이런 경우 리스트를 2차원 배열로 만들어야 합니다. \n",
    "<img src=\"image/ch11/maze.png\" width=700>"
   ]
  },
  {
   "cell_type": "code",
   "execution_count": null,
   "metadata": {},
   "outputs": [],
   "source": [
    "list = [\n",
    "    ['z','u','m','i'],\n",
    "    ['l','i','s','t']\n",
    "]\n",
    "print(list[0])\n",
    "print(list[1])\n",
    "print(list[0][0])\n",
    "print(list)"
   ]
  },
  {
   "cell_type": "markdown",
   "metadata": {},
   "source": [
    "위와 같이 중첩된 배열이 2차원 배열이며, 2차원 배열은 1차원 배열 여러 개를 쌓아 놓은 형태로 이해할 수 있습니다. 2차원 배열의 요소를 선택할 때에는 2개의 대괄호를 이용하여 행과 열의 인덱스를 넣습니다."
   ]
  },
  {
   "cell_type": "markdown",
   "metadata": {},
   "source": [
    "#### 리스트의 2차원 배열로 미로 그리기\n",
    "리스트의 요소로 0과 1을 사용하여 미로를 나타낼 수 있습니다. 0은 길을 나타내고, 1은 장애물이나 벽을 나타냅니다.\n",
    "리스트 myMap을 미로 그림으로 나타내려면 `maze.map_generator()`를 사용해야 합니다. maze.map_generator() 명령어는 2차원 배열의 리스트를 미로 이미지로, Zumi 스크린에 그려냅니다. 리스트의 배열은 9행, 13열로 만들어야 합니다."
   ]
  },
  {
   "cell_type": "code",
   "execution_count": null,
   "metadata": {},
   "outputs": [],
   "source": [
    "myMap = [\n",
    "    [1, 1, 0, 1, 1, 1, 1, 1, 1, 1, 1, 1, 1],\n",
    "    [1, 1, 0, 0, 0, 0, 1, 1, 1, 1, 1, 1, 1],\n",
    "    [1, 1, 0, 1, 1, 0, 1, 1, 0, 0, 0, 1, 1],\n",
    "    [1, 1, 0, 1, 1, 0, 1, 1, 0, 1, 0, 1, 1],\n",
    "    [1, 1, 0, 0, 0, 0, 0, 0, 0, 1, 0, 1, 1],\n",
    "    [1, 1, 1, 0, 1, 1, 1, 0, 1, 1, 0, 1, 1],\n",
    "    [1, 1, 1, 0, 1, 1, 1, 0, 1, 1, 0, 1, 1],\n",
    "    [1, 0, 0, 0, 0, 1, 1, 0, 0, 0, 0, 1, 1],\n",
    "    [1, 1, 1, 1, 1, 1, 1, 1, 1, 1, 0, 1, 1]\n",
    "]\n",
    "\n",
    "maze.map_generator(myMap) # Zumi 스크린에 미로를 그립니다."
   ]
  },
  {
   "cell_type": "markdown",
   "metadata": {},
   "source": [
    "<img src=\"image/icon.png\" align='left'> <b>여러분이 원하는 미로를 만들고, Zumi 스크린에 나타내보세요!"
   ]
  },
  {
   "cell_type": "code",
   "execution_count": null,
   "metadata": {},
   "outputs": [],
   "source": [
    "myMap = [\n",
    "    [1, 1, 1, 1, 1, 1, 1, 1, 1, 1, 1, 1, 1],\n",
    "    [1, 1, 1, 1, 1, 1, 1, 1, 1, 1, 1, 1, 1],\n",
    "    [1, 1, 1, 1, 1, 1, 1, 1, 1, 1, 1, 1, 1],\n",
    "    [1, 1, 1, 1, 1, 1, 1, 1, 1, 1, 1, 1, 1],\n",
    "    [1, 1, 1, 1, 1, 1, 1, 1, 1, 1, 1, 1, 1],\n",
    "    [1, 1, 1, 1, 1, 1, 1, 1, 1, 1, 1, 1, 1],\n",
    "    [1, 1, 1, 1, 1, 1, 1, 1, 1, 1, 1, 1, 1],\n",
    "    [1, 1, 1, 1, 1, 1, 1, 1, 1, 1, 1, 1, 1],\n",
    "    [1, 1, 1, 1, 1, 1, 1, 1, 1, 1, 1, 1, 1]\n",
    "]\n",
    "\n",
    "maze.map_generator(myMap) # Zumi 스크린에 미로를 그립니다."
   ]
  },
  {
   "cell_type": "markdown",
   "metadata": {},
   "source": [
    "<br>\n",
    "우리는 Zumi의 스크린에 무엇이든 그려낼 수 있게 되었습니다. 아래 셀을 실행시켜 리스트로 만들 수 있는 다양한 이미지를 확인해 보세요."
   ]
  },
  {
   "cell_type": "markdown",
   "metadata": {},
   "source": [
    "#### 원 그리기"
   ]
  },
  {
   "cell_type": "code",
   "execution_count": null,
   "metadata": {},
   "outputs": [],
   "source": [
    "circle = [\n",
    "    [1, 1, 1, 1, 1, 1, 1, 1, 1 ,1, 1, 1, 1],\n",
    "    [1, 1, 1, 1, 0, 0, 0, 0, 0, 1, 1, 1, 1],\n",
    "    [1, 1, 1, 0, 0, 1, 1, 1, 0, 0, 1, 1, 1],\n",
    "    [1, 1, 1, 0, 1, 1, 1, 1, 1, 0, 1, 1, 1],\n",
    "    [1, 1, 1, 0, 1, 1, 1, 1, 1, 0, 1, 1, 1],\n",
    "    [1, 1, 1, 0, 1, 1, 1, 1, 1, 0, 1, 1, 1],\n",
    "    [1, 1, 1, 0, 0, 1, 1, 1, 0, 0, 1, 1, 1],\n",
    "    [1, 1, 1, 1, 0, 0, 0, 0, 0, 1, 1, 1, 1],\n",
    "    [1, 1, 1, 1, 1, 1, 1, 1, 1, 1, 1, 1, 1]\n",
    "    ]\n",
    "\n",
    "maze.map_generator(circle) "
   ]
  },
  {
   "cell_type": "markdown",
   "metadata": {},
   "source": [
    "#### 하트 그리기"
   ]
  },
  {
   "cell_type": "code",
   "execution_count": null,
   "metadata": {},
   "outputs": [],
   "source": [
    "heart = [\n",
    "    [1, 1, 1, 1, 1, 1, 1, 1, 1, 1, 1, 1, 1],\n",
    "    [1, 1, 1, 0, 0, 1, 1, 1, 0, 0, 1, 1, 1],\n",
    "    [1, 1, 0, 1, 1, 0, 1, 0, 1, 1, 0, 1, 1],\n",
    "    [1, 1, 0, 1, 1, 1, 0, 1, 1, 1, 0, 1, 1],\n",
    "    [1, 1, 0, 1, 1, 1, 1, 1, 1, 1, 0, 1, 1],\n",
    "    [1, 1, 1, 0, 1, 1, 1, 1, 1, 0, 1, 1, 1],\n",
    "    [1, 1, 1, 1, 0, 1, 1, 1, 0, 1, 1, 1, 1],\n",
    "    [1, 1, 1, 1, 1, 0, 1, 0, 1, 1, 1, 1, 1],\n",
    "    [1, 1, 1, 1, 1, 1, 0, 1, 1, 1, 1, 1, 1]\n",
    "]\n",
    "maze.map_generator(heart)"
   ]
  },
  {
   "cell_type": "markdown",
   "metadata": {},
   "source": [
    "#### Zumi 표정 그리기(눈)"
   ]
  },
  {
   "cell_type": "code",
   "execution_count": null,
   "metadata": {},
   "outputs": [],
   "source": [
    "eyes = [\n",
    "    [1, 1, 1, 1, 1, 1, 1, 1, 1, 1, 1, 1, 1],\n",
    "    [1, 1, 0, 0, 1, 1, 1, 1, 1, 0, 0, 1, 1],\n",
    "    [1, 1, 0, 0, 1, 1, 1, 1, 1, 0, 0, 1, 1],\n",
    "    [1, 1, 0, 0, 1, 1, 1, 1, 1, 0, 0, 1, 1],\n",
    "    [1, 1, 0, 0, 1, 1, 1, 1, 1, 0, 0, 1, 1],\n",
    "    [1, 1, 0, 0, 1, 1, 1, 1, 1, 0, 0, 1, 1],\n",
    "    [1, 1, 0, 0, 1, 1, 1, 1, 1, 0, 0, 1, 1],\n",
    "    [1, 1, 0, 0, 1, 1, 1, 1, 1, 0, 0, 1, 1],\n",
    "    [1, 1, 1, 1, 1, 1, 1, 1, 1, 1, 1, 1, 1]\n",
    "]\n",
    "maze.map_generator(eyes)"
   ]
  },
  {
   "cell_type": "markdown",
   "metadata": {},
   "source": [
    "#### Zumi 표정 그리기(윙크)"
   ]
  },
  {
   "cell_type": "code",
   "execution_count": null,
   "metadata": {},
   "outputs": [],
   "source": [
    "wink = [\n",
    "    [1, 1, 1, 1, 1, 1, 1, 1, 1, 1, 1, 1, 1],\n",
    "    [1, 1, 0, 0, 1, 1, 1, 1, 1, 1, 1, 1, 1],\n",
    "    [1, 1, 0, 0, 1, 1, 1, 1, 1, 1, 1, 1, 1],\n",
    "    [1, 1, 0, 0, 1, 1, 1, 1, 1, 1, 1, 1, 1],\n",
    "    [1, 1, 0, 0, 1, 1, 1, 1, 1, 1, 1, 1, 1],\n",
    "    [1, 1, 0, 0, 1, 1, 1, 0, 1, 1, 0, 1, 1],\n",
    "    [1, 1, 0, 0, 1, 1, 1, 0, 1, 1, 0, 1, 1],\n",
    "    [1, 1, 0, 0, 1, 1, 1, 1, 0, 0, 1, 1, 1],\n",
    "    [1, 1, 1, 1, 1, 1, 1, 1, 1, 1, 1, 1, 1]\n",
    "]\n",
    "maze.map_generator(wink)"
   ]
  },
  {
   "cell_type": "markdown",
   "metadata": {},
   "source": [
    "#### Zumi 표정 그리기(잠자기)"
   ]
  },
  {
   "cell_type": "code",
   "execution_count": null,
   "metadata": {},
   "outputs": [],
   "source": [
    "sleep = [\n",
    "    [1, 1, 1, 1, 1, 1, 1, 1, 1, 1, 1, 1, 1],\n",
    "    [1, 1, 1, 1, 1, 1, 1, 1, 1, 1, 1, 1, 1],\n",
    "    [1, 1, 1, 1, 1, 1, 1, 1, 1, 1, 1, 1, 1],\n",
    "    [1, 0, 1, 1, 1, 0, 1, 0, 1, 1, 1, 0, 1],\n",
    "    [1, 0, 1, 1, 1, 0, 1, 0, 1, 1, 1, 0, 1],\n",
    "    [1, 0, 1, 1, 1, 0, 1, 0, 1, 1, 1, 0, 1],\n",
    "    [1, 1, 0, 1, 0, 1, 1, 1, 0, 1, 0, 1, 1],\n",
    "    [1, 1, 1, 0, 1, 1, 1, 1, 1, 0, 1, 1, 1],\n",
    "    [1, 1, 1, 1, 1, 1, 1, 1, 1, 1, 1, 1, 1]\n",
    "]\n",
    "maze.map_generator(sleep)"
   ]
  },
  {
   "cell_type": "markdown",
   "metadata": {},
   "source": [
    "<img src=\"image/icon.png\" align='left'> <b>여러분이 원하는 이미지를 리스트로 만들고, Zumi 스크린에 나타내보세요!"
   ]
  },
  {
   "cell_type": "code",
   "execution_count": null,
   "metadata": {},
   "outputs": [],
   "source": [
    "#여기에 코딩해 보세요."
   ]
  },
  {
   "cell_type": "markdown",
   "metadata": {},
   "source": [
    "## Step 3: 미로 탈출하기\n",
    "\n",
    "`maze.map_generator()` 는 매개 변수의 자리를 비워둘 경우 기본으로 설정된 미로가 나타나도록 되어있습니다. 이번에는 `maze.move_xy()`명령어로 미로를 나타내는 캐릭터(작은 네모로 나타나지만..)를 표시하고 이동시키면서 미로를 탈출하는 코드를 작성해 보겠습니다. maze.move_xy()에는 매개 변수로 x좌표와 y좌표를 입력하여 원하는 위치에 캐릭터를 표시할 수 있습니다. 자, 이제 좌표를 머리 속에 떠올리며 슬기롭게 미로를 빠져나가 보세요!"
   ]
  },
  {
   "cell_type": "code",
   "execution_count": null,
   "metadata": {},
   "outputs": [],
   "source": [
    "maze.map_generator()\n",
    "\n",
    "maze.move_xy(1,0)\n",
    "time.sleep(0.5)\n",
    "\n",
    "maze.move_xy(1,1)\n",
    "time.sleep(0.5)\n",
    "\n",
    "maze.move_xy(1,2)\n",
    "time.sleep(0.5)\n",
    "\n",
    "#미로를 탈출할 수 있도록 여기에 코딩해 보세요."
   ]
  },
  {
   "cell_type": "markdown",
   "metadata": {},
   "source": [
    "<img src=\"image/icon.png\" align='left'> <b>미로 탈출을 성공하였나요? 이번에는 여러분이 작성한 코드로 미로를 만들어, 탈출을 해보세요!"
   ]
  },
  {
   "cell_type": "code",
   "execution_count": null,
   "metadata": {},
   "outputs": [],
   "source": [
    "myMap = [\n",
    "    [1, 1, 1, 1, 1, 1, 1, 1, 1, 1, 1, 1, 1],\n",
    "    [1, 1, 1, 1, 1, 1, 1, 1, 1, 1, 1, 1, 1],\n",
    "    [1, 1, 1, 1, 1, 1, 1, 1, 1, 1, 1, 1, 1],\n",
    "    [1, 1, 1, 1, 1, 1, 1, 1, 1, 1, 1, 1, 1],\n",
    "    [1, 1, 1, 1, 1, 1, 1, 1, 1, 1, 1, 1, 1],\n",
    "    [1, 1, 1, 1, 1, 1, 1, 1, 1, 1, 1, 1, 1],\n",
    "    [1, 1, 1, 1, 1, 1, 1, 1, 1, 1, 1, 1, 1],\n",
    "    [1, 1, 1, 1, 1, 1, 1, 1, 1, 1, 1, 1, 1],\n",
    "    [1, 1, 1, 1, 1, 1, 1, 1, 1, 1, 1, 1, 1]\n",
    "    ]\n",
    "\n",
    "maze.map_generator(myMap) \n",
    "\n",
    "#미로를 탈출할 수 있도록 여기에 코딩해 보세요."
   ]
  },
  {
   "cell_type": "markdown",
   "metadata": {},
   "source": [
    "<img src=\"image/icon.png\" align='left'> <b> 랜덤 미로 탈출하기\n",
    "    \n",
    "계속해서 새로운 미로를 보여준다면 더 재미있겠죠? 그래서 이번에는 랜덤으로 미로가 나타나도록 해보겠습니다. `maze.random_map()` 명령어는 Zumi가 랜덤으로 미로를 만들어내게 합니다. 여러분은 이제 미로를 탈출하는 코드만 작성하면 됩니다! 머리 속의 좌표를 잊지 마세요!"
   ]
  },
  {
   "cell_type": "code",
   "execution_count": null,
   "metadata": {},
   "outputs": [],
   "source": [
    "myMap = maze.random_map()\n",
    "\n",
    "maze.map_generator(myMap)\n",
    "\n",
    "#여기에 코딩해 보세요."
   ]
  },
  {
   "cell_type": "markdown",
   "metadata": {},
   "source": [
    "## Step 4: 1차원 리스트를 활용하여 Zumi 동작시키기\n",
    "1차원 배열 리스트를 이용하여 Zumi 동작을 미리 설정해 두고 차례대로 불러와 동작시킬 수 있습니다. 아래의 셀을 실행시켜 보세요."
   ]
  },
  {
   "cell_type": "markdown",
   "metadata": {},
   "source": [
    "#### Zumi 기본 주행하기"
   ]
  },
  {
   "cell_type": "code",
   "execution_count": null,
   "metadata": {},
   "outputs": [],
   "source": [
    "driveList = ['F', 'B', 'L', 'R', 'B', 'L', 'F', 'L', 'B', 'F']\n",
    "\n",
    "for command in driveList:\n",
    "    if command == 'F':\n",
    "        zumi.forward()\n",
    "    elif command == 'B':\n",
    "        zumi.reverse()\n",
    "    elif command == 'L':\n",
    "        zumi.turn_left()\n",
    "    elif command == 'R':\n",
    "        zumi.turn_right()"
   ]
  },
  {
   "cell_type": "markdown",
   "metadata": {},
   "source": [
    "<img src=\"image/icon.png\" align='left'> <b>리스트를 이용하여 Zumi 라이트를 제어해 봅시다."
   ]
  },
  {
   "cell_type": "code",
   "execution_count": null,
   "metadata": {},
   "outputs": [],
   "source": [
    "#여기에 코딩해 보세요."
   ]
  },
  {
   "cell_type": "markdown",
   "metadata": {},
   "source": [
    "적외선센서의 값을 읽어오는 `reading_ir()` 명령어를 기억하고 있나요? 이 명령어를 사용하면 원하는 위치의 Zumi 적외선센서를 읽어올 수 있었습니다. Zumi에게는 적외선센서를 읽어오는 명령어가 하나 더 있습니다. `zumi.get_all_IR_data()` 명령어를 사용하면 Zumi의 전면, 후면, 하단의 적외선센서의 값을 전부 리스트 형태로 반환합니다.\n",
    "\n",
    "---\n",
    "\n",
    "* zumi.get_all_IR_data()\n",
    "\n",
    "```\n",
    "* 반환 값 : [front right, bottom right, back right, bottom left, back left, front left]\n",
    "```\n",
    "\n",
    "---\n",
    "\n",
    "<img src='image/ch11/ir_index.png' width=700>"
   ]
  },
  {
   "cell_type": "markdown",
   "metadata": {},
   "source": [
    "#### 적외선센서 값 읽어오기"
   ]
  },
  {
   "cell_type": "code",
   "execution_count": null,
   "metadata": {},
   "outputs": [],
   "source": [
    "try:\n",
    "    while True:\n",
    "        ir = zumi.get_all_IR_data()\n",
    "        print(ir)\n",
    "        IPython.display.clear_output(wait=True)\n",
    "        time.sleep(0.1)\n",
    "        \n",
    "except KeyboardInterrupt:\n",
    "    print(\"Done\")"
   ]
  },
  {
   "cell_type": "markdown",
   "metadata": {},
   "source": [
    "리스트로 읽어온 적외선센서의 값은 인덱싱으로 원하는 값만 읽어올 수 있습니다. 아래의 셀을 실행시켜보세요."
   ]
  },
  {
   "cell_type": "markdown",
   "metadata": {},
   "source": [
    "#### 적외선센서 값 인덱싱하기"
   ]
  },
  {
   "cell_type": "code",
   "execution_count": null,
   "metadata": {},
   "outputs": [],
   "source": [
    "try:\n",
    "    while True:\n",
    "        ir = zumi.get_all_IR_data()\n",
    "        front_right = ir[0]\n",
    "        bottom_left = ir[3]\n",
    "        \n",
    "        message = \"    IR readings        \"\n",
    "        message = message + str(front_right) + \", \" + str(bottom_left)\n",
    "        screen.draw_text(message)\n",
    "        time.sleep(0.1)\n",
    "        \n",
    "except KeyboardInterrupt:\n",
    "    print(\"Done\")"
   ]
  },
  {
   "cell_type": "markdown",
   "metadata": {},
   "source": [
    "<img src=\"image/icon.png\" align='left'> <b>`zumi.get_all_IR_data()` 명령어를 이용하여 원하는 위치의 적외선센서 값을 읽어오도록 코딩해 보세요."
   ]
  },
  {
   "cell_type": "code",
   "execution_count": null,
   "metadata": {},
   "outputs": [],
   "source": [
    "try:\n",
    "    #여기에 코딩해 보세요.\n",
    "    \n",
    "except KeyboardInterrupt:\n",
    "    print(\"Done\")"
   ]
  }
 ],
 "metadata": {
  "kernelspec": {
   "display_name": "Python 3",
   "language": "python",
   "name": "python3"
  },
  "language_info": {
   "codemirror_mode": {
    "name": "ipython",
    "version": 3
   },
   "file_extension": ".py",
   "mimetype": "text/x-python",
   "name": "python",
   "nbconvert_exporter": "python",
   "pygments_lexer": "ipython3",
   "version": "3.6.5"
  }
 },
 "nbformat": 4,
 "nbformat_minor": 2
}
