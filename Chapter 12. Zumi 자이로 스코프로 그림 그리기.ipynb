{
 "cells": [
  {
   "cell_type": "markdown",
   "metadata": {},
   "source": [
    "<img src=\"image/Title.png\">"
   ]
  },
  {
   "cell_type": "markdown",
   "metadata": {},
   "source": [
    "## Zumi 자이로 스코프로 그림 그리기\n",
    "\n",
    "Zumi로 주행을 할 때 매개 변수로 각도를 지정하여 왼쪽이나 오른쪽으로 회전하였습니다. 그렇다면 Zumi는 자신이 몇 도를 회전하였는지 어떻게 알 수 있었을까요? 바로 `자이로 스코프` 덕분입니다. Zumi에는 MPU 또는 모션 처리 장치가 장착되어 있으며 직선 주행 및 정확한 회전에 필요한 `자이로 스코프`와 `가속도계` 센서가 있습니다. 이번 챕터에서는 자이로 스코프를 이용하는 방법과 Zumi를 조이스틱처럼 이용하여 그림을 그리는 방법을 배워보겠습니다.\n"
   ]
  },
  {
   "cell_type": "markdown",
   "metadata": {},
   "source": [
    "### 자이로 스코프란?\n",
    "\n",
    "자이로 스코프를 생각할 때는 돌리거나 뒤집는 방향에 관계없이 같은 방향으로 균형을 유지하는 회전 바퀴를 생각해 보세요.(참고영상 : [자이로 스코프](https://www.youtube.com/watch?v=cquvA_IpEsA)) 이것은 운동량 보존으로 설명할 수 있습니다. 이 용어에 대해 들어 본 적은 없지만 일상 생활에서 경험을 해봤을 것입니다. 예를 들어, 의자를 돌려 회전 한 적이 있다면 팔과 다리를 넣을 때 더 빠르게 회전하는 것을 알 수 있습니다. 운동량 보존 때문에 질량(팔과 다리)을 내 몸에 더 밀착시키면 속도가 증가합니다.\n",
    "\n",
    "<img src=\"image/ch12/gyroscope.png\" width=400>\n",
    "\n",
    "전자 제품에서의 자이로 스코프는 조금 다릅니다. 전자 제품에서의 자이로 스코프는 방향 변화를 감지하기 위해 사용하는 작은 칩입니다. 로봇의 경우 회전 속도를 측정하는 장치입니다. 자이로 스코프는 Zumi의 회전 각도를 계산하기 위해 회전 속도가 필요하기 때문에 중요합니다. 여기에서 여러분들은 Zumi가 얼마나 많이 회전했는지 알아내기 위해 왜 회전 속도가 필요한지 그 이유가 궁금할 것입니다. 여러분들이 차안에 있을 때 거리를 계산하는 방법을 생각해보세요. 만약 Zumi가 2.5시간 동안 시간당 50마일의 속도로 가고 있었다면, Zumi는 얼마나 이동했을까요?<br>\n",
    "<br>\n",
    "50에 2.5를 곱하면 125마일을 얻습니다. 따라서 거리를 얻으려면 이동한 시간에 속도를 곱하면 됩니다.<br>\n",
    "<br>\n",
    "이 논리를 이용하면, 여러분들은 회전에 걸린 시간 및 자이로 스코프에 의해 제공되어지는 회전 속도 두 개를 바탕으로 Zumi가 얼마나 많은 각도로 “이동”했는지 확인할 수 있습니다.\n"
   ]
  },
  {
   "cell_type": "markdown",
   "metadata": {},
   "source": [
    "## Step 1: 라이브러기 가져오기\n",
    "zumi의 자이로 스코프를 사용하기 위해 라이브러리를 가져 옵니다. <b>만약 이 셀을 실행하지 않으면, 이 후의 프로그램은 작동하지 않습니다."
   ]
  },
  {
   "cell_type": "code",
   "execution_count": null,
   "metadata": {},
   "outputs": [],
   "source": [
    "from zumi.zumi import Zumi\n",
    "from zumi.util.screen import Screen\n",
    "import IPython.display\n",
    "from module.GyroSensor import reading_gyro\n",
    "import time\n",
    "\n",
    "zumi = Zumi()\n",
    "screen = Screen()"
   ]
  },
  {
   "cell_type": "markdown",
   "metadata": {},
   "source": [
    "## Step 2: 자이로 스코프의 값 측정하기\n",
    "\n",
    "회전 속도를 측정하는데 사용할 수 있는 축이 두 개 이상 있습니다. 중심 축은 왼쪽과 오른쪽으로 회전하기 위한 것이지만, 만약 Zumi가 앞뒤로 기울거나 왼쪽 혹은 오른쪽으로 기우는 경우에도 측정하는 용도로 사용 가능합니다."
   ]
  },
  {
   "cell_type": "markdown",
   "metadata": {},
   "source": [
    "`reading_gyro()` 명령어를 이용하면 자이로 스코프의 값을 읽어올 수 있습니다.\n",
    "___\n",
    "* reading_gyro(axis = 'x')\n",
    "\n",
    "```\n",
    "* axis : 회전할 중심축('x' : X중심축, 'y' : Y중심축, 'z' : Z중심축)\n",
    "```\n",
    "\n",
    "---\n",
    "\n",
    "<img src='image/ch12/axis.png' width = 800>"
   ]
  },
  {
   "cell_type": "markdown",
   "metadata": {},
   "source": [
    "#### 자이로 스코프의 X축 값 출력하기"
   ]
  },
  {
   "cell_type": "code",
   "execution_count": null,
   "metadata": {},
   "outputs": [],
   "source": [
    "for i in range(50):\n",
    "    gyro_x = int(reading_gyro('x'))\n",
    "    message = \" X Angle reading        \"\n",
    "    message = message + str(gyro_x)\n",
    "    screen.draw_text(message)\n",
    "    time.sleep(0.1)\n",
    "    \n",
    "print(\"Done\")\n",
    "screen.draw_text(\"  Done\")"
   ]
  },
  {
   "cell_type": "markdown",
   "metadata": {},
   "source": [
    "<img src='image/icon.png' align = 'left'> <b>Zumi를 왼쪽으로 기울이면 왼쪽 라이트 깜빡이를 켜고 오른쪽으로 기울이면 오른쪽 라이트 깜빡이를 켜도록 코딩해 보세요."
   ]
  },
  {
   "cell_type": "code",
   "execution_count": null,
   "metadata": {},
   "outputs": [],
   "source": [
    "#여기에 코딩해 보세요."
   ]
  },
  {
   "cell_type": "markdown",
   "metadata": {},
   "source": [
    "#### 자이로 스코프의 y축 값 출력하기"
   ]
  },
  {
   "cell_type": "code",
   "execution_count": null,
   "metadata": {},
   "outputs": [],
   "source": [
    "for i in range(50):\n",
    "    gyro_y = int(reading_gyro('y'))\n",
    "    message = \" Y  Angle reading        \"\n",
    "    message = message + str(gyro_y)\n",
    "    screen.draw_text(message)\n",
    "    time.sleep(0.1)\n",
    "    \n",
    "print(\"Done\")\n",
    "screen.draw_text(\"  Done\")"
   ]
  },
  {
   "cell_type": "markdown",
   "metadata": {},
   "source": [
    "<img src='image/icon.png' align = 'left'> <b> Zumi를 앞으로 기울이면 후진하고 뒤로 기울이면 전진하도록 코딩해 보세요."
   ]
  },
  {
   "cell_type": "code",
   "execution_count": null,
   "metadata": {},
   "outputs": [],
   "source": [
    "#여기에 코딩해 보세요."
   ]
  },
  {
   "cell_type": "markdown",
   "metadata": {},
   "source": [
    "#### 자이로 스코프의 z축 값 출력하기"
   ]
  },
  {
   "cell_type": "code",
   "execution_count": null,
   "metadata": {},
   "outputs": [],
   "source": [
    "for i in range(50):\n",
    "    gyro_z = int(reading_gyro('z'))\n",
    "    message = \" Z Angle reading        \"\n",
    "    message = message + str(gyro_z)\n",
    "    screen.draw_text(message)\n",
    "    time.sleep(0.1)\n",
    "    \n",
    "print(\"Done\")\n",
    "screen.draw_text(\"  Done\")"
   ]
  },
  {
   "cell_type": "markdown",
   "metadata": {},
   "source": [
    "<img src='image/icon.png' align = 'left'> <b>Zumi를 시계 반대방향으로 회전하면 낮은 음의 버저를 소리내고 시계 방향으로 회전하면 높은 음의 버저를 소리내도록 코딩해 보세요. "
   ]
  },
  {
   "cell_type": "code",
   "execution_count": null,
   "metadata": {},
   "outputs": [],
   "source": [
    "#여기에 코딩해 보세요."
   ]
  },
  {
   "cell_type": "markdown",
   "metadata": {},
   "source": [
    "X, Y, Z 축에 해당하는 방향을 이해하였나요?<br>\n",
    "\n",
    "-\t첫 번째 셀은 X축을 읽습니다. 이것은 다른 이름으로 <b>롤(roll)</b>이라고 불립니다. 롤은 오른쪽 또는 왼쪽 기울기를 담당합니다.\n",
    "-\t두 번째 셀은 Y축을 읽습니다. 이것은 다른 이름으로 <b>피치(pitch)</b>라고 불립니다. 피치는 앞 또는 뒤 기울기를 담당합니다.\n",
    "-\t마지막 셀은 Z축을 읽습니다. 이것은 다른 이름으로 <b>요(yaw)</b>라고 불립니다. 요는 좌우 선회를 담당합니다.\n",
    "\n",
    "\n",
    "<img src=\"image/ch12/roll_pitch_yaw.png\" width=400>"
   ]
  },
  {
   "cell_type": "markdown",
   "metadata": {},
   "source": [
    "만약 각도의 오차가 큰 경우, 자이로 스코프의 값을 재보정 할 수 있습니다. 경우에 따라서는 자이로 스코프의 값을 수동으로 재설정해야 하는 경우도 있다는 점을 참고하세요."
   ]
  },
  {
   "cell_type": "markdown",
   "metadata": {},
   "source": [
    "#### 자이로 스코프 재보정하기"
   ]
  },
  {
   "cell_type": "code",
   "execution_count": null,
   "metadata": {},
   "outputs": [],
   "source": [
    "zumi.mpu.calibrate_MPU()\n",
    "\n",
    "# 수동으로 재보정하기\n",
    "zumi.angle_list = [0,0,0,0,0,0,0,0,0,0]"
   ]
  },
  {
   "cell_type": "markdown",
   "metadata": {},
   "source": [
    "<img src='image/icon.png' align = 'left'> <b> 자이로 스코프를 재보정한 후 다시 자이로 스코프의 값을 출력하고 값이 어떻게 바뀌었는지 확인해 보세요."
   ]
  },
  {
   "cell_type": "code",
   "execution_count": null,
   "metadata": {},
   "outputs": [],
   "source": [
    "#여기에 코딩해 보세요."
   ]
  },
  {
   "cell_type": "markdown",
   "metadata": {},
   "source": [
    "## 인간 각도기 게임\n",
    "Zumi를 들고 정면을 바라봅니다. 그리고 눈을 감은 후 왼쪽이나 오른쪽으로 몸을 돌립니다. 자신이 몇 도를 회전했는지 예상해보고 Zumi를 통해서 자신이 예상한 각도와 일치하는지 확인해 보세요."
   ]
  },
  {
   "cell_type": "markdown",
   "metadata": {},
   "source": [
    "## Step 3: 자이로 스코프를 이용한 그림 그리기\n",
    "자이로 스코프를 조이스틱처럼 사용하여 기울이는 방향에 따라 그림을 그릴 수 있습니다."
   ]
  },
  {
   "cell_type": "markdown",
   "metadata": {},
   "source": [
    "#### 라이브러리 불러오기\n",
    "zumi의 자이로 스코프로 그림을 그리기 위해 라이브러리를 가져 옵니다. <b>만약 이 셀을 실행하지 않으면, 이 후의 프로그램은 작동하지 않습니다."
   ]
  },
  {
   "cell_type": "code",
   "execution_count": null,
   "metadata": {},
   "outputs": [],
   "source": [
    "from module.GyroSensor import GyroDraw\n",
    "\n",
    "gyroDraw = GyroDraw()"
   ]
  },
  {
   "cell_type": "markdown",
   "metadata": {},
   "source": [
    "#### 자이로 스코프의 값에 따라 Zumi 스크린 좌표에 표시하기 \n",
    "<img src=\"image/ch12/draw_axis.png\">"
   ]
  },
  {
   "cell_type": "code",
   "execution_count": null,
   "metadata": {},
   "outputs": [],
   "source": [
    "# Zumi 스크린에 좌표계를 그립니다.\n",
    "gyroDraw.draw_crossline()\n",
    "\n",
    "try:\n",
    "    while True:\n",
    "        angle = gyroDraw.get_angle()\n",
    "        \n",
    "        # 자이로 스코프의 값을 Zumi 스크린 좌표 값으로 변환해 줍니다.\n",
    "        changeX = gyroDraw.scale_change(angle[0], -90, 90, 0, 128)\n",
    "        changeY = gyroDraw.scale_change(angle[1], -90, 90, 64, 0)\n",
    "\n",
    "        IPython.display.clear_output(wait=True)\n",
    "        print(angle[0], angle[1], changeX, changeY)\n",
    "        \n",
    "        # Zumi 스크린에 사각형 점을 표시합니다.\n",
    "        gyroDraw.draw_xy(changeX, changeY)\n",
    "\n",
    "except KeyboardInterrupt:\n",
    "        gyroDraw.clear_screen()"
   ]
  },
  {
   "cell_type": "markdown",
   "metadata": {},
   "source": [
    "#### Zumi를 기울이는 방향에 따라 그림 그리기\n",
    "<img src=\"image/ch12/drawing.png\">"
   ]
  },
  {
   "cell_type": "code",
   "execution_count": null,
   "metadata": {},
   "outputs": [],
   "source": [
    "midX = 64 #zumi 스크린의 중심 x좌표\n",
    "midY = 32 #zumi 스크린의 중심 y좌표\n",
    "\n",
    "try:\n",
    "    while True:\n",
    "        #자이로 스코프의 x, y 값의 이전 좌표와 현재 좌표를 비교하여 그림을 그릴 좌표를 반환합니다.\n",
    "        pen = gyroDraw.pen_xy()\n",
    "        \n",
    "        # Zumi 스크린에 사각형 점을 표시합니다.\n",
    "        gyroDraw.draw_xy(pen[0] + midX, pen[1] + midY)\n",
    "\n",
    "except KeyboardInterrupt:\n",
    "    gyroDraw.clear_screen()"
   ]
  }
 ],
 "metadata": {
  "kernelspec": {
   "display_name": "Python 3",
   "language": "python",
   "name": "python3"
  },
  "language_info": {
   "codemirror_mode": {
    "name": "ipython",
    "version": 3
   },
   "file_extension": ".py",
   "mimetype": "text/x-python",
   "name": "python",
   "nbconvert_exporter": "python",
   "pygments_lexer": "ipython3",
   "version": "3.6.5"
  }
 },
 "nbformat": 4,
 "nbformat_minor": 2
}
