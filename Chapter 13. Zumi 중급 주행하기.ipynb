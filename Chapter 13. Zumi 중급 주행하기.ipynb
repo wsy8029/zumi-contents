{
 "cells": [
  {
   "cell_type": "markdown",
   "metadata": {},
   "source": [
    "<img src=\"image/Title.png\" width=1000>"
   ]
  },
  {
   "cell_type": "markdown",
   "metadata": {},
   "source": [
    "# Zumi 중급 주행하기\n",
    "\n",
    "앞서 Zumi로 기본 주행하는 방법을 배웠습니다. 이번 챕터에서는 Zumi가 실제 자율주행 자동차처럼 주행하는 방법에 대해 알아보겠습니다. 그리고 python의 튜플과 딕셔너리를 이용하여 중급 주행 명령어의 매개 변수들을 변경해 봅시다.\n",
    "\n",
    "<img src=\"image/ch13/road_map_Intermediate.jpg\" width= 700>\n",
    "\n",
    "중급주행 맵 경로 : [중급주행 맵1](http://localhost:8888/view/%EC%9B%90%EA%B3%A0%EC%9E%91%EC%97%85/%EC%A3%BC%EB%AF%B8%20%ED%95%98%EB%93%9C%EC%9B%A8%EC%96%B4%20%EC%98%88%EC%A0%9C/10%EC%B1%95%ED%84%B0/image/10chapter%20map.png)\n",
    "[중급주행 맵2](http://localhost:8888/view/%EC%9B%90%EA%B3%A0%EC%9E%91%EC%97%85/%EC%A3%BC%EB%AF%B8%20%ED%95%98%EB%93%9C%EC%9B%A8%EC%96%B4%20%EC%98%88%EC%A0%9C/10%EC%B1%95%ED%84%B0/image/10chapter%20map.png)\n",
    "[중급주행 맵3](http://localhost:8888/view/%EC%9B%90%EA%B3%A0%EC%9E%91%EC%97%85/%EC%A3%BC%EB%AF%B8%20%ED%95%98%EB%93%9C%EC%9B%A8%EC%96%B4%20%EC%98%88%EC%A0%9C/10%EC%B1%95%ED%84%B0/image/10chapter%20map.png)\n",
    "[중급주행 맵4](http://localhost:8888/view/%EC%9B%90%EA%B3%A0%EC%9E%91%EC%97%85/%EC%A3%BC%EB%AF%B8%20%ED%95%98%EB%93%9C%EC%9B%A8%EC%96%B4%20%EC%98%88%EC%A0%9C/10%EC%B1%95%ED%84%B0/image/10chapter%20map.png)<br>\n",
    "\n",
    "<b>(이미지를 다른 이름으로 저장합니다. 용지 사이즈는 A3이고 비율 자동맞춤 관련 설정을 모두 해제하고 출력하세요. 4개의 맵을 이어 붙입니다.)\n"
   ]
  },
  {
   "cell_type": "markdown",
   "metadata": {},
   "source": [
    "## Step 1: 라이브러리 가져오기\n",
    "Zumi의 주행 기능을 가져오기 위해 라이브러리를 가져 옵니다. <b>만약 이 셀을 실행하지 않으면, 이후의 프로그램은 작동하지 않습니다."
   ]
  },
  {
   "cell_type": "code",
   "execution_count": null,
   "metadata": {},
   "outputs": [],
   "source": [
    "from zumi.zumi import Zumi\n",
    "import time\n",
    "\n",
    "zumi = Zumi()"
   ]
  },
  {
   "cell_type": "markdown",
   "metadata": {},
   "source": [
    "## Step 2: 중급 주행하기\n",
    "\n",
    "zumi.forward()에 대해 배운 것을 기억하나요? `zumi.forward()`는 1초 동안 40의 속도로 주행하도록 기본값이 설정되어 있지만, 이러한 값들을 변경할 수 있습니다. 아래에 모든 중급 주행 명령어와 그 명령어의 매개 변수가 나열 되어 있습니다.. 만약 `zumi.right_u_turn()`과 같은 이름으로 함수를 호출한다면, Zumi는 기본 매개 변수 값으로 유턴을 수행합니다. 그러나 `zumi.forward()`와 마찬가지로, 여러분들은 매개 변수를 원하는 값으로 얼마든지 변경할 수 있습니다."
   ]
  },
  {
   "cell_type": "markdown",
   "metadata": {},
   "source": [
    "#### 시계 방향 U턴 명령어\n",
    "___\n",
    "\n",
    "* zumi.right_u_turn(speed=30, step=4, delay=0.02)\n",
    "\n",
    "```\n",
    "* speed : 주행 속도입니다.\n",
    "* step : 각도 단계 크기(0 - 180사이)입니다.\n",
    "* delay : 각 각도 단계 사이의 지연 시간입니다.\n",
    "```\n",
    "---\n",
    "\n",
    "#### 반시계 방향 U턴 명령어\n",
    "___\n",
    "\n",
    "* zumi.left_u_turn(speed=30, step=4, delay=0.02)\n",
    "\n",
    "```\n",
    "* speed : 주행 속도입니다.\n",
    "* step : 각도 단계 크기(0 - 180사이)입니다.\n",
    "* delay : 각 각도 단계 사이의 지연 시간입니다.\n",
    "```\n",
    "---\n",
    "\n",
    "<img src='image/ch13/u_turn_tot.png'>"
   ]
  },
  {
   "cell_type": "markdown",
   "metadata": {},
   "source": [
    "#### 오른쪽으로 U턴 하기"
   ]
  },
  {
   "cell_type": "code",
   "execution_count": null,
   "metadata": {},
   "outputs": [],
   "source": [
    "zumi.right_u_turn()"
   ]
  },
  {
   "cell_type": "markdown",
   "metadata": {},
   "source": [
    "#### 왼쪽으로 U턴 하기"
   ]
  },
  {
   "cell_type": "code",
   "execution_count": null,
   "metadata": {},
   "outputs": [],
   "source": [
    "zumi.left_u_turn()"
   ]
  },
  {
   "cell_type": "markdown",
   "metadata": {},
   "source": [
    "#### <img src=\"image/icon.png\" align='left'> <b>주행 맵 도로 위에서 Zumi가 U턴 할 수 있도록 알맞게 매개 변수를 변경하여 코딩해 보세요.\n",
    "<img src='image/ch13/left_uturn.png' width=500>"
   ]
  },
  {
   "cell_type": "code",
   "execution_count": null,
   "metadata": {},
   "outputs": [],
   "source": [
    "#여기에 코딩해 보세요."
   ]
  },
  {
   "cell_type": "markdown",
   "metadata": {},
   "source": [
    "<br>\n",
    "\n",
    "#### 원형 주행 명령어\n",
    "___\n",
    "\n",
    "* zumi.circle(speed=30, step=2, direction=1 ,delay=0.02)\n",
    "\n",
    "```\n",
    "* speed : 주행 속도입니다.\n",
    "* step : 각도 단계 크기(0 - 360사이)입니다.\n",
    "* direction : 시계방향은 -1, 반시계방향은 +1입니다.\n",
    "* delay : 각 각도 단계 사이의 지연 시간입니다.\n",
    "```\n",
    "---\n",
    "\n",
    "#### 시계 방향 원형 주행 명령어\n",
    "\n",
    "___\n",
    "\n",
    "* zumi.right_circle(speed=30, step=2)\n",
    "\n",
    "```\n",
    "* speed : 주행 속도입니다.\n",
    "* step : 각도 단계 크기(0 - 360사이)입니다.\n",
    "```\n",
    "---\n",
    "\n",
    "#### 반시계 방향 원형 주행 명령어\n",
    "___\n",
    "\n",
    "* zumi.left_circle(speed=30, step=2)\n",
    "\n",
    "```\n",
    "* speed : 주행 속도입니다.\n",
    "* step : 각도 단계 크기(0 - 360사이)입니다.\n",
    "```\n",
    "---\n",
    "\n",
    "<img src=\"image/ch13/circle_tot.png\">"
   ]
  },
  {
   "cell_type": "markdown",
   "metadata": {},
   "source": [
    "#### 시계 방향으로 원형 주행하기1"
   ]
  },
  {
   "cell_type": "code",
   "execution_count": null,
   "metadata": {},
   "outputs": [],
   "source": [
    "zumi.right_circle()"
   ]
  },
  {
   "cell_type": "markdown",
   "metadata": {},
   "source": [
    "#### 시계 방향으로 원형 주행하기2"
   ]
  },
  {
   "cell_type": "code",
   "execution_count": null,
   "metadata": {},
   "outputs": [],
   "source": [
    "zumi.circle(direction = -1)"
   ]
  },
  {
   "cell_type": "markdown",
   "metadata": {},
   "source": [
    "#### <img src=\"image/icon.png\" align='left'> <b>주행 맵 도로 위에서 Zumi가 원형 주행을 할 수 있도록 매개 변수를 변경하여 코딩해 보세요.\n",
    "<img src='image/ch13/circle.png' width=400>"
   ]
  },
  {
   "cell_type": "code",
   "execution_count": null,
   "metadata": {},
   "outputs": [],
   "source": [
    "#여기에 코딩해 보세요."
   ]
  },
  {
   "cell_type": "markdown",
   "metadata": {},
   "source": [
    "<br>\n",
    "\n",
    "#### 사각형 주행 명령어\n",
    "___\n",
    "\n",
    "* zumi.square(speed=40, seconds=1, direction=1)\n",
    "\n",
    "```\n",
    "* speed : 주행 속도입니다.\n",
    "* seconds : 각 면에서 주행할 주미의 지속 시간입니다.\n",
    "* direction : 시계방향은 -1, 반시계방향은 +1입니다.\n",
    "```\n",
    "---\n",
    "\n",
    "#### 시계 방향 사각형 주행 명령어\n",
    "___\n",
    "\n",
    "* zumi.square_right(speed=40, seconds=1.0)\n",
    "\n",
    "```\n",
    "* speed : 주행 속도입니다.\n",
    "* seconds : 각 면에서 주행할 주미의 지속 시간입니다.\n",
    "```\n",
    "---\n",
    "\n",
    "#### 반시계 방향 사각형 주행 명령어\n",
    "___\n",
    "\n",
    "* zumi.square_left(speed=40, seconds=1.0)\n",
    "\n",
    "```\n",
    "* speed : 주행 속도입니다.\n",
    "* seconds : 각 면에서 주행할 주미의 지속 시간입니다.\n",
    "```\n",
    "---\n"
   ]
  },
  {
   "cell_type": "markdown",
   "metadata": {},
   "source": [
    "\n",
    "<img src='image/ch13/square_tot.png' width = 700>"
   ]
  },
  {
   "cell_type": "markdown",
   "metadata": {},
   "source": [
    "#### 반시계 방향으로 사각형 주행하기1"
   ]
  },
  {
   "cell_type": "code",
   "execution_count": null,
   "metadata": {},
   "outputs": [],
   "source": [
    "zumi.square_left()"
   ]
  },
  {
   "cell_type": "markdown",
   "metadata": {},
   "source": [
    "#### 반시계 방향으로 사각형 주행하기2"
   ]
  },
  {
   "cell_type": "code",
   "execution_count": null,
   "metadata": {},
   "outputs": [],
   "source": [
    "zumi.square()"
   ]
  },
  {
   "cell_type": "markdown",
   "metadata": {},
   "source": [
    "#### <img src=\"image/icon.png\" align='left'> <b>주행 맵 도로 위에서 Zumi가 사각형 주행을 할 수 있도록 매개 변수를 변경하여 코딩해 보세요.\n",
    "<img src='image/ch13/square_drive.png' width=400>"
   ]
  },
  {
   "cell_type": "code",
   "execution_count": null,
   "metadata": {},
   "outputs": [],
   "source": [
    "#여기에 코딩해 보세요."
   ]
  },
  {
   "cell_type": "markdown",
   "metadata": {},
   "source": [
    "#### J턴 주행 명령어\n",
    "___\n",
    "\n",
    "* zumi.j_turn(speed=100, step=4, delay=0.005)\n",
    "\n",
    "```\n",
    "* speed : 주행 속도입니다.\n",
    "* step : 각도 단계 크기입니다.\n",
    "* delay : 각 각도 단계 사이의 지연 시간입니다.\n",
    "```\n",
    "---\n",
    "\n",
    "<img src='image/ch13/jturn.png' width = 250>"
   ]
  },
  {
   "cell_type": "markdown",
   "metadata": {},
   "source": [
    "#### J턴 주행하기"
   ]
  },
  {
   "cell_type": "code",
   "execution_count": null,
   "metadata": {},
   "outputs": [],
   "source": [
    "zumi.j_turn()"
   ]
  },
  {
   "cell_type": "markdown",
   "metadata": {},
   "source": [
    "#### <img src=\"image/icon.png\" align='left'> <b>주행 맵 도로 위에서 Zumi가 J턴하여 주차를 할 수 있도록 매개 변수를 변경하여 코딩해 보세요.\n",
    "<img src='image/ch13/j_turn.png' width=700>"
   ]
  },
  {
   "cell_type": "code",
   "execution_count": null,
   "metadata": {},
   "outputs": [],
   "source": [
    "#여기에 코딩해 보세요."
   ]
  },
  {
   "cell_type": "markdown",
   "metadata": {},
   "source": [
    "<br>\n",
    "\n",
    "#### 8자 주행 명령어\n",
    "___\n",
    "\n",
    "* zumi.figure_8(speed=30, step=3, delay=0.02)\n",
    "\n",
    "```\n",
    "* speed : 주행 속도입니다.\n",
    "* step : 각도 단계 크기입니다.\n",
    "* delay : 각 각도 단계 사이의 지연 시간입니다.\n",
    "```\n",
    "---\n",
    "\n",
    "<img src='image/ch13/zumi_figure_8.jpg' width = 600>"
   ]
  },
  {
   "cell_type": "markdown",
   "metadata": {},
   "source": [
    "#### 8자 주행하기"
   ]
  },
  {
   "cell_type": "code",
   "execution_count": null,
   "metadata": {},
   "outputs": [],
   "source": [
    "zumi.figure_8()"
   ]
  },
  {
   "cell_type": "markdown",
   "metadata": {},
   "source": [
    "#### <img src=\"image/icon.png\" align='left'> <b>주행 맵 도로 위에서 Zumi가 8자 주행을 할 수 있도록 매개 변수를 변경하여 코딩해 보세요.\n",
    "<img src='image/ch13/figure_8.png' width=600>"
   ]
  },
  {
   "cell_type": "code",
   "execution_count": null,
   "metadata": {},
   "outputs": [],
   "source": [
    "# 여기에 코딩해 보세요."
   ]
  },
  {
   "cell_type": "markdown",
   "metadata": {},
   "source": [
    "<br>\n",
    "\n",
    "#### 평행 주차 명령어\n",
    "___\n",
    "\n",
    "* zumi.parallel_park(speed=15, step=1, delay=0.01)\n",
    "\n",
    "```\n",
    "* speed : 주행 속도입니다.\n",
    "* step : 각도 단계 크기입니다.\n",
    "* delay : 각 각도 단계 사이의 지연 시간입니다.\n",
    "```\n",
    "---\n",
    "\n",
    "<img src='image/ch13/zumi_parallel_park.jpg' width = 600>"
   ]
  },
  {
   "cell_type": "markdown",
   "metadata": {},
   "source": [
    "#### 평행 주차하기"
   ]
  },
  {
   "cell_type": "code",
   "execution_count": null,
   "metadata": {},
   "outputs": [],
   "source": [
    "zumi.parallel_park()"
   ]
  },
  {
   "cell_type": "markdown",
   "metadata": {},
   "source": [
    "#### <img src=\"image/icon.png\" align='left'> <b>주행 맵 도로 위에서 Zumi가 평행 주차를 할 수 있도록 매개 변수를 변경하여 코딩해 보세요.\n",
    "<img src='image/ch13/parallel_park.png' width=600>"
   ]
  },
  {
   "cell_type": "code",
   "execution_count": null,
   "metadata": {},
   "outputs": [],
   "source": [
    "#여기에 코딩해 보세요."
   ]
  },
  {
   "cell_type": "markdown",
   "metadata": {},
   "source": [
    "<br>\n",
    "\n",
    "#### 직사각형 주행 명령어\n",
    "___\n",
    "\n",
    "* zumi.rectangle(speed=40, seconds=1.0, direction=1, ratio=2)\n",
    "\n",
    "```\n",
    "* speed : 주행 속도입니다.\n",
    "* seconds : 주미가 짧은 면에서 주행하는 지속 시간입니다.\n",
    "* direction : 시계방향 -1, 시계반대방향 +1입니다.\n",
    "* ratio : 너비와 높이의 비율입니다.\n",
    "```\n",
    "---\n",
    "\n",
    "<img src='image/ch13/zumi_rectangle.jpg' width = 600>"
   ]
  },
  {
   "cell_type": "markdown",
   "metadata": {},
   "source": [
    "#### 직사각형 주행하기"
   ]
  },
  {
   "cell_type": "code",
   "execution_count": null,
   "metadata": {},
   "outputs": [],
   "source": [
    "zumi.rectangle()"
   ]
  },
  {
   "cell_type": "markdown",
   "metadata": {},
   "source": [
    "#### <img src=\"image/icon.png\" align='left'> <b>주행 맵 도로 위에서 Zumi가 직사각형 주행을 할 수 있도록 매개 변수를 변경하여 코딩해 보세요.\n",
    "<img src='image/ch13/rectangle.png' width=500>"
   ]
  },
  {
   "cell_type": "code",
   "execution_count": null,
   "metadata": {},
   "outputs": [],
   "source": [
    "#여기에 코딩해 보세요."
   ]
  },
  {
   "cell_type": "markdown",
   "metadata": {},
   "source": [
    "<br>\n",
    "\n",
    "#### 삼각형 주행 명령어\n",
    "___\n",
    "\n",
    "* zumi.triangle(speed=40, seconds=1.5, direction=1)\n",
    "\n",
    "```\n",
    "* speed : 주행 속도입니다.\n",
    "* seconds : 주미가 짧은 면에서 주행하는 지속 시간입니다.\n",
    "* direction : 시계방향 -1, 시계반대방향 +1입니다.\n",
    "```\n",
    "---\n",
    "\n",
    "<img src='image/ch13/zumi_triangle.jpg' width = 600>"
   ]
  },
  {
   "cell_type": "code",
   "execution_count": null,
   "metadata": {},
   "outputs": [],
   "source": [
    "zumi.triangle()"
   ]
  },
  {
   "cell_type": "markdown",
   "metadata": {},
   "source": [
    "#### <img src=\"image/icon.png\" align='left'> <b>주행 맵 도로 위에서 Zumi가 삼각형 주행을 할 수 있도록 매개 변수를 변경하여 코딩해 보세요.\n",
    "<img src='image/ch13/triangle.png' width=400>"
   ]
  },
  {
   "cell_type": "code",
   "execution_count": null,
   "metadata": {},
   "outputs": [],
   "source": [
    "#여기에 코딩해 보세요."
   ]
  },
  {
   "cell_type": "markdown",
   "metadata": {},
   "source": [
    "## Step 3: 튜플과 딕셔너리를 이용한 주행하기\n",
    "python의 튜플과 딕셔너리를 이용하여 주행 명령어의 매개 변수를 변경해 보겠습니다. 먼저 튜플을 이용하여 `zumi.forward()` 명령어의 매개 변수 값을 미리 설정해 매개 변수 값을 차례대로 사용하면서 주행해 보겠습니다."
   ]
  },
  {
   "cell_type": "markdown",
   "metadata": {},
   "source": [
    "#### 튜플을 이용하여 주행 매개 변수 값 변경하기"
   ]
  },
  {
   "cell_type": "code",
   "execution_count": null,
   "metadata": {},
   "outputs": [],
   "source": [
    "zumi = Zumi()\n",
    "\n",
    "try:\n",
    "    motor_property1 = (10, 1.0, 0)  \n",
    "    motor_property2 = (20, 1.0, 0)  \n",
    "    motor_property3 = (10, 1.0, 90)  \n",
    "    motor_property4 = (20, 1.0, 90)  \n",
    "\n",
    "    motor_property_list = [motor_property1, motor_property2, motor_property3, motor_property4]\n",
    "    print(motor_property_list)\n",
    "\n",
    "    for i in range(len(motor_property_list)):\n",
    "        zumi.forward(speed = motor_property_list[i][0], duration = motor_property_list[i][1], desired_angle =  motor_property_list[i][2])\n",
    "        print(motor_property_list[i])\n",
    "        time.sleep(1)\n",
    "\n",
    "except KeyboardInterrupt:\n",
    "    zumi.stop()\n",
    "    print(\"The interrupt button was pressed.\")    "
   ]
  },
  {
   "cell_type": "markdown",
   "metadata": {},
   "source": [
    "#### <img src=\"image/icon.png\" align='left'> <b>튜플을 이용하여 자유롭게 매개 변수 값을 설정하고 주행할 수 있도록 코딩해 보세요."
   ]
  },
  {
   "cell_type": "code",
   "execution_count": null,
   "metadata": {},
   "outputs": [],
   "source": [
    "#여기에 코딩해 보세요."
   ]
  },
  {
   "cell_type": "markdown",
   "metadata": {},
   "source": [
    "이번에는 주행 명령어의 매개 변수 값을 입력 받아 딕셔너리에 저장하고 사용해 봅시다."
   ]
  },
  {
   "cell_type": "markdown",
   "metadata": {},
   "source": [
    "#### 딕셔너리를 이용하여 주행 매개 변수 값 변경하기"
   ]
  },
  {
   "cell_type": "code",
   "execution_count": null,
   "metadata": {},
   "outputs": [],
   "source": [
    "zumi = Zumi()\n",
    "\n",
    "try:\n",
    "    move = {'속력': 10, '지속시간': 2, '방향': 90}\n",
    "    \n",
    "    while True:\n",
    "        move['속력'] = int(input(\"속력을 입력하세요. = \"))\n",
    "        if( move['속력'] <= 80):\n",
    "            break\n",
    "            \n",
    "    move['지속시간'] = int(input(\"지속시간을 입력하세요. = \"))\n",
    "    move['방향'] = int(input(\"방향을 입력하세요. = \"))\n",
    "    \n",
    "    print(move)        \n",
    "    zumi.forward(speed = move['속력'], duration = move['지속시간'], desired_angle = move['방향'] )\n",
    "    \n",
    "except KeyboardInterrupt:\n",
    "    zumi.stop()\n",
    "    print(\"The interrupt button was pressed.\")"
   ]
  },
  {
   "cell_type": "markdown",
   "metadata": {},
   "source": [
    "#### <img src=\"image/icon.png\" align='left'> <b>매개 변수 값을 입력 받아 딕셔너리에 저장하여 주행할 수 있도록 코딩해 보세요."
   ]
  },
  {
   "cell_type": "code",
   "execution_count": null,
   "metadata": {},
   "outputs": [],
   "source": [
    "#여기에 코딩해 보세요."
   ]
  }
 ],
 "metadata": {
  "kernelspec": {
   "display_name": "Python 3",
   "language": "python",
   "name": "python3"
  },
  "language_info": {
   "codemirror_mode": {
    "name": "ipython",
    "version": 3
   },
   "file_extension": ".py",
   "mimetype": "text/x-python",
   "name": "python",
   "nbconvert_exporter": "python",
   "pygments_lexer": "ipython3",
   "version": "3.6.5"
  }
 },
 "nbformat": 4,
 "nbformat_minor": 2
}
