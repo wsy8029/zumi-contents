{
 "cells": [
  {
   "cell_type": "markdown",
   "metadata": {},
   "source": [
    "<img src=\"image/Title.png\" width=1000>"
   ]
  },
  {
   "cell_type": "markdown",
   "metadata": {},
   "source": [
    "# Zumi 주행 테스트\n",
    "\n",
    "여러분은 그 동안 Zumi로 다양한 명령어를 배웠습니다. 이번 챕터에서는 Zumi 주행 테스트를 해보겠습니다. 5개 구간의 코드를 작성한 다음 python의 함수로 간단하게 만들어 주행 코스를 완주해 보세요!\n",
    "\n",
    "<img src=\"image/ch14/road_map.png\" width = 700>\n",
    "\n",
    "주행테스트 맵 경로 : [주행테스트1](asdf)\n",
    "[주행테스트2](asdf)\n",
    "[주행테스트3](asdf)\n",
    "[주행테스트4](asdf)<br>\n",
    "<b>(이미지를 다른 이름으로 저장합니다. 용지 사이즈는 A3이고 비율 자동맞춤 관련 설정을 모두 해제하고 출력하세요. 4개의 맵을 이어 붙입니다.)</b>\n",
    "\n",
    "\n",
    "--------\n",
    "\n",
    "스탠드 카드 경로 : [스탠드 카드](as)<br>\n",
    "미션 카드 경로 : [미션 카드](as)\n",
    "\n",
    "<img src=\"image/ch14/stand_card.jpg\" width = 400>\n",
    "<img src=\"image/ch14/mission_card.jpg\" width = 400>\n",
    "\n",
    "<b>(이미지를 다른 이름으로 저장합니다. 용지 사이즈는 A4이고 비율 자동맞춤 관련 설정을 모두 해제하고 출력하세요.)"
   ]
  },
  {
   "cell_type": "markdown",
   "metadata": {},
   "source": [
    "## Step 1: 라이브러리 가져오기\n",
    "Zumi의 주행 기능을 가져오기 위해 라이브러리를 가져 옵니다. <b>만약 이 셀을 실행하지 않으면, 이후의 프로그램은 작동하지 않습니다.\n"
   ]
  },
  {
   "cell_type": "code",
   "execution_count": null,
   "metadata": {},
   "outputs": [],
   "source": [
    "from zumi.zumi import Zumi\n",
    "from zumi.util.screen import Screen\n",
    "import time\n",
    "\n",
    "from module.IrSensor import reading_ir\n",
    "\n",
    "zumi = Zumi()\n",
    "screen = Screen()"
   ]
  },
  {
   "cell_type": "markdown",
   "metadata": {},
   "source": [
    "## Step 2: 첫 번째 테스트 구간 - 라이트 제어하기\n",
    "\n",
    "키보드 입력을 받아 Zumi의 라이트를 제어해 보는 구간입니다. 수행할 동작이 적혀져 있는 미션 카드를 보고 Zumi의 라이트를 알맞게 제어해 봅시다. 미션을 무사히 완료했다면 'pass'를 입력하세요.\n",
    "\n",
    "-------------------------------------------------\n",
    "#### 라이트 제어 방법\n",
    "\n",
    "`w` : 전면 라이트 3초간 켜기<br>\n",
    "`s` : 후면 라이트 3초간 켜기<br>\n",
    "`a` : 왼쪽 라이트 깜빡이 3초간 켜기<br>\n",
    "`d` : 오른쪽 라이트 깜빡이 3초간 켜기<br>\n",
    "`q` : 비상등 3초간 켜기<br>\n",
    "`e` : 모든 라이트 3초간 켜기\n",
    "\n",
    "----------------------------------------\n",
    "\n",
    "<img src='image/ch14/mission.png' width = 400>\n"
   ]
  },
  {
   "cell_type": "code",
   "execution_count": null,
   "metadata": {},
   "outputs": [],
   "source": [
    "try:\n",
    "    while True:\n",
    "        \n",
    "        answer = input('answer : ')\n",
    "       \n",
    "        if answer == 'w':\n",
    "            #여기에 코딩해 보세요.\n",
    "       \n",
    "        elif answer == 's':\n",
    "            #여기에 코딩해 보세요.\n",
    "\n",
    "        elif answer == 'a':\n",
    "            #여기에 코딩해 보세요.       \n",
    "\n",
    "        elif answer == 'd':\n",
    "            #여기에 코딩해 보세요.     \n",
    "\n",
    "        elif answer == 'q':\n",
    "            #여기에 코딩해 보세요.       \n",
    "\n",
    "        elif answer == 'e':\n",
    "            #여기에 코딩해 보세요.            \n",
    "\n",
    "        elif answer == 'pass':\n",
    "            screen.draw_text_center('SUCCESS', font_size = 30)\n",
    "            time.sleep(3)\n",
    "            screen.happy()\n",
    "            break\n",
    "            \n",
    "except KeyboardInterrupt:\n",
    "    zumi.stop()"
   ]
  },
  {
   "cell_type": "markdown",
   "metadata": {},
   "source": [
    "## Step 3: 두 번째 테스트 구간 - 코스 주행하기\n",
    "기본 주행과 중급 주행을 사용하여 코스를 완주해 보세요.\n",
    "\n",
    "#### 주행 경로\n",
    "<img src =\"image/ch14/road4.png\">"
   ]
  },
  {
   "cell_type": "markdown",
   "metadata": {},
   "source": [
    "<br>\n",
    "\n",
    "#### 첫번째 코스 - 기본 주행하기\n",
    "`zumi.forward()`와 `zumi.turn_right()`, `zumi.turn_left()` 명령어를 사용하여 주행하세요.\n",
    "<img src=\"image/ch14/road1.png\" width = 600>"
   ]
  },
  {
   "cell_type": "code",
   "execution_count": null,
   "metadata": {},
   "outputs": [],
   "source": [
    "#여기에 코딩해 보세요."
   ]
  },
  {
   "cell_type": "markdown",
   "metadata": {},
   "source": [
    "<br>\n",
    "\n",
    "#### 두번째 코스 - 정지선 감지와 U턴하기\n",
    "`zumi.go_straight()`와 `zumi.left_u_turn` 명령어를 사용하여 흰색 정지선을 감지하면 멈추고 왼쪽으로 이동한 다음 U턴을 하세요.\n",
    "<img src=\"image/ch14/road2.png\" width = 500>"
   ]
  },
  {
   "cell_type": "code",
   "execution_count": null,
   "metadata": {},
   "outputs": [],
   "source": [
    "#여기에 코딩해 보세요."
   ]
  },
  {
   "cell_type": "markdown",
   "metadata": {},
   "source": [
    "<br>\n",
    "\n",
    "#### 세번째 코스 - J턴과 정지선 감지\n",
    "`zumi.j_turn()`과 `zumi.go_staright()` 명령어를 사용하여 J턴 후에 아래 방향으로 정지선을 감지할 때까지 주행하세요.\n",
    "<img src=\"image/ch14/road3.png\" width = 600>"
   ]
  },
  {
   "cell_type": "code",
   "execution_count": null,
   "metadata": {},
   "outputs": [],
   "source": [
    "#여기에 코딩해 보세요."
   ]
  },
  {
   "cell_type": "markdown",
   "metadata": {},
   "source": [
    "<br>\n",
    "\n",
    "<img src=\"image/icon.png\" align='left'> <b> 첫 번째, 두 번째, 세 번째 코스를 주행하는 명령어들을 모두 합친 후 실행시켜 보세요.(Zumi가 도착지점까지 주행하지 못한다면 주행 명령어들의 매개 변수를 수정하거나 주행 명령어를 추가하여 도착지점까지 올 수 있도록 코딩해 보세요.)"
   ]
  },
  {
   "cell_type": "code",
   "execution_count": null,
   "metadata": {},
   "outputs": [],
   "source": [
    "try:\n",
    "    #여기에 코딩해 보세요.\n",
    "            \n",
    "except KeyboardInterrupt:\n",
    "    zumi.stop()"
   ]
  },
  {
   "cell_type": "markdown",
   "metadata": {},
   "source": [
    "## Step 4: 세 번째 테스트 구간 - 장애물 회피하기\n",
    "전면 적외선 센서를 이용하여 물체가 감지되면 방향을 바꾸어 주행하고 하단 적외선센서에 검은색이 감지되면 주행을 멈춥니다.(가드레일을 표시된 자리에 배치해 주세요.)\n",
    "\n",
    "<img src =\"image/ch14/road5.png\" width = 700>"
   ]
  },
  {
   "cell_type": "code",
   "execution_count": null,
   "metadata": {},
   "outputs": [],
   "source": [
    "try:\n",
    "    #여기에 코딩해 보세요.\n",
    "            \n",
    "except KeyboardInterrupt:\n",
    "    zumi.stop()"
   ]
  },
  {
   "cell_type": "markdown",
   "metadata": {},
   "source": [
    "## Step 5: 네 번째 테스트 구간 - 라인트레이싱\n",
    "Zumi가 검은색라인을 따라 라인트레이싱하다가 전면에 물체가 감지되면 멈춥니다.(정지 표지판을 표시된 자리에 배치해 주세요.)\n",
    "\n",
    "<img src =\"image/ch14/road6.png\" width = 700>"
   ]
  },
  {
   "cell_type": "code",
   "execution_count": null,
   "metadata": {},
   "outputs": [],
   "source": [
    "try:\n",
    "    #여기에 코딩해 보세요.\n",
    "            \n",
    "except KeyboardInterrupt:\n",
    "    zumi.stop()"
   ]
  },
  {
   "cell_type": "markdown",
   "metadata": {},
   "source": [
    "## Step 6: 다섯 번째 테스트 구간 - 주차하기\n",
    "Zumi가 후진 주차를 시작합니다. 시계방향으로 90도 회전을 하고 후진으로 이동하면서 부저 소리를 냅니다. 벽에 가까워질수록 부저 소리가 길어지고 벽이 감지되면 멈춥니다. 주차 표지판을 표시된 자리에 배치하고 아래의 셀을 실행시켜 후진 주차를 해보세요.\n",
    "\n",
    "<img src='image/ch14/road7.png' width = 300>"
   ]
  },
  {
   "cell_type": "code",
   "execution_count": null,
   "metadata": {},
   "outputs": [],
   "source": [
    "def check_back_ir():\n",
    "    \n",
    "    detectionSensor = 0\n",
    "    back_left = reading_ir('back', 'L')\n",
    "    back_right = reading_ir('back', 'R')\n",
    "\n",
    "    if(int(back_left) <= int(back_right)):\n",
    "        detectionSensor = int(back_left) \n",
    "        note_duration =detectionSensor/2\n",
    "        if note_duration<10 : note_duration = 10     \n",
    "            \n",
    "        zumi.play_note(50,note_duration) \n",
    "    else:\n",
    "        detectionSensor = int(back_right)            \n",
    "        note_duration =detectionSensor/2\n",
    "        if note_duration<10 : note_duration = 10\n",
    "            \n",
    "        zumi.play_note(50,note_duration)\n",
    "    return detectionSensor\n",
    "\n",
    "def parking():\n",
    "    zumi = Zumi()\n",
    "    zumi. turn(-90)\n",
    "    \n",
    "    backIRthreshold = 20\n",
    "\n",
    "    while True:\n",
    "        backIRsensor = check_back_ir()\n",
    "\n",
    "        if(backIRsensor < backIRthreshold):\n",
    "            zumi.stop(0)\n",
    "            print(\"sensor detection\")\n",
    "            zumi.play_note(50, 2000)\n",
    "            break\n",
    "\n",
    "        zumi.control_motors(-1,-12,0)\n",
    "        \n",
    "try:\n",
    "    parking()\n",
    "\n",
    "except KeyboardInterrupt:\n",
    "    zumi.stop()"
   ]
  },
  {
   "cell_type": "markdown",
   "metadata": {},
   "source": [
    "`check_back_ir()`은 `parking()` 명령어를 동작시키기 위해 필요한 함수입니다. 두 함수 중 하나라도 없으면 Zumi가 후진 주차를 하지 않습니다."
   ]
  },
  {
   "cell_type": "markdown",
   "metadata": {},
   "source": [
    "#### Zumi가 일자로 후진하지 않는다면 `zumi.control_motors()`의 매개 변수를 조정하세요."
   ]
  },
  {
   "cell_type": "markdown",
   "metadata": {},
   "source": [
    "## Step 7: 함수로 만들어 모든 코스 주행하기\n",
    "이제 각 테스트 구간마다 Zumi가 동작하는 코드를 함수로 만들어 사용해 보겠습니다.\n",
    "\n",
    "---\n",
    "\n",
    "* 첫 번째 테스트구간 : exam()\n",
    "* 두 번째 테스트구간 : driving()\n",
    "* 세 번째 테스트구간 : avoidance()\n",
    "* 네 번째 테스트구간 : linetracing()\n",
    "* 다섯 번째 테스트 구간 : check_back_ir(), parking()\n",
    "\n",
    "---"
   ]
  },
  {
   "cell_type": "code",
   "execution_count": 1,
   "metadata": {},
   "outputs": [],
   "source": [
    "def exam():\n",
    "    pass # pass를 지우고 코딩해 보세요.\n",
    "\n",
    "def driving():\n",
    "    pass # pass를 지우고 코딩해 보세요.\n",
    "\n",
    "def avoidance():\n",
    "    pass # pass를 지우고 코딩해 보세요.\n",
    "\n",
    "def linetracing():\n",
    "    pass # pass를 지우고 코딩해 보세요.\n",
    "\n",
    "def check_back_ir():\n",
    "    pass # pass를 지우고 코딩해 보세요.\n",
    "\n",
    "def parking():\n",
    "    pass # pass를 지우고 코딩해 보세요."
   ]
  },
  {
   "cell_type": "markdown",
   "metadata": {},
   "source": [
    "함수로 전부 제작 하였다면 Zumi를 Start Line에 배치하고 아래의 셀을 실행시켜보세요. 만약 Zumi가 끝까지 완주하지 못한다면 Zumi 명령어의 매개 변수 값을 조정해 보세요."
   ]
  },
  {
   "cell_type": "code",
   "execution_count": null,
   "metadata": {},
   "outputs": [],
   "source": [
    "try:\n",
    "    exam()\n",
    "    driving()\n",
    "    avoidence()\n",
    "    linetracing()\n",
    "    parking()\n",
    "    \n",
    "except KeyboardInterrupt:\n",
    "    zumi.stop()"
   ]
  },
  {
   "cell_type": "markdown",
   "metadata": {},
   "source": [
    "### Zumi가 5개의 테스트 구간을 안전하게 주행 했나요? 모든 테스트 코스를 통과했다면 여러분은 Zumi 주행 테스트에 합격하였습니다!"
   ]
  }
 ],
 "metadata": {
  "kernelspec": {
   "display_name": "Python 3",
   "language": "python",
   "name": "python3"
  },
  "language_info": {
   "codemirror_mode": {
    "name": "ipython",
    "version": 3
   },
   "file_extension": ".py",
   "mimetype": "text/x-python",
   "name": "python",
   "nbconvert_exporter": "python",
   "pygments_lexer": "ipython3",
   "version": "3.6.5"
  }
 },
 "nbformat": 4,
 "nbformat_minor": 2
}
