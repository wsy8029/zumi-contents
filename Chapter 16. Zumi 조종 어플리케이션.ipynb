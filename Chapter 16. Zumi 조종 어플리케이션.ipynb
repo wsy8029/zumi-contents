{
 "cells": [
  {
   "cell_type": "markdown",
   "metadata": {},
   "source": [
    "<img src=\"image/Title.png\" width=1000>"
   ]
  },
  {
   "cell_type": "markdown",
   "metadata": {},
   "source": [
    "# Zumi 조종 어플리케이션 만들기\n",
    "\n",
    "파이썬 IDE에서 tkinter로 GUI(Graphical User Interface)라이브러리를 이용했듯이 주피터 노트북에서는 `Ipython위젯(ipywidgets)`을 이용할 수 있습니다. 이 라이브러리를 통해 주피터 노트북을 정적인 문서에서 대화형 대시보드로 전환할 수 있으므로 데이터를 탐색하고 시각화하는 데 적합합니다. 한 줄의 코드로 구현할 수 있는 대화식 컨트롤인 ipywidgets을 시작하는 방법을 살펴보고, Zumi를 ipywidgets으로 동작시킬 수 있는 Zumi 조종 어플리케이션을 만들어 보겠습니다.\n",
    "\n",
    "<img src=\"image/ch16/16_app.png\" width=500>"
   ]
  },
  {
   "cell_type": "markdown",
   "metadata": {},
   "source": [
    "## Step 1: 라이브러리 가져오기\n",
    "평소와 같이 첫 번째 단계는 라이브러리를 가져오는 것입니다. <b>만약 이 셀을 실행하지 않으면, 이후의 프로그램은 작동하지 않습니다."
   ]
  },
  {
   "cell_type": "code",
   "execution_count": 1,
   "metadata": {
    "scrolled": true
   },
   "outputs": [],
   "source": [
    "import ipywidgets as widgets\n",
    "from ipywidgets import Layout\n",
    "from IPython.display import display\n",
    "from zumi.protocol import Note\n",
    "from zumi.zumi import Zumi\n",
    "\n",
    "zumi = Zumi()"
   ]
  },
  {
   "cell_type": "markdown",
   "metadata": {},
   "source": [
    "## Step 2: 버튼 위젯\n",
    "버튼 위젯은 마우스 클릭을 처리하는데 사용됩니다. Click me 라고 적힌 버튼을 만들어 봅시다. (단, 버튼을 눌러도 동작은 되지 않습니다.)"
   ]
  },
  {
   "cell_type": "markdown",
   "metadata": {},
   "source": [
    "#### 버튼 위젯 만들기"
   ]
  },
  {
   "cell_type": "code",
   "execution_count": null,
   "metadata": {
    "scrolled": true
   },
   "outputs": [],
   "source": [
    "button = widgets.Button(description = 'Click me')\n",
    "display(button)"
   ]
  },
  {
   "cell_type": "markdown",
   "metadata": {},
   "source": [
    "#### display()를 이용하여 동일한 위젯을 한 번 더 표시하기\n",
    "display()는 버튼 위젯을 명시적으로 나타내는 명령어입니다."
   ]
  },
  {
   "cell_type": "code",
   "execution_count": null,
   "metadata": {
    "scrolled": true
   },
   "outputs": [],
   "source": [
    "display(button)"
   ]
  },
  {
   "cell_type": "markdown",
   "metadata": {},
   "source": [
    "#### close()를 이용하여 생성되었던 button 위젯을 모두 닫기"
   ]
  },
  {
   "cell_type": "code",
   "execution_count": null,
   "metadata": {},
   "outputs": [],
   "source": [
    "button.close()"
   ]
  },
  {
   "cell_type": "markdown",
   "metadata": {},
   "source": [
    "#### 버튼 위젯의 초기 설정 알아보기\n",
    "버튼 위젯은 style을 적용할 수 있습니다. 아래의 셀을 실행하면 style을 적용하지 않은 기본적인 형태의 버튼이 생성됩니다."
   ]
  },
  {
   "cell_type": "code",
   "execution_count": null,
   "metadata": {
    "scrolled": true
   },
   "outputs": [],
   "source": [
    "button = widgets.Button(\n",
    "            description='Click me',\n",
    "            button_style='' # 'success', 'info', 'warning', 'danger' or '',\n",
    "            )\n",
    "\n",
    "display(button)"
   ]
  },
  {
   "cell_type": "markdown",
   "metadata": {},
   "source": [
    "#### <img src=\"image/icon.png\" align='left'> <b>버튼 위젯의 style 매개 변수를 바꿔가며 달라진 점을 확인해 보세요."
   ]
  },
  {
   "cell_type": "code",
   "execution_count": null,
   "metadata": {},
   "outputs": [],
   "source": [
    "#여기에 코딩해 보세요."
   ]
  },
  {
   "cell_type": "markdown",
   "metadata": {},
   "source": [
    "#### 버튼 위젯의 layout 속성 알아보기\n",
    "주피터 노트북의 대화식 위젯에는 크기와, 선의 두께, 색상과 같이 CSS(cascading style sheets) 특성을 노출하는 레이아웃 속성이 있습니다."
   ]
  },
  {
   "cell_type": "code",
   "execution_count": null,
   "metadata": {},
   "outputs": [],
   "source": [
    "# 버튼 스타일 적용하기\n",
    "\n",
    "button = widgets.Button(\n",
    "            description='(20% width, 40px height)',\n",
    "            button_style = 'info',\n",
    "            layout=Layout(width='20%', height='40px',\n",
    "                        border='5px solid pink'))\n",
    "display(button)"
   ]
  },
  {
   "cell_type": "markdown",
   "metadata": {},
   "source": [
    "#### <img src=\"image/icon.png\" align='left'> <b>버튼 위젯의 layout 매개 변수를 바꿔가며 달라진 점을 확인해 보세요."
   ]
  },
  {
   "cell_type": "code",
   "execution_count": null,
   "metadata": {},
   "outputs": [],
   "source": [
    "#여기에 코딩해 보세요."
   ]
  },
  {
   "cell_type": "markdown",
   "metadata": {},
   "source": [
    "<br>\n",
    "    \n",
    "## Step 3: 버튼 위젯 동작시키기\n",
    "이번에는 버튼 위젯을 눌렀을 때 주피터 노트북 화면에 글자 출력하기를 실행해 보겠습니다. `on_click()` 명령어는 버튼 위젯을 클릭했을 때 호출하는 기능을 등록하는 데 사용됩니다."
   ]
  },
  {
   "cell_type": "code",
   "execution_count": 6,
   "metadata": {},
   "outputs": [
    {
     "data": {
      "application/vnd.jupyter.widget-view+json": {
       "model_id": "d1218f5c27604e8bb2856b1409ce0047",
       "version_major": 2,
       "version_minor": 0
      },
      "text/plain": [
       "Button(description='Click me', style=ButtonStyle())"
      ]
     },
     "metadata": {},
     "output_type": "display_data"
    },
    {
     "name": "stdout",
     "output_type": "stream",
     "text": [
      "Button clicked.\n",
      "Button clicked.\n"
     ]
    }
   ],
   "source": [
    "button = widgets.Button(\n",
    "            description='Click me',\n",
    "            )\n",
    "button.on_click(lambda a : print(\"Button clicked.\"))\n",
    "display(button)"
   ]
  },
  {
   "cell_type": "markdown",
   "metadata": {},
   "source": [
    "#### 버튼 위젯이 눌렸을 때 Zumi의 헤드라이트 켜기"
   ]
  },
  {
   "cell_type": "code",
   "execution_count": 7,
   "metadata": {},
   "outputs": [
    {
     "data": {
      "application/vnd.jupyter.widget-view+json": {
       "model_id": "bec3961cd26e44c88d0159e87902df0b",
       "version_major": 2,
       "version_minor": 0
      },
      "text/plain": [
       "Button(description='headlights on', style=ButtonStyle())"
      ]
     },
     "metadata": {},
     "output_type": "display_data"
    }
   ],
   "source": [
    "button1 = widgets.Button(description='headlights on')\n",
    "button1.on_click(lambda a : zumi.headlights_on())\n",
    "display(button1)"
   ]
  },
  {
   "cell_type": "markdown",
   "metadata": {},
   "source": [
    "#### <img src=\"image/icon.png\" align='left'> <b> Zumi의 `헤드라이트 끄기` 버튼을 추가해 보세요."
   ]
  },
  {
   "cell_type": "code",
   "execution_count": null,
   "metadata": {
    "scrolled": true
   },
   "outputs": [],
   "source": [
    "button1 = widgets.Button(description='headlights on')\n",
    "button1.on_click(lambda a : zumi.headlights_on())\n",
    "display(button1)\n",
    "\n",
    "#여기에 코딩해 보세요."
   ]
  },
  {
   "cell_type": "markdown",
   "metadata": {},
   "source": [
    "#### <img src=\"image/icon.png\" align='left'> <b> Zumi의 라이트 관련 명령어를 버튼 위젯으로 동작시켜 보세요."
   ]
  },
  {
   "cell_type": "code",
   "execution_count": null,
   "metadata": {},
   "outputs": [],
   "source": [
    "def light_btn():\n",
    "    btn_list = list()\n",
    "    button1 = widgets.Button(description='All Lights On')\n",
    "    button1.on_click(lambda a : zumi.all_lights_on())\n",
    "    btn_list.append(button1)\n",
    "    \n",
    "    #여기에 코딩해 보세요.\n",
    "\n",
    "    for btn in btn_list:\n",
    "        display(btn)\n",
    "    return \n",
    "\n",
    "light_btn()\n"
   ]
  },
  {
   "cell_type": "markdown",
   "metadata": {},
   "source": [
    "#### <img src=\"image/icon.png\" align='left'> <b> 버튼 위젯의 style 매개 변수를 설정하여 자신만의 Zumi 라이트 어플리케이션을 만들어 보세요!"
   ]
  },
  {
   "cell_type": "code",
   "execution_count": null,
   "metadata": {
    "scrolled": true
   },
   "outputs": [],
   "source": [
    "def light_btn():\n",
    "    btn_list = list()\n",
    "    button1 = widgets.Button(description='All Lights On', button_style = \"info\")\n",
    "    button1.on_click(lambda a : zumi.all_lights_on())\n",
    "    btn_list.append(button1)\n",
    "\n",
    "    #여기에 코딩해 보세요.\n",
    "\n",
    "    for btn in btn_list:\n",
    "        display(btn)\n",
    "    return \n",
    "\n",
    "light_btn()\n"
   ]
  },
  {
   "cell_type": "markdown",
   "metadata": {},
   "source": [
    "#### <img src=\"image/icon.png\" align='left'> <b> on_click() 명령어를 사용하여 Zumi의 기본 주행 명령어를 버튼 위젯으로 동작시켜 보세요!"
   ]
  },
  {
   "cell_type": "code",
   "execution_count": null,
   "metadata": {},
   "outputs": [],
   "source": [
    "def drive_btn():\n",
    "    btn_list = list()\n",
    "    button1 = widgets.Button(description='Forward')\n",
    "    button1.on_click(lambda a : #여기에 코딩해 보세요.)\n",
    "    btn_list.append(button1)\n",
    "                     \n",
    "    button2 = widgets.Button(description='Turn Left')\n",
    "    button2.on_click(lambda a : #여기에 코딩해 보세요.)\n",
    "    btn_list.append(button2)\n",
    "                     \n",
    "    button3 = widgets.Button(description='Turn Right')\n",
    "    button3.on_click(lambda a : #여기에 코딩해 보세요.)\n",
    "    btn_list.append(button3)\n",
    "                     \n",
    "    button4 = widgets.Button(description='Reverse')\n",
    "    button4.on_click(lambda a : #여기에 코딩해 보세요.)\n",
    "    btn_list.append(button4)\n",
    "\n",
    "    for btn in btn_list:\n",
    "        display(btn)\n",
    "    return \n",
    "\n",
    "drive_btn()\n"
   ]
  },
  {
   "cell_type": "markdown",
   "metadata": {},
   "source": [
    "<br>\n",
    "    \n",
    "## Step 4: 레이아웃 위젯\n",
    "위젯의 배열을 정리할 수 있는 `레이아웃 위젯` Box에 대해 알아봅니다. `Box` 위젯은 하위에 다른 위젯을 보유하는 데 사용됩니다."
   ]
  },
  {
   "cell_type": "markdown",
   "metadata": {},
   "source": [
    "#### 레이아웃 위젯 Box를 이용하여 버튼 배치하기"
   ]
  },
  {
   "cell_type": "code",
   "execution_count": null,
   "metadata": {},
   "outputs": [],
   "source": [
    "button1 = widgets.Button(description='All lights on')\n",
    "button2 = widgets.Button(description='All lights off')\n",
    "button3 = widgets.Button(description='Hazard on')\n",
    "button4 = widgets.Button(description='Hazard off')\n",
    "widgets.Box([button1, button2, button3, button4])"
   ]
  },
  {
   "cell_type": "markdown",
   "metadata": {},
   "source": [
    "#### 레이아웃 위젯 VBox를 이용하여 세로로 버튼 배치하기"
   ]
  },
  {
   "cell_type": "code",
   "execution_count": null,
   "metadata": {},
   "outputs": [],
   "source": [
    "button1 = widgets.Button(description='All lights on')\n",
    "button2 = widgets.Button(description='All lights off')\n",
    "button3 = widgets.Button(description='Hazard on')\n",
    "button4 = widgets.Button(description='Hazard off')\n",
    "widgets.VBox([button1, button2, button3, button4])"
   ]
  },
  {
   "cell_type": "markdown",
   "metadata": {},
   "source": [
    "#### VBox를 응용하여 버튼 배치하기"
   ]
  },
  {
   "cell_type": "code",
   "execution_count": 3,
   "metadata": {
    "scrolled": true
   },
   "outputs": [
    {
     "data": {
      "application/vnd.jupyter.widget-view+json": {
       "model_id": "126b0376aa354ba386c317c3735af86b",
       "version_major": 2,
       "version_minor": 0
      },
      "text/plain": [
       "Box(children=(VBox(children=(Button(description='All lights on', style=ButtonStyle()), Button(description='All…"
      ]
     },
     "metadata": {},
     "output_type": "display_data"
    }
   ],
   "source": [
    "button1 = widgets.Button(description='All lights on')\n",
    "button2 = widgets.Button(description='All lights off')\n",
    "button3 = widgets.Button(description='Hazard on')\n",
    "button4 = widgets.Button(description='Hazard off')\n",
    "\n",
    "left_box = widgets.VBox([button1, button2])\n",
    "right_box = widgets.VBox([button3, button4])\n",
    "widgets.Box([left_box, right_box])"
   ]
  },
  {
   "cell_type": "markdown",
   "metadata": {},
   "source": [
    "#### <img src=\"image/icon.png\" align='left'> <b> 버튼 위젯을 눌렀을 때 동작을 할 수 있도록 코딩을 하고, 레이아웃 위젯 Box로 버튼을 배치해 보세요."
   ]
  },
  {
   "cell_type": "code",
   "execution_count": 8,
   "metadata": {},
   "outputs": [],
   "source": [
    "button1 = widgets.Button(description='All lights on')\n",
    "#여기에 코딩해 보세요.\n",
    "\n",
    "button1.on_click(lambda a : zumi.all_lights_on)\n",
    "#여기에 코딩해 보세요.\n"
   ]
  },
  {
   "cell_type": "markdown",
   "metadata": {},
   "source": [
    "<br>\n",
    "    \n",
    "## Step 5: zumi 조종 어플리케이션\n",
    "ipywidgets의 버튼 위젯과 레이아웃 위젯을 이용하는 것 만으로도, Zumi를 제어할 수 있는 조종 어플리케이션을 만들 수 있습니다. 아래 셀을 실행하여 zumi를 조종해 보세요!"
   ]
  },
  {
   "cell_type": "code",
   "execution_count": null,
   "metadata": {},
   "outputs": [],
   "source": [
    "zumi_speed = 40\n",
    "left_LED = False\n",
    "right_LED = False\n",
    "hazard_LED = False\n",
    "\n",
    "# 레이아웃 설정\n",
    "box_layout_row= Layout(\n",
    "    flex_flow='row',\n",
    "    justify_content='center',\n",
    "    width='100%'   \n",
    ")\n",
    "\n",
    "box_layout_row1= Layout(\n",
    "    flex_flow='row',\n",
    "    justify_content='flex-start',\n",
    "    width='100%'   \n",
    ")\n",
    "\n",
    "box_layout_column = Layout(\n",
    "    flex_flow='column',\n",
    "    width='100%'\n",
    ")\n",
    "\n",
    "box_layout_form = Layout(\n",
    "    flex_flow='row',\n",
    "    border='solid 2px',\n",
    "    width='100%'\n",
    ")\n",
    "\n",
    "def on_but_clicked(b):      \n",
    "    global zumi_speed\n",
    "    global left_LED\n",
    "    global right_LED\n",
    "    global hazard_LED\n",
    "    \n",
    "    #print(b.description)\n",
    "        \n",
    "    if(b.description == '▲'):\n",
    "        pass\n",
    "        zumi.forward(speed = zumi_speed)\n",
    "                \n",
    "    elif(b.description == '◀'):\n",
    "        pass\n",
    "        zumi.turn_left()\n",
    "        \n",
    "    elif(b.description == 'horn'):\n",
    "        pass\n",
    "        zumi.play_note(Note.C4)\n",
    "            \n",
    "    elif(b.description == '▶'):\n",
    "        pass\n",
    "        zumi.turn_right()\n",
    "        \n",
    "    elif(b.description == '▼'):\n",
    "        pass\n",
    "        zumi.reverse(speed = zumi_speed)\n",
    "                         \n",
    "    elif(b.description == 'Left Signal' or b.description == 'Right Signal' or b.description == 'Hazard'):\n",
    "        pass\n",
    "        zumi.signal_left_off()\n",
    "        zumi.signal_right_off()\n",
    "        zumi.hazard_lights_off()\n",
    "            \n",
    "        if(b.description == 'Left Signal'):\n",
    "            \n",
    "            if(left_LED == False):\n",
    "                zumi.signal_left_on()     \n",
    "            else:\n",
    "                zumi.signal_left_off()\n",
    "                \n",
    "            left_LED = not left_LED\n",
    "            right_LED = False\n",
    "            hazard_LED = False  \n",
    "\n",
    "        elif(b.description == 'Right Signal'):\n",
    "            \n",
    "            if(right_LED == False):\n",
    "                zumi.signal_right_on()     \n",
    "            else:\n",
    "                zumi.signal_right_off()\n",
    "                \n",
    "            right_LED = not right_LED\n",
    "            left_LED = False\n",
    "            hazard_LED = False  \n",
    "\n",
    "        elif(b.description == 'Hazard'):\n",
    "\n",
    "            if(hazard_LED == False):\n",
    "                zumi.hazard_lights_on()\n",
    "            else:\n",
    "                zumi.hazard_lights_off()\n",
    "\n",
    "            hazard_LED = not hazard_LED\n",
    "            left_LED = False\n",
    "            right_LED = False  \n",
    "                \n",
    "    elif(b.description == 'Slow'):\n",
    "        pass\n",
    "        zumi_speed = 10\n",
    "        \n",
    "    elif(b.description == 'Basic Speed'):\n",
    "        pass\n",
    "        zumi_speed = 40\n",
    "        \n",
    "    elif(b.description == 'Fast'):\n",
    "        pass\n",
    "        zumi_speed = 80\n",
    "        \n",
    "        \n",
    "wButton1 = widgets.Button(description='▲', layout=Layout(flex='1 1 auto', width='auto'), button_style='success')\n",
    "wButton2 = widgets.Button(description='◀', layout=Layout(flex='1 1 auto', width='auto'), button_style='success')\n",
    "wButton3 = widgets.Button(description='horn', layout=Layout(flex='1 1 auto', width='auto'), button_style='success')\n",
    "wButton4 = widgets.Button(description='▶', layout=Layout(flex='1 1 auto', width='auto'), button_style='success')\n",
    "wButton5 = widgets.Button(description='▼', layout=Layout(flex='1 1 auto', width='auto'), button_style='success')\n",
    "\n",
    "wButton6 = widgets.Button(description='Slow', button_style='info')\n",
    "wButton7 = widgets.Button(description='Left Signal', button_style='info')\n",
    "wButton8 = widgets.Button(description='Basic Speed', button_style='warning')\n",
    "wButton9 = widgets.Button(description='Right Signal', button_style='warning')\n",
    "wButton10 = widgets.Button(description='Fast', button_style='danger')\n",
    "wButton11 = widgets.Button(description='Hazard', button_style='danger')\n",
    "\n",
    "wButton1.on_click(on_but_clicked)\n",
    "wButton2.on_click(on_but_clicked)\n",
    "wButton3.on_click(on_but_clicked)\n",
    "wButton4.on_click(on_but_clicked)\n",
    "wButton5.on_click(on_but_clicked)\n",
    "wButton6.on_click(on_but_clicked)\n",
    "wButton7.on_click(on_but_clicked)\n",
    "wButton8.on_click(on_but_clicked)\n",
    "wButton9.on_click(on_but_clicked)\n",
    "wButton10.on_click(on_but_clicked)\n",
    "wButton11.on_click(on_but_clicked)\n",
    "\n",
    "layer_key1 = widgets.Box([widgets.Box(children=[widgets.Box([wButton1])], layout=box_layout_row)],\n",
    "                     layout=box_layout_row)\n",
    "layer_key2 = widgets.Box([widgets.Box(children=[widgets.Box([wButton2,wButton3,wButton4])], layout=box_layout_row)],\n",
    "                     layout=box_layout_row)\n",
    "layer_key3 = widgets.Box([widgets.Box(children=[widgets.Box([wButton5])], layout=box_layout_row)],\n",
    "                     layout=box_layout_row)\n",
    "menu1 = widgets.Box([layer_key1,layer_key2,layer_key3],layout=box_layout_column)\n",
    "\n",
    "layer_speed1 = widgets.Box([widgets.Box(children=[widgets.Box([wButton6])], layout=box_layout_row1)],\n",
    "                     layout=box_layout_row)\n",
    "layer_speed2 = widgets.Box([widgets.Box(children=[widgets.Box([wButton8])], layout=box_layout_row1)],\n",
    "                     layout=box_layout_row)\n",
    "layer_speed3 = widgets.Box([widgets.Box(children=[widgets.Box([wButton10])], layout=box_layout_row1)],\n",
    "                     layout=box_layout_row)\n",
    "menu2 = widgets.Box([layer_speed1,layer_speed2,layer_speed3],layout=box_layout_column)\n",
    "\n",
    "layer_led1 = widgets.Box([widgets.Box(children=[widgets.Box([wButton7])], layout=box_layout_row)],\n",
    "                     layout=box_layout_row)\n",
    "layer_led2 = widgets.Box([widgets.Box(children=[widgets.Box([wButton9])], layout=box_layout_row)],\n",
    "                     layout=box_layout_row)\n",
    "layer_led3 = widgets.Box([widgets.Box(children=[widgets.Box([wButton11])], layout=box_layout_row)],\n",
    "                     layout=box_layout_row)\n",
    "menu3 = widgets.Box([layer_led1,layer_led2,layer_led3],layout=box_layout_column)\n",
    "\n",
    "form = widgets.Box([menu1,menu2,menu3],layout=box_layout_form)\n",
    "\n",
    "form "
   ]
  }
 ],
 "metadata": {
  "kernelspec": {
   "display_name": "Python 3",
   "language": "python",
   "name": "python3"
  },
  "language_info": {
   "codemirror_mode": {
    "name": "ipython",
    "version": 3
   },
   "file_extension": ".py",
   "mimetype": "text/x-python",
   "name": "python",
   "nbconvert_exporter": "python",
   "pygments_lexer": "ipython3",
   "version": "3.6.5"
  }
 },
 "nbformat": 4,
 "nbformat_minor": 2
}
