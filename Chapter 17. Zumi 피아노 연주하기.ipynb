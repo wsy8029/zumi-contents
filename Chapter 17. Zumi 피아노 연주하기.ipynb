{
 "cells": [
  {
   "cell_type": "markdown",
   "metadata": {},
   "source": [
    "<img src=\"image/Title.png\" width = 1000>"
   ]
  },
  {
   "cell_type": "markdown",
   "metadata": {},
   "source": [
    "# Zumi 피아노 어플리케이션\n",
    "\n",
    "이번 챕터에서는 토글 버튼과 슬라이드바를 만들어 동작시키는 방법에 대해 알아보고 피아노 어플리케이션으로 Zumi를 연주해 보겠습니다. 또, ipywidgets에서만 볼 수 있는 특별한 위젯을 한 번 배워보겠습니다."
   ]
  },
  {
   "cell_type": "markdown",
   "metadata": {},
   "source": [
    "## Step 1: 라이브러리 가져오기\n",
    "피아노 어플리케이션에 필요한 라이브러리를 가져오는 것입니다. <b>만약 이 셀을 실행하지 않으면, 이후의 프로그램은 작동하지 않습니다."
   ]
  },
  {
   "cell_type": "code",
   "execution_count": null,
   "metadata": {
    "scrolled": true
   },
   "outputs": [],
   "source": [
    "from zumi.util.screen import Screen\n",
    "from zumi.zumi import Zumi \n",
    "from zumi.protocol import Note\n",
    "\n",
    "import IPython.display\n",
    "from ipywidgets import widgets, Layout, Button, IntSlider, ToggleButton, Box\n",
    "import time\n",
    "\n",
    "zumi = Zumi()\n",
    "screen = Screen()"
   ]
  },
  {
   "cell_type": "markdown",
   "metadata": {},
   "source": [
    "## Step 2: 토글 버튼 만들기\n",
    "토글 버튼은 두 개의 값을 전환하여 사용할 수 있습니다. 버튼이 활성화 되었을 때와 비활성화 되었을 때, 단 두 개의 값만 전환이 가능합니다."
   ]
  },
  {
   "cell_type": "markdown",
   "metadata": {},
   "source": [
    "#### 토글 버튼 만들기"
   ]
  },
  {
   "cell_type": "code",
   "execution_count": null,
   "metadata": {
    "scrolled": false
   },
   "outputs": [],
   "source": [
    "toggle_btn = widgets.ToggleButton(description = 'click me')\n",
    "\n",
    "display(toggle_btn)"
   ]
  },
  {
   "cell_type": "markdown",
   "metadata": {},
   "source": [
    "#### 토글 버튼 동작시키기"
   ]
  },
  {
   "cell_type": "code",
   "execution_count": null,
   "metadata": {
    "scrolled": true
   },
   "outputs": [],
   "source": [
    "toggle_btn = widgets.ToggleButton(description = 'toggle')\n",
    "\n",
    "def on_click(change):\n",
    "    print(change['new'])\n",
    "    \n",
    "toggle_btn.observe(on_click, 'value')\n",
    "\n",
    "display(toggle_btn)"
   ]
  },
  {
   "cell_type": "markdown",
   "metadata": {},
   "source": [
    "#### 토글 버튼을 사용하여 Zumi 헤드라이트 켜기와 끄기"
   ]
  },
  {
   "cell_type": "code",
   "execution_count": null,
   "metadata": {
    "scrolled": false
   },
   "outputs": [],
   "source": [
    "toggle_btn = widgets.ToggleButton(description = 'Headlights On/Off')\n",
    "\n",
    "def on_click(change):\n",
    "    if change['new']:\n",
    "        zumi.headlights_on()\n",
    "    else:\n",
    "        zumi.headlights_off()\n",
    "\n",
    "toggle_btn.observe(on_click, 'value')\n",
    "\n",
    "display(toggle_btn)"
   ]
  },
  {
   "cell_type": "markdown",
   "metadata": {},
   "source": [
    "#### <img src=\"image/icon.png\" align='left'> <b> 원하는 Zumi의 라이트를 토글 버튼으로 제어하도록 코딩해 보세요."
   ]
  },
  {
   "cell_type": "code",
   "execution_count": null,
   "metadata": {},
   "outputs": [],
   "source": [
    "#여기에 코딩해 보세요."
   ]
  },
  {
   "cell_type": "markdown",
   "metadata": {},
   "source": [
    "## Step 3: 슬라이더바 만들기\n",
    "마우스를 드래그해서 값을 조정할 수 있는 슬라이더바를 만들 수 있습니다."
   ]
  },
  {
   "cell_type": "markdown",
   "metadata": {},
   "source": [
    "#### 슬라이더바 만들기(정수형)"
   ]
  },
  {
   "cell_type": "code",
   "execution_count": null,
   "metadata": {
    "scrolled": false
   },
   "outputs": [],
   "source": [
    "widgets.IntSlider(\n",
    "    value=5,\n",
    "    min=0,\n",
    "    max=10,\n",
    "    step=1,\n",
    "    description='Value : ',\n",
    "    disabled=False,\n",
    "    continuous_update=False,\n",
    "    orientation='horizontal',\n",
    "    readout=True,\n",
    "    readout_format='d'\n",
    ")"
   ]
  },
  {
   "cell_type": "markdown",
   "metadata": {},
   "source": [
    "#### 슬라이더바 만들기(실수형)"
   ]
  },
  {
   "cell_type": "code",
   "execution_count": null,
   "metadata": {
    "scrolled": false
   },
   "outputs": [],
   "source": [
    "widgets.FloatSlider(\n",
    "    value=8.5,\n",
    "    min=5.0,\n",
    "    max=20.0,\n",
    "    step=0.1,\n",
    "    description='Value : ',\n",
    "    disabled=False,\n",
    "    continuous_update=False,\n",
    "    orientation='vertical',\n",
    "    readout=True,\n",
    "    readout_format='.1f'\n",
    ")"
   ]
  },
  {
   "cell_type": "markdown",
   "metadata": {},
   "source": [
    "#### 슬라이더바로 Zumi 속도 조절하여 이동하기"
   ]
  },
  {
   "cell_type": "code",
   "execution_count": null,
   "metadata": {
    "scrolled": true
   },
   "outputs": [],
   "source": [
    "speedSlider = widgets.IntSlider(\n",
    "    value=40,\n",
    "    min=1,\n",
    "    max=80,\n",
    "    step=1,\n",
    "    description='Speed :',\n",
    "    disabled=False,\n",
    "    continuous_update=False,\n",
    "    orientation='horizontal',\n",
    "    readout=True,\n",
    "    readout_format='d'    \n",
    ")\n",
    "\n",
    "def slider_change(change):\n",
    "    zumi.forward(speed=change['new'])\n",
    "    \n",
    "speedSlider.observe(slider_change, names='value')\n",
    "speedSlider\n"
   ]
  },
  {
   "cell_type": "markdown",
   "metadata": {},
   "source": [
    "#### <img src=\"image/icon.png\" align='left'> <b>슬라이더바로 `zumi.turn_left()` 명령어의 회전각도와 지속시간을 변경하여 동작할 수 있도록 코딩해 보세요."
   ]
  },
  {
   "cell_type": "code",
   "execution_count": null,
   "metadata": {},
   "outputs": [],
   "source": [
    "#여기에 코딩해 보세요."
   ]
  },
  {
   "cell_type": "markdown",
   "metadata": {},
   "source": [
    "## Step 4: 피아노 어플리케이션으로 연주하기\n",
    "Zumi의 버저를 연주할 수 있는 피아노입니다. 건반 버튼을 누르면 Zumi가 소리를 냅니다. '녹음' 토글 버튼은 클릭되어 있는 동안 멜로디를 녹음하고 클릭을 해제하면 녹음을 종료합니다. 녹음된 멜로디는 '재생' 버튼을 클릭하여 재생 시킬 수 있습니다. '음 높이' 슬라이더바를 조정하면 건반을 눌렀을 때 음의 높이를 조절 할 수 있습니다."
   ]
  },
  {
   "cell_type": "markdown",
   "metadata": {},
   "source": [
    "#### 피아노 어플리케이션으로 연주하기"
   ]
  },
  {
   "cell_type": "code",
   "execution_count": null,
   "metadata": {},
   "outputs": [],
   "source": [
    "\n",
    "note_duration = 250 # 음 길이 변경\n",
    "\n",
    "item_layout = Layout(height='100px', min_width='30px')\n",
    "item_layout2 = Layout(height='70px', min_width='10px')\n",
    "\n",
    "key = [0,1,0,1,0,0,1,0,1,0,1,0,0]\n",
    "items = []\n",
    "notes = 'C,C#,D,D#,E,F,F#,G,G#,A,A#,B,(C)'.split(',')\n",
    "\n",
    "recodingStart = False\n",
    "recodingIndex = 0\n",
    "recodingStartTime = 0\n",
    "recoding =[]\n",
    "\n",
    "# 녹음 토글 버튼이 눌렸을 때\n",
    "def on_Toggle_change(change):  \n",
    "    global recodingStart\n",
    "    global recodingIndex\n",
    "    global recodingStartTime\n",
    "    global recoding\n",
    "    \n",
    "    if change['new'] == True:\n",
    "        recodingStart = True\n",
    "        recodingIndex = 0 \n",
    "        recodingStartTime = 0\n",
    "        recoding =[]        \n",
    "        print(\"- Recoding Start\")        \n",
    "    else :\n",
    "        recodingStart = False    \n",
    "        print(\"- Recoding Stop\")\n",
    "\n",
    "# 재생 버튼이 눌렸을 때\n",
    "def on_play_clicked(b):\n",
    "    global recodingStart\n",
    "        \n",
    "    if(recodingStart == True):\n",
    "        print(\"Please stop recording\")        \n",
    "    else:        \n",
    "        print(\"- Play Recording\")    \n",
    "        recodingStartTime = time.time()\n",
    "        \n",
    "        for i in range(len(recoding)):\n",
    "            \n",
    "            nowTime = time.time() - recodingStartTime\n",
    "            note = recoding[i][0]\n",
    "            pitch = recoding[i][1]\n",
    "            timing = recoding[i][2]\n",
    "\n",
    "            while(nowTime < timing):\n",
    "                nowTime = time.time() - recodingStartTime\n",
    "                time.sleep(0.001)\n",
    "                \n",
    "            playSound(note,pitch)\n",
    "            \n",
    "        print(\"- Play done\")  \n",
    "                \n",
    "# 건반 버튼이 눌렸을 때 \n",
    "def on_button_clicked(b):\n",
    "    \n",
    "    global recodingStart\n",
    "    global recodingIndex\n",
    "    global recoding\n",
    "    global recodingStartTime\n",
    "\n",
    "    pitch = wSlider.value\n",
    "           \n",
    "    if(recodingStart == True):\n",
    "                \n",
    "        nowTime = time.time()             \n",
    "        if (recodingIndex == 0) :\n",
    "            recodingStartTime = nowTime\n",
    "            \n",
    "        recodingTime = nowTime - recodingStartTime        \n",
    "        recoding.append([b.description, wSlider.value, recodingTime])     \n",
    "        recodingIndex = recodingIndex + 1\n",
    "         \n",
    "    playSound(b.description, pitch)\n",
    "                    \n",
    "# 음높이에 따른 음계 재생을 위한 함수\n",
    "def playSound(note_type, pitch)  :\n",
    "    \n",
    "    if(note_type == 'C'):        \n",
    "        if pitch == 2:            \n",
    "            note_type = Note.C2\n",
    "        elif  pitch == 3:\n",
    "            note_type = Note.C3\n",
    "        elif  pitch == 4:\n",
    "            note_type = Note.C4\n",
    "        elif  pitch == 5:\n",
    "            note_type = Note.C5 \n",
    "        elif  pitch == 6:\n",
    "            note_type = Note.C6\n",
    "                        \n",
    "    elif(note_type == 'C#'):\n",
    "        if pitch == 2:            \n",
    "            note_type = Note.CS2\n",
    "        elif  pitch == 3:\n",
    "            note_type = Note.CS3\n",
    "        elif  pitch == 4:\n",
    "            note_type = Note.CS4\n",
    "        elif  pitch == 5:\n",
    "            note_type = Note.CS5 \n",
    "        elif  pitch == 6:\n",
    "            note_type = Note.CS6\n",
    "        \n",
    "    elif(note_type == 'D'):\n",
    "        if pitch == 2:            \n",
    "            note_type = Note.D2\n",
    "        elif  pitch == 3:\n",
    "            note_type = Note.D3\n",
    "        elif  pitch == 4:\n",
    "            note_type = Note.D4\n",
    "        elif  pitch == 5:\n",
    "            note_type = Note.D5 \n",
    "        elif  pitch == 6:\n",
    "            note_type = Note.D6\n",
    "        \n",
    "    elif(note_type == 'D#'):\n",
    "                \n",
    "        if pitch == 2:            \n",
    "            note_type = Note.DS2\n",
    "        elif  pitch == 3:\n",
    "            note_type = Note.DS3\n",
    "        elif  pitch == 4:\n",
    "            note_type = Note.DS4\n",
    "        elif  pitch == 5:\n",
    "            note_type = Note.DS5 \n",
    "        elif  pitch == 6:\n",
    "            note_type = Note.DS6\n",
    "        \n",
    "    elif(note_type == 'E'):\n",
    "        \n",
    "        if pitch == 2:            \n",
    "            note_type = Note.E2\n",
    "        elif  pitch == 3:\n",
    "            note_type = Note.E3\n",
    "        elif  pitch == 4:\n",
    "            note_type = Note.E4\n",
    "        elif  pitch == 5:\n",
    "            note_type = Note.E5\n",
    "        elif  pitch == 6:\n",
    "            note_type = Note.E6\n",
    "        \n",
    "    elif(note_type == 'F'):\n",
    "        \n",
    "        if pitch == 2:            \n",
    "            note_type = Note.F2\n",
    "        elif  pitch == 3:\n",
    "            note_type = Note.F3\n",
    "        elif  pitch == 4:\n",
    "            note_type = Note.F4\n",
    "        elif  pitch == 5:\n",
    "            note_type = Note.F5\n",
    "        elif  pitch == 6:\n",
    "            note_type = Note.F6\n",
    "        \n",
    "    elif(note_type == 'F#'):\n",
    "        \n",
    "        if pitch == 2:            \n",
    "            note_type = Note.FS2\n",
    "        elif  pitch == 3:\n",
    "            note_type = Note.FS3\n",
    "        elif  pitch == 4:\n",
    "            note_type = Note.FS4\n",
    "        elif  pitch == 5:\n",
    "            note_type = Note.FS5\n",
    "        elif  pitch == 6:\n",
    "            note_type = Note.FS6\n",
    "        \n",
    "    elif(note_type == 'G'):\n",
    "        \n",
    "        if pitch == 2:            \n",
    "            note_type = Note.G2\n",
    "        elif  pitch == 3:\n",
    "            note_type = Note.G3\n",
    "        elif  pitch == 4:\n",
    "            note_type = Note.G4\n",
    "        elif  pitch == 5:\n",
    "            note_type = Note.G5\n",
    "        elif  pitch == 6:\n",
    "            note_type = Note.G6\n",
    "        \n",
    "    elif(note_type == 'G#'):\n",
    "        \n",
    "        if pitch == 2:            \n",
    "            note_type = Note.GS2\n",
    "        elif  pitch == 3:\n",
    "            note_type = Note.GS3\n",
    "        elif  pitch == 4:\n",
    "            note_type = Note.GS4\n",
    "        elif  pitch == 5:\n",
    "            note_type = Note.GS5\n",
    "        elif  pitch == 6:\n",
    "            note_type = Note.GS6\n",
    "                \n",
    "    elif(note_type == 'A'):\n",
    "\n",
    "        if pitch == 2:            \n",
    "            note_type = Note.A2\n",
    "        elif  pitch == 3:\n",
    "            note_type = Note.A3\n",
    "        elif  pitch == 4:\n",
    "            note_type = Note.A4\n",
    "        elif  pitch == 5:\n",
    "            note_type = Note.A5\n",
    "        elif  pitch == 6:\n",
    "            note_type = Note.A6\n",
    "                \n",
    "    elif(note_type == 'A#'):\n",
    "        \n",
    "        if pitch == 2:            \n",
    "            note_type = Note.AS2\n",
    "        elif  pitch == 3:\n",
    "            note_type = Note.AS3\n",
    "        elif  pitch == 4:\n",
    "            note_type = Note.AS4\n",
    "        elif  pitch == 5:\n",
    "            note_type = Note.AS5\n",
    "        elif  pitch == 6:\n",
    "            note_type = Note.AS6        \n",
    "        \n",
    "    elif(note_type == 'B'):\n",
    "        \n",
    "        if pitch == 2:            \n",
    "            note_type = Note.B2\n",
    "        elif  pitch == 3:\n",
    "            note_type = Note.B3\n",
    "        elif  pitch == 4:\n",
    "            note_type = Note.B4\n",
    "        elif  pitch == 5:\n",
    "            note_type = Note.B5\n",
    "        elif  pitch == 6:\n",
    "            note_type = Note.B6       \n",
    "                \n",
    "    elif(note_type == '(C)'):\n",
    "        \n",
    "        if pitch == 2:            \n",
    "            note_type = Note.C3\n",
    "        elif  pitch == 3:\n",
    "            note_type = Note.C4\n",
    "        elif  pitch == 4:\n",
    "            note_type = Note.C5\n",
    "        elif  pitch == 5:\n",
    "            note_type = Note.C6\n",
    "        elif  pitch == 6:\n",
    "            note_type = Note.C6    \n",
    "                        \n",
    "    zumi.play_note(note_type, note_duration)\n",
    "    \n",
    "\n",
    "        \n",
    "for i in range(len(key)):\n",
    "    if key[i] == 0:\n",
    "        items.append(Button(layout=item_layout, \n",
    "                            #button_style='warning'\n",
    "                           ))\n",
    "        items[i].style.button_color = 'whiteSmoke'\n",
    "    else: \n",
    "        items.append(Button(layout=item_layout2, \n",
    "                            button_style='success'\n",
    "                           ))\n",
    "        items[i].style.button_color = 'black'\n",
    "\n",
    "for i in range(len(items)):\n",
    "    items[i].description = notes[i]\n",
    "\n",
    "    \n",
    "box_layout = Layout(width='600px',\n",
    "                    height='',\n",
    "                    flex_flow='row',\n",
    "                    display='flex')\n",
    "\n",
    "for btn in items:\n",
    "    btn.on_click(on_button_clicked)\n",
    "                \n",
    "        \n",
    "wSlider = IntSlider(\n",
    "    value=4, min=2, max=6, step=1,\n",
    "    description='note:',\n",
    "    continuous_update=False,\n",
    "    orientation='horizontal',\n",
    ")\n",
    "\n",
    "wButton1 = ToggleButton(description='recoding', layout=Layout(height='30px', min_width='70px'), button_style='danger')\n",
    "wButton2 = Button(description='▶', layout=Layout(height='30px', min_width='30px'), button_style='info')\n",
    "    \n",
    "items2=[]\n",
    "items3=[]\n",
    "\n",
    "items2.append(wSlider)\n",
    "carousel2 = Box(children=items2)\n",
    "\n",
    "items3.append(wButton1)\n",
    "items3.append(wButton2)\n",
    "carousel3 = Box(children=items3, layout=Layout(\n",
    "    flex_flow='row',\n",
    "))\n",
    "\n",
    "carousel4 = Box([carousel3,carousel2], layout=Layout(\n",
    "    flex_flow='column',\n",
    "    align_items = 'center',\n",
    "    justify_content='center',\n",
    "))\n",
    "\n",
    "wButton1.observe(on_Toggle_change, names='value')\n",
    "wButton2.on_click(on_play_clicked)\n",
    "\n",
    "\n",
    "\n",
    "carousel = Box(children=items, layout=box_layout)\n",
    "Box([carousel,carousel4])"
   ]
  },
  {
   "cell_type": "markdown",
   "metadata": {},
   "source": [
    "## Step 5: 자동으로 위젯 만들기\n",
    "`interact` 위젯은 함수의 인자에 따라 자동으로 위젯을 생성해 줍니다."
   ]
  },
  {
   "cell_type": "markdown",
   "metadata": {},
   "source": [
    "#### 라이브러리 가져오기\n",
    "`interact ` 위젯을 사용하기 위해 필요한 라이브러리를 가져옵니다."
   ]
  },
  {
   "cell_type": "code",
   "execution_count": null,
   "metadata": {},
   "outputs": [],
   "source": [
    "from ipywidgets import interact"
   ]
  },
  {
   "cell_type": "markdown",
   "metadata": {},
   "source": [
    "#### interact 위젯 만들기(정수형)"
   ]
  },
  {
   "cell_type": "code",
   "execution_count": null,
   "metadata": {
    "scrolled": true
   },
   "outputs": [],
   "source": [
    "def function(x):\n",
    "    return x\n",
    "\n",
    "interact(function, x=10); # 세미콜론을 붙이지 않아도 상관 없습니다."
   ]
  },
  {
   "cell_type": "markdown",
   "metadata": {},
   "source": [
    "#### Zumi 회전을 interact 위젯으로 제어하기\n",
    "슬라이더 위젯과 Zumi의 처리속도가 다르기 때문에 반복 동작을 할 수도 있습니다. "
   ]
  },
  {
   "cell_type": "code",
   "execution_count": null,
   "metadata": {},
   "outputs": [],
   "source": [
    "def turn_function(val):\n",
    "    zumi.turn_left(desired_angle = val)\n",
    "    \n",
    "interact(turn_function, val = 30);"
   ]
  },
  {
   "cell_type": "markdown",
   "metadata": {},
   "source": [
    "#### <img src=\"image/icon.png\" align='left'> <b>`zumi.forward()` 명령어의 duration 매개 변수를 interact 위젯으로 제어할 수 있도록 코딩해 보세요."
   ]
  },
  {
   "cell_type": "code",
   "execution_count": null,
   "metadata": {
    "scrolled": false
   },
   "outputs": [],
   "source": [
    "#여기에 코딩해 보세요."
   ]
  },
  {
   "cell_type": "markdown",
   "metadata": {},
   "source": [
    "#### interact 위젯 만들기(불린형)"
   ]
  },
  {
   "cell_type": "code",
   "execution_count": null,
   "metadata": {
    "scrolled": false
   },
   "outputs": [],
   "source": [
    "def function(x):\n",
    "    return x\n",
    "\n",
    "interact(function, x=True); # 세미콜론을 붙이지 않아도 상관 없습니다."
   ]
  },
  {
   "cell_type": "markdown",
   "metadata": {},
   "source": [
    "#### Zumi 헤드라이트를 interact 위젯으로 제어하기"
   ]
  },
  {
   "cell_type": "code",
   "execution_count": null,
   "metadata": {
    "scrolled": false
   },
   "outputs": [],
   "source": [
    "def headlights_func(headlights):\n",
    "    if headlights:\n",
    "        zumi.headlights_on()\n",
    "    else:\n",
    "        zumi.headlights_off()\n",
    "        \n",
    "interact(headlights_func, headlights=False);"
   ]
  },
  {
   "cell_type": "markdown",
   "metadata": {},
   "source": [
    "#### <img src=\"image/icon.png\" align='left'> <b> interact 위젯으로 원하는 Zumi 라이트를 제어할 수 있도록 코딩해 보세요."
   ]
  },
  {
   "cell_type": "code",
   "execution_count": null,
   "metadata": {},
   "outputs": [],
   "source": [
    "#여기에 코딩해 보세요."
   ]
  },
  {
   "cell_type": "markdown",
   "metadata": {},
   "source": [
    "#### interact 위젯 만들기(문자형)"
   ]
  },
  {
   "cell_type": "code",
   "execution_count": null,
   "metadata": {},
   "outputs": [],
   "source": [
    "def function(x):\n",
    "    return x\n",
    "\n",
    "interact(function, x='Hi Zumi!'); # 세미콜론을 붙이지 않아도 상관 없습니다."
   ]
  },
  {
   "cell_type": "markdown",
   "metadata": {},
   "source": [
    "#### Zumi 스크린에 interact 위젯을 이용하여 문자 표시하기"
   ]
  },
  {
   "cell_type": "code",
   "execution_count": null,
   "metadata": {},
   "outputs": [],
   "source": [
    "def text_func(text):\n",
    "    screen.draw_text(str(text))\n",
    "    \n",
    "interact(text_func, text='input text');"
   ]
  },
  {
   "cell_type": "markdown",
   "metadata": {},
   "source": [
    "#### <img src=\"image/icon.png\" align='left'> <b>  전광판 명령어 `loop_text()`를 interact 위젯으로 제어하도록 코딩해 보세요."
   ]
  },
  {
   "cell_type": "code",
   "execution_count": null,
   "metadata": {},
   "outputs": [],
   "source": [
    "from module.ElectronicBoard import loop_text\n",
    "\n",
    "#여기에 코딩해 보세요."
   ]
  },
  {
   "cell_type": "markdown",
   "metadata": {},
   "source": [
    "#### `loop_text()` 멈추기"
   ]
  },
  {
   "cell_type": "code",
   "execution_count": null,
   "metadata": {},
   "outputs": [],
   "source": [
    "loop_text('S')"
   ]
  }
 ],
 "metadata": {
  "kernelspec": {
   "display_name": "Python 3",
   "language": "python",
   "name": "python3"
  },
  "language_info": {
   "codemirror_mode": {
    "name": "ipython",
    "version": 3
   },
   "file_extension": ".py",
   "mimetype": "text/x-python",
   "name": "python",
   "nbconvert_exporter": "python",
   "pygments_lexer": "ipython3",
   "version": "3.7.6"
  }
 },
 "nbformat": 4,
 "nbformat_minor": 2
}
