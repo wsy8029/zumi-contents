{
 "cells": [
  {
   "cell_type": "markdown",
   "metadata": {},
   "source": [
    "<img src=\"image/Title.png\" width = 1000>"
   ]
  },
  {
   "cell_type": "markdown",
   "metadata": {},
   "source": [
    "# Zumi 사진 효과 어플리케이션\n",
    "이번 챕터에서는 다양한 선택 위젯을 만드는 방법에 대해 알아보겠습니다. 그리고 Zumi 카메라를 이용하여 사진을 찍고 어플리케이션으로 사진에 효과를 적용시켜보겠습니다."
   ]
  },
  {
   "cell_type": "markdown",
   "metadata": {},
   "source": [
    "## Step 1: 라이브러리 가져오기\n",
    "선택 위젯을 만드는데 필요한 라이브러리를 가져오는 것입니다. <b>만약 이 셀을 실행하지 않으면, 이후의 프로그램은 작동하지 않습니다."
   ]
  },
  {
   "cell_type": "code",
   "execution_count": null,
   "metadata": {
    "scrolled": true
   },
   "outputs": [],
   "source": [
    "from zumi.zumi import Zumi \n",
    "from zumi.util.screen import Screen\n",
    "import IPython.display\n",
    "import ipywidgets as widgets\n",
    "import time\n",
    "from module.IrSensor import reading_ir\n",
    "\n",
    "zumi = Zumi()\n",
    "screen = Screen()"
   ]
  },
  {
   "cell_type": "markdown",
   "metadata": {},
   "source": [
    "## Step 2: 라디오 버튼 만들기\n",
    "선택 영역에서 하나만 선택이 가능한 단추 버튼을 라디오 버튼이라고 합니다. 라디오 버튼은 하나를 선택하면 다른 하나는 자동으로 선택이 해제됩니다."
   ]
  },
  {
   "cell_type": "markdown",
   "metadata": {},
   "source": [
    "#### 라디오 버튼 만들기"
   ]
  },
  {
   "cell_type": "code",
   "execution_count": null,
   "metadata": {
    "scrolled": true
   },
   "outputs": [],
   "source": [
    "widgets.RadioButtons(\n",
    "    options = ['option1', 'option2', 'option3'],\n",
    "    value = None,\n",
    "    description = 'RadioButtons',\n",
    "    disabled = False\n",
    ")"
   ]
  },
  {
   "cell_type": "markdown",
   "metadata": {},
   "source": [
    "#### 라디오 버튼을 사용하여 Zumi 라이트를 켜고 끄기"
   ]
  },
  {
   "cell_type": "code",
   "execution_count": null,
   "metadata": {
    "scrolled": true
   },
   "outputs": [],
   "source": [
    "lightBtn = widgets.RadioButtons(\n",
    "    options = ['Headlights', 'brakelights', 'Lights Off'],\n",
    "    value = None,\n",
    "    description = 'Lights',\n",
    "    disabled = False\n",
    ")\n",
    "\n",
    "def select_light(change):\n",
    "    light = change['new']\n",
    "    \n",
    "    if light == 'Headlights':\n",
    "        zumi.headlights_on()\n",
    "        print('headlight')\n",
    "        \n",
    "        \n",
    "    elif light == 'brakelights':\n",
    "        zumi.brake_lights_on()\n",
    "        print('brakelights')\n",
    "        \n",
    "    else:\n",
    "        zumi.all_lights_off()\n",
    "        print('lights off')\n",
    "\n",
    "lightBtn.observe(select_light, names='value')\n",
    "display(lightBtn)\n"
   ]
  },
  {
   "cell_type": "markdown",
   "metadata": {},
   "source": [
    "<img src = 'image/icon.png' align = 'left'> <b> 라디오 버튼을 선택하면 Zumi가 주행하도록 코딩해 보세요."
   ]
  },
  {
   "cell_type": "code",
   "execution_count": null,
   "metadata": {},
   "outputs": [],
   "source": [
    "#여기에 코딩해 보세요."
   ]
  },
  {
   "cell_type": "markdown",
   "metadata": {},
   "source": [
    "## Step 3: 셀렉 위젯 만들기\n",
    "라디오버튼처럼 선택 목록에서 하나만 선택할 수 있는 위젯을 만듭니다."
   ]
  },
  {
   "cell_type": "markdown",
   "metadata": {},
   "source": [
    "#### 셀렉 위젯 만들기"
   ]
  },
  {
   "cell_type": "code",
   "execution_count": null,
   "metadata": {
    "scrolled": false
   },
   "outputs": [],
   "source": [
    "widgets.Select(\n",
    "    options=['Select1', 'Select2', 'Select3'],\n",
    "    value = None,\n",
    "    description='Menu',\n",
    "    disabled = False\n",
    ")"
   ]
  },
  {
   "cell_type": "markdown",
   "metadata": {},
   "source": [
    "#### 셀렉 위젯을 이용하여 원하는 절대 각도로 회전하기"
   ]
  },
  {
   "cell_type": "code",
   "execution_count": null,
   "metadata": {
    "scrolled": false
   },
   "outputs": [],
   "source": [
    "zumi = Zumi()\n",
    "\n",
    "angleSelect = widgets.Select(\n",
    "    options=range(0, 361, 30),\n",
    "    value = None,\n",
    "    description='Menu',\n",
    "    disabled = False\n",
    ")\n",
    "\n",
    "\n",
    "def select_angle(change):\n",
    "    angle = change['new']\n",
    "    \n",
    "    for i in range(0, 361, 30):\n",
    "        if angle == i:\n",
    "            zumi.turn(desired_angle = angle)\n",
    "\n",
    "angleSelect.observe(select_angle, names='value')\n",
    "display(angleSelect)"
   ]
  },
  {
   "cell_type": "markdown",
   "metadata": {},
   "source": [
    "<img src = 'image/icon.png' align = 'left'> <b> 셀렉 위젯을 이용하여 적외선센서의 위치를 선택하면 Zumi 스크린에 적외선 데이터가 출력되도록 코딩해 보세요."
   ]
  },
  {
   "cell_type": "code",
   "execution_count": null,
   "metadata": {},
   "outputs": [],
   "source": [
    "#여기에 코딩해 보세요."
   ]
  },
  {
   "cell_type": "markdown",
   "metadata": {},
   "source": [
    "## Step 4: 사진 효과 어플리케이션\n",
    "Zumi 카메라를 이용하여 사진을 찍고 사진에 다양한 효과를 적용할 수 있는 어플리케이션입니다."
   ]
  },
  {
   "cell_type": "markdown",
   "metadata": {},
   "source": [
    "#### 라이브러리 가져오기\n",
    "사진 효과 어플리케이션에 필요한 라이브러리를 가져오는 것입니다. <b>만약 이 셀을 실행하지 않으면, 이후의 프로그램은 작동하지 않습니다."
   ]
  },
  {
   "cell_type": "code",
   "execution_count": null,
   "metadata": {},
   "outputs": [],
   "source": [
    "from module.PhotoApp import take_photo, rgb_channel, mosaic, transform, grayscale, btn_borderline, slide_borderline"
   ]
  },
  {
   "cell_type": "markdown",
   "metadata": {},
   "source": [
    "#### Zumi 카메라로 사진 찍기\n",
    "사진의 이름과 사이즈를 입력하고 Zumi의 카메라로 사진을 찍습니다. \n",
    "\n",
    "* input Name : <font face=\"Courier\">photo</font>  \n",
    "* width : <font face=\"Courier\">640</font>  \n",
    "* height : <font face=\"Courier\">480</font>"
   ]
  },
  {
   "cell_type": "code",
   "execution_count": null,
   "metadata": {},
   "outputs": [],
   "source": [
    "take_photo()"
   ]
  },
  {
   "cell_type": "markdown",
   "metadata": {},
   "source": [
    "#### RGB 채널 표시하기\n",
    "Zumi 카메라로 찍은 사진의 RGB(Red, Green, Blue) 색상 정보를 표시해 줍니다.\n",
    "<br>\n",
    "<img src = 'image/ch18/imageFilter1.png' align = 'left'>"
   ]
  },
  {
   "cell_type": "code",
   "execution_count": null,
   "metadata": {},
   "outputs": [],
   "source": [
    "rgb_channel()"
   ]
  },
  {
   "cell_type": "markdown",
   "metadata": {},
   "source": [
    "#### 모자이크 하기\n",
    "사진에 모자이크 효과를 적용시킵니다.\n",
    "<br>\n",
    "<img src = 'image/ch18/imageFilter2.png' align = 'left' width = 230>"
   ]
  },
  {
   "cell_type": "code",
   "execution_count": null,
   "metadata": {},
   "outputs": [],
   "source": [
    "mosaic()"
   ]
  },
  {
   "cell_type": "markdown",
   "metadata": {},
   "source": [
    "#### 사진 회전하기\n",
    "사진을 왼쪽, 오른쪽으로 90도 회전과 상하좌우 반전을 시킬 수 있습니다.<br>\n",
    "<img src = 'image/ch18/imageFilter3.png' align = 'left' width = 800>"
   ]
  },
  {
   "cell_type": "code",
   "execution_count": null,
   "metadata": {},
   "outputs": [],
   "source": [
    "transform()"
   ]
  },
  {
   "cell_type": "markdown",
   "metadata": {},
   "source": [
    "#### 흑백농도 조절하기\n",
    "사진의 흑백 농도를 조절 할 수 있습니다.\n",
    "<br>\n",
    "<img src = 'image/ch18/imageFilter4.png' align = 'left' width = 400>"
   ]
  },
  {
   "cell_type": "code",
   "execution_count": null,
   "metadata": {},
   "outputs": [],
   "source": [
    "grayscale()"
   ]
  },
  {
   "cell_type": "markdown",
   "metadata": {},
   "source": [
    "#### 윤곽선 만들기1\n",
    "버튼을 누르면 사진의 윤곽선만 검출하여 표시합니다.<br>\n",
    "<img src = 'image/ch18/imageFilter5.png' align = 'left' width = 200>"
   ]
  },
  {
   "cell_type": "code",
   "execution_count": null,
   "metadata": {},
   "outputs": [],
   "source": [
    "btn_borderline()"
   ]
  },
  {
   "cell_type": "markdown",
   "metadata": {},
   "source": [
    "#### 윤곽선 만들기2\n",
    "슬라이드바로 사진의 윤곽선 양을 조절하여 검출합니다.<br>\n",
    "<img src = 'image/ch18/imageFilter6.png' align = 'left' width = 400>"
   ]
  },
  {
   "cell_type": "code",
   "execution_count": null,
   "metadata": {},
   "outputs": [],
   "source": [
    "slide_borderline()"
   ]
  },
  {
   "cell_type": "markdown",
   "metadata": {},
   "source": [
    "## Step 5: 다양한 선택 위젯\n",
    "라디오버튼과 선택창처럼 선택 영역에서 목록을 선택할 수 있는 다양한 위젯이 있습니다."
   ]
  },
  {
   "cell_type": "markdown",
   "metadata": {},
   "source": [
    "#### 드롭 다운 위젯 만들기"
   ]
  },
  {
   "cell_type": "code",
   "execution_count": null,
   "metadata": {
    "scrolled": true
   },
   "outputs": [],
   "source": [
    "import ipywidgets as widgets\n",
    "\n",
    "widgets.Dropdown(\n",
    "    options=['option1', 'option2', 'option3'],\n",
    "    value='option1',\n",
    "    description='Select : ',\n",
    "    disabled=False,\n",
    ")"
   ]
  },
  {
   "cell_type": "markdown",
   "metadata": {},
   "source": [
    "#### 드롭 다운 위젯을 사용하여 주미 표정 출력하기"
   ]
  },
  {
   "cell_type": "code",
   "execution_count": null,
   "metadata": {
    "scrolled": false
   },
   "outputs": [],
   "source": [
    "emotionSelect = widgets.Dropdown(\n",
    "                    options = ['happy', 'angry', 'sleeping'],\n",
    "                    value = None,\n",
    "                    description = 'Select : ',\n",
    "                    disabled = False\n",
    "                    )\n",
    "\n",
    "def select_emotion(change):\n",
    "    emotion = change['new']\n",
    "    \n",
    "    if emotion == 'happy':\n",
    "        screen.happy()\n",
    "        \n",
    "    elif emotion == 'angry':\n",
    "        screen.angry()\n",
    "        \n",
    "    else:\n",
    "        screen.sleeping()\n",
    "        \n",
    "emotionSelect.observe(select_emotion, names='value')\n",
    "display(emotionSelect)"
   ]
  },
  {
   "cell_type": "markdown",
   "metadata": {},
   "source": [
    "<img src = 'image/icon.png' align = 'left'> <b> 드롭 다운 위젯을 사용하여 선택한 각도로 Zumi가 회전하도록 코딩해 보세요."
   ]
  },
  {
   "cell_type": "code",
   "execution_count": null,
   "metadata": {},
   "outputs": [],
   "source": [
    "#여기에 코딩해 보세요."
   ]
  },
  {
   "cell_type": "markdown",
   "metadata": {},
   "source": [
    "#### 다중 셀렉 위젯 만들기"
   ]
  },
  {
   "cell_type": "code",
   "execution_count": null,
   "metadata": {
    "scrolled": true
   },
   "outputs": [],
   "source": [
    "import ipywidgets as widgets\n",
    "\n",
    "widgets.SelectMultiple(\n",
    "    options=['option1', 'option2', 'option3', 'option4'],\n",
    "    value = [],\n",
    "    description='Select',\n",
    "    disabled=False\n",
    ")\n"
   ]
  },
  {
   "cell_type": "markdown",
   "metadata": {},
   "source": [
    "#### 다중 셀렉 위젯을 사용하여 Zumi 라이트 켜기"
   ]
  },
  {
   "cell_type": "code",
   "execution_count": null,
   "metadata": {},
   "outputs": [],
   "source": [
    "zumi.all_lights_off()\n",
    "\n",
    "lightSelect = widgets.SelectMultiple(\n",
    "    options = ['Front Left', 'Front Right', 'Back Left', 'Back Right'],\n",
    "    value = [],\n",
    "    description = 'Light',\n",
    "    disabled = False\n",
    "    )\n",
    "\n",
    "def select_light(change):\n",
    "    lightList = change['new']\n",
    "    \n",
    "    zumi.all_lights_off()\n",
    "    \n",
    "    for i in lightList:\n",
    "        if i == 'Front Left':\n",
    "            zumi.led_on(0)\n",
    "        elif i == 'Front Right':\n",
    "            zumi.led_on(1)\n",
    "        elif i == 'Back Left':\n",
    "            zumi.led_on(2)\n",
    "        elif i == 'Back Right':\n",
    "            zumi.led_on(3)\n",
    "            \n",
    "lightSelect.observe(select_light, names = 'value')\n",
    "display(lightSelect)"
   ]
  },
  {
   "cell_type": "markdown",
   "metadata": {},
   "source": [
    "<img src = 'image/icon.png' align = 'left'> <b> 다중 선택창을 사용하여 Zumi 스크린에 문자를 출력하도록 코딩해 보세요."
   ]
  },
  {
   "cell_type": "code",
   "execution_count": null,
   "metadata": {},
   "outputs": [],
   "source": [
    "#여기에 코딩해 보세요."
   ]
  }
 ],
 "metadata": {
  "kernelspec": {
   "display_name": "Python 3",
   "language": "python",
   "name": "python3"
  },
  "language_info": {
   "codemirror_mode": {
    "name": "ipython",
    "version": 3
   },
   "file_extension": ".py",
   "mimetype": "text/x-python",
   "name": "python",
   "nbconvert_exporter": "python",
   "pygments_lexer": "ipython3",
   "version": "3.6.5"
  }
 },
 "nbformat": 4,
 "nbformat_minor": 2
}
