{
 "cells": [
  {
   "cell_type": "markdown",
   "metadata": {},
   "source": [
    "<img src=\"image/Title.png\" width = 1000>"
   ]
  },
  {
   "cell_type": "markdown",
   "metadata": {},
   "source": [
    "# 행맨(hangman) : 단어 맞추기 게임\n",
    "이번 챕터에서는 바운디드 텍스트 위젯, 이미지 위젯 등을 만드는 방법에 대해 알아보겠습니다. 그리고 플레이 위젯을 이용하여 간단한 애니메이션을 동작시켜보겠습니다. 마지막으로 단어 맞추기 게임 행맨을 해봅시다."
   ]
  },
  {
   "cell_type": "markdown",
   "metadata": {},
   "source": [
    "## Step 1: 라이브러리 가져오기\n",
    "이번 챕터에서 위젯을 만들기 위해 필요한 라이브러리를 가져오는 것입니다. <b>만약 이 셀을 실행하지 않으면, 이후의 프로그램은 작동하지 않습니다."
   ]
  },
  {
   "cell_type": "code",
   "execution_count": null,
   "metadata": {
    "scrolled": true
   },
   "outputs": [],
   "source": [
    "from zumi.zumi import Zumi\n",
    "from zumi.protocol import Note\n",
    "import IPython.display\n",
    "import ipywidgets as widgets\n",
    "import cv2\n",
    "import time\n",
    "\n",
    "zumi = Zumi()"
   ]
  },
  {
   "cell_type": "markdown",
   "metadata": {},
   "source": [
    "## Step 2: 바운디드 텍스트 위젯 만들기\n",
    "바운디드 텍스트 위젯은 오른쪽의 화살표 버튼을 클릭하여 값을 조정할 수 있는 위젯입니다."
   ]
  },
  {
   "cell_type": "markdown",
   "metadata": {},
   "source": [
    "#### 바운디드 텍스트 위젯 만들기(정수형)"
   ]
  },
  {
   "cell_type": "code",
   "execution_count": null,
   "metadata": {
    "scrolled": false
   },
   "outputs": [],
   "source": [
    "widgets.BoundedIntText(\n",
    "    value=0,\n",
    "    min=0,\n",
    "    max=10,\n",
    "    step=1,\n",
    "    description='Value : ',\n",
    "    disabled=False\n",
    ")"
   ]
  },
  {
   "cell_type": "markdown",
   "metadata": {},
   "source": [
    "#### 바운디드 텍스트 위젯 만들기(실수형)"
   ]
  },
  {
   "cell_type": "code",
   "execution_count": null,
   "metadata": {
    "scrolled": false
   },
   "outputs": [],
   "source": [
    "widgets.BoundedFloatText(\n",
    "    value=1.1,\n",
    "    min=0,\n",
    "    max=10.0,\n",
    "    step=0.1,\n",
    "    description='Value : ',\n",
    "    disabled=False\n",
    ")"
   ]
  },
  {
   "cell_type": "markdown",
   "metadata": {},
   "source": [
    "#### 바운디드 텍스트 위젯를 사용하여 `zumi.forward()` 명령어의 지속 시간 제어하기 "
   ]
  },
  {
   "cell_type": "code",
   "execution_count": null,
   "metadata": {
    "scrolled": true
   },
   "outputs": [],
   "source": [
    "time = 1\n",
    "\n",
    "durationBit = widgets.BoundedIntText(\n",
    "    value = 1,\n",
    "    min = 0,\n",
    "    max = 5,\n",
    "    step = 1,\n",
    "    description = 'Duration : ',\n",
    "    disabled = False\n",
    ")\n",
    "\n",
    "runBtn = widgets.Button(\n",
    "    description = 'RUN',\n",
    "    button_style = 'success'\n",
    "    \n",
    ")\n",
    "\n",
    "def change_duration(change):\n",
    "    global time\n",
    "    time = change['new']\n",
    "    \n",
    "def run_forward(val):\n",
    "    zumi.forward(duration = time)\n",
    "\n",
    "durationBit.observe(change_duration, names = 'value')\n",
    "runBtn.on_click(run_forward)\n",
    "\n",
    "display(durationBit, runBtn)"
   ]
  },
  {
   "cell_type": "markdown",
   "metadata": {},
   "source": [
    "<img src = 'image/icon.png' align = 'left'> <b> 바운디드 텍스트 위젯를 사용하여 `zumi.turn()` 명령어의 각도를 제어하도록 코딩해 보세요."
   ]
  },
  {
   "cell_type": "code",
   "execution_count": null,
   "metadata": {},
   "outputs": [],
   "source": [
    "#여기에 코딩해 보세요."
   ]
  },
  {
   "cell_type": "markdown",
   "metadata": {},
   "source": [
    "## Step 3: 이미지 위젯\n",
    "위젯을 사용하여 이미지를 출력할 수 있습니다."
   ]
  },
  {
   "cell_type": "markdown",
   "metadata": {},
   "source": [
    "#### 이미지 출력하기"
   ]
  },
  {
   "cell_type": "code",
   "execution_count": null,
   "metadata": {
    "scrolled": true
   },
   "outputs": [],
   "source": [
    "file = open(\"image/ch19/character.png\", \"rb\")\n",
    "image = file.read()\n",
    "widgets.Image(\n",
    "    value=image,\n",
    "    format='png',\n",
    "    width=300,\n",
    "    height=400,\n",
    ")"
   ]
  },
  {
   "cell_type": "markdown",
   "metadata": {},
   "source": [
    "<img src = 'image/icon.png' align = 'left'> <b> 원하는 이미지를 출력하도록 코딩해 보세요."
   ]
  },
  {
   "cell_type": "code",
   "execution_count": null,
   "metadata": {
    "scrolled": true
   },
   "outputs": [],
   "source": [
    "#여기에 코딩해 보세요."
   ]
  },
  {
   "cell_type": "markdown",
   "metadata": {},
   "source": [
    "## Step 4: 플레이(애니메이션) 위젯\n",
    "플레이 위젯은 일정한 속도로 값을 반복하여 애니메이션을 수행하는데 유용한 위젯입니다."
   ]
  },
  {
   "cell_type": "code",
   "execution_count": 5,
   "metadata": {},
   "outputs": [],
   "source": [
    "import ipywidgets as widgets\n",
    "import cv2\n",
    "import numpy as np\n",
    "import IPython.display\n",
    "from PIL import Image"
   ]
  },
  {
   "cell_type": "markdown",
   "metadata": {},
   "source": [
    "#### 플레이 위젯 만들기"
   ]
  },
  {
   "cell_type": "code",
   "execution_count": 2,
   "metadata": {
    "scrolled": true
   },
   "outputs": [
    {
     "data": {
      "application/vnd.jupyter.widget-view+json": {
       "model_id": "ee9941c5262e42218ce40cc6b97a7e6c",
       "version_major": 2,
       "version_minor": 0
      },
      "text/plain": [
       "HBox(children=(Play(value=0, description='Press play'), IntSlider(value=0)))"
      ]
     },
     "metadata": {},
     "output_type": "display_data"
    }
   ],
   "source": [
    "play = widgets.Play(\n",
    "    value=0,\n",
    "    min=0,\n",
    "    max=100,\n",
    "    step=1,\n",
    "    description=\"Press play\",\n",
    "    disabled=False\n",
    ")\n",
    "\n",
    "slider = widgets.IntSlider()\n",
    "widgets.jslink((play, 'value'), (slider, 'value'))\n",
    "widgets.HBox([play, slider])"
   ]
  },
  {
   "cell_type": "markdown",
   "metadata": {},
   "source": [
    "#### 플레이 위젯을 이용하여 애니메이션 재생하기"
   ]
  },
  {
   "cell_type": "code",
   "execution_count": 6,
   "metadata": {
    "scrolled": false
   },
   "outputs": [
    {
     "data": {
      "application/vnd.jupyter.widget-view+json": {
       "model_id": "ad90568cff4e496790b81e30c8600ea7",
       "version_major": 2,
       "version_minor": 0
      },
      "text/plain": [
       "HBox(children=(Play(value=0, description='Press play', max=20), IntSlider(value=0, max=19)))"
      ]
     },
     "metadata": {},
     "output_type": "display_data"
    },
    {
     "data": {
      "application/vnd.jupyter.widget-view+json": {
       "model_id": "0fbcd381807e456c972e42c1d97d459e",
       "version_major": 2,
       "version_minor": 0
      },
      "text/plain": [
       "Image(value=b'\\x89PNG\\r\\n\\x1a\\n\\x00\\x00\\x00\\rIHDR\\x00\\x00\\x04\\x9e\\x00\\x00\\x04\\x9e\\x08\\x02\\x00\\x00\\x00\\x08qs\\xb…"
      ]
     },
     "metadata": {},
     "output_type": "display_data"
    }
   ],
   "source": [
    "nameList = ['0.png', '1.png','2.png','3.png','4.png',\n",
    "            '5.png','6.png','7.png','8.png','9.png',\n",
    "           '10.png','11.png','12.png','13.png','14.png',\n",
    "           '15.png','16.png','17.png','18.png','19.png']\n",
    "\n",
    "imageList = []\n",
    "\n",
    "for fileName in nameList:\n",
    "    file = cv2.imread('image/ch19/animation_image/' + fileName, cv2.COLOR_RGB2BGR)\n",
    "    file = cv2.imencode(\".png\", file)[1].tostring()\n",
    "    imageList.append(file)\n",
    "\n",
    "name = imageList[0]\n",
    "    \n",
    "screen = widgets.Image(\n",
    "            value = name,\n",
    "            format='png',\n",
    "            width=300,\n",
    "            height=300,\n",
    "            continue_update = True\n",
    "        )    \n",
    "    \n",
    "def slider_func(change):\n",
    "    screen.value = imageList[change['new']] \n",
    "    \n",
    "slider = widgets.IntSlider(min=0, max=19, step=1, continue_update = True)\n",
    "slider.observe(slider_func, names = 'value')\n",
    "\n",
    "\n",
    "play = widgets.Play(\n",
    "    value=0,\n",
    "    min=0,\n",
    "    max=20,\n",
    "    step=1,\n",
    "    description=\"Press play\",\n",
    "    disabled=False\n",
    ")\n",
    "\n",
    "widgets.jslink((play, 'value'), (slider, 'value'))\n",
    "animationPlay = widgets.HBox([play, slider])\n",
    "display(animationPlay, screen)\n"
   ]
  },
  {
   "cell_type": "markdown",
   "metadata": {},
   "source": [
    "<img src = 'image/icon.png' align = 'left'> <b> 플레이 위젯을 사용하여 `zumi.play_note()` 명령어의 note_type 매개변수를 0~60까지 재생하도록 코딩해 보세요."
   ]
  },
  {
   "cell_type": "code",
   "execution_count": null,
   "metadata": {},
   "outputs": [],
   "source": [
    "#여기에 코딩해 보세요."
   ]
  },
  {
   "cell_type": "markdown",
   "metadata": {},
   "source": [
    "## Step 5: 행맨 게임\n",
    "알파벳을 클릭해서 빈 칸에 알맞은 영어 단어를 완성시키는 게임입니다. 주어진 기회는 단 7번입니다. 주어진 기회 안에 영어 단어를 맞춰보세요.\n",
    "<br>\n",
    "<img src = 'image/ch19/hangman.png'>"
   ]
  },
  {
   "cell_type": "markdown",
   "metadata": {},
   "source": [
    "#### 라이브러리 가져오기\n",
    "행맨 게임을 하기 위해 필요한 라이브러리를 가져오는 것입니다. <b>만약 이 셀을 실행하지 않으면, 이후의 프로그램은 작동하지 않습니다."
   ]
  },
  {
   "cell_type": "code",
   "execution_count": 1,
   "metadata": {},
   "outputs": [],
   "source": [
    "from module.Hangman import play_game"
   ]
  },
  {
   "cell_type": "markdown",
   "metadata": {},
   "source": [
    "#### 게임 시작하기"
   ]
  },
  {
   "cell_type": "code",
   "execution_count": null,
   "metadata": {},
   "outputs": [],
   "source": [
    "play_game()"
   ]
  },
  {
   "cell_type": "markdown",
   "metadata": {},
   "source": [
    "만약 영어 단어를 추가하거나 삭제하려면 `words.txt` 파일을 열어 수정하세요.\n",
    "<img src = 'image/ch19/text.png' width = 500>"
   ]
  }
 ],
 "metadata": {
  "kernelspec": {
   "display_name": "Python 3",
   "language": "python",
   "name": "python3"
  },
  "language_info": {
   "codemirror_mode": {
    "name": "ipython",
    "version": 3
   },
   "file_extension": ".py",
   "mimetype": "text/x-python",
   "name": "python",
   "nbconvert_exporter": "python",
   "pygments_lexer": "ipython3",
   "version": "3.6.5"
  }
 },
 "nbformat": 4,
 "nbformat_minor": 2
}
