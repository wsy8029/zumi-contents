{
 "cells": [
  {
   "cell_type": "markdown",
   "metadata": {},
   "source": [
    "<img src=\"image/Title.png\" width = 1000>"
   ]
  },
  {
   "cell_type": "markdown",
   "metadata": {},
   "source": [
    "# Zumi 조종 어플리케이션 업그레이드\n",
    "지금까지 알아보았던 다양한 위젯을 결합하여, Zumi의 모터와 카메라, 스크린, 버저를 총망라하여 컨트롤 할 수 있는 어플리케이션을 만들어 보겠습니다. 또 새로운 위젯인 체크박스 위젯과 텍스트 위젯, 토글 버튼즈 위젯, 아코디언 위젯도 알아보도록 하겠습니다."
   ]
  },
  {
   "cell_type": "markdown",
   "metadata": {},
   "source": [
    "## Step 1: 라이브러리 가져오기\n",
    "Zumi 조종 어플리케이션 업그레이드를 만드는데 필요한 라이브러리를 가져오는 것입니다. <b>만약 이 셀을 실행하지 않으면, 이후의 프로그램은 작동하지 않습니다."
   ]
  },
  {
   "cell_type": "code",
   "execution_count": null,
   "metadata": {
    "scrolled": true
   },
   "outputs": [],
   "source": [
    "from zumi.zumi import Zumi\n",
    "from zumi.util.screen import Screen\n",
    "import ipywidgets as widgets\n",
    "\n",
    "zumi = Zumi()\n",
    "screen = Screen()"
   ]
  },
  {
   "cell_type": "markdown",
   "metadata": {},
   "source": [
    "## Step 2: 체크박스 위젯 만들기\n",
    "사각형 부분을 클릭하면 V가 체크되어 그 항목이 선택되는 위젯을 체크박스 위젯이라고 합니다. 기본적으로 클릭할 때마다 선택과 해제 동작이 반복되는 토글 조작의 형태를 취하고 있습니다."
   ]
  },
  {
   "cell_type": "markdown",
   "metadata": {},
   "source": [
    "#### 체크박스 위젯 만들기"
   ]
  },
  {
   "cell_type": "code",
   "execution_count": null,
   "metadata": {
    "scrolled": true
   },
   "outputs": [],
   "source": [
    "import ipywidgets as widgets\n",
    "\n",
    "widgets.Checkbox(\n",
    "    value=False,\n",
    "    description='Check me',\n",
    "    disabled=False\n",
    ")"
   ]
  },
  {
   "cell_type": "markdown",
   "metadata": {},
   "source": [
    "#### 체크박스 위젯을 사용하여 Zumi의 헤드라이트 켜고 끄기"
   ]
  },
  {
   "cell_type": "code",
   "execution_count": null,
   "metadata": {
    "scrolled": true
   },
   "outputs": [],
   "source": [
    "wCheckbox = widgets.Checkbox(\n",
    "    value=False,\n",
    "    description='headlights',\n",
    "    disabled=False\n",
    ")\n",
    "\n",
    "def checkbox_change(change):    \n",
    "        \n",
    "    if(change['new'] ==True):\n",
    "        zumi.headlights_on()\n",
    "    else:\n",
    "        zumi.headlights_off()\n",
    "         \n",
    "    \n",
    "wCheckbox.observe(checkbox_change, names='value')\n",
    "\n",
    "wCheckbox"
   ]
  },
  {
   "cell_type": "markdown",
   "metadata": {},
   "source": [
    "<img src = 'image/icon.png' align = 'left'> <b> 체크박스 위젯을 이용하여 Zumi의 라이트를 제어해 보세요. Zumi의 `brake_lights`를 이용할 수 있도록 코드를 완성해 보세요!"
   ]
  },
  {
   "cell_type": "code",
   "execution_count": null,
   "metadata": {},
   "outputs": [],
   "source": [
    "wCheckbox = widgets.Checkbox(\n",
    "    value=False,\n",
    "    description='headlights',\n",
    "    disabled=False\n",
    ")\n",
    "wCheckbox2 = widgets.Checkbox(\n",
    "    value=False,\n",
    "    description='brakelights',\n",
    "    disabled=False\n",
    ")\n",
    "\n",
    "def checkbox_change(change):    \n",
    "    print(change['new'])\n",
    "    \n",
    "    if(change['new'] ==True):\n",
    "        zumi.headlights_on()\n",
    "    else:\n",
    "        zumi.headlights_off()\n",
    "        \n",
    "def checkbox_change2(change):    \n",
    "    #여기에 코딩해 보세요.\n",
    "        \n",
    "\n",
    "wCheckbox.observe(checkbox_change, names='value')\n",
    "wCheckbox2.observe(checkbox_change2, names='value')\n",
    "\n",
    "widgets.VBox([wCheckbox, wCheckbox2])"
   ]
  },
  {
   "cell_type": "markdown",
   "metadata": {},
   "source": [
    "## Step 3: 텍스트 위젯 만들기\n",
    "텍스트 위젯은 문자열 값을 표시하는 데 사용하며, 입력을 받을 수도 있습니다."
   ]
  },
  {
   "cell_type": "markdown",
   "metadata": {},
   "source": [
    "#### 텍스트 위젯 만들기"
   ]
  },
  {
   "cell_type": "code",
   "execution_count": null,
   "metadata": {
    "scrolled": false
   },
   "outputs": [],
   "source": [
    "widgets.Text(\n",
    "    value='Hello World',\n",
    "    placeholder='Type something',\n",
    "    description='String:',\n",
    "    disabled=False\n",
    ")"
   ]
  },
  {
   "cell_type": "markdown",
   "metadata": {},
   "source": [
    "#### 텍스트 위젯으로 Zumi 스크린에 문자 출력하기"
   ]
  },
  {
   "cell_type": "code",
   "execution_count": null,
   "metadata": {
    "scrolled": false
   },
   "outputs": [],
   "source": [
    "wText = widgets.Text(\n",
    "    value='',\n",
    "    placeholder='Type something',\n",
    "    description='Input Text:',\n",
    "    disabled=False\n",
    ")\n",
    "\n",
    "def text_change(change):    \n",
    "    screen.draw_text_center(change['new'])\n",
    "            \n",
    "wText.observe(text_change, names='value')\n",
    "wText"
   ]
  },
  {
   "cell_type": "markdown",
   "metadata": {},
   "source": [
    "## Step 4: 토글 버튼즈 위젯 만들기\n",
    "토글 버튼즈 위젯은 두 개의 값을 전환하여 사용할 수 있는 토글 버튼을 묶음으로 나타낼 수 있습니다. "
   ]
  },
  {
   "cell_type": "markdown",
   "metadata": {},
   "source": [
    "#### 토글 버튼즈 위젯 만들기"
   ]
  },
  {
   "cell_type": "code",
   "execution_count": null,
   "metadata": {},
   "outputs": [],
   "source": [
    "widgets.ToggleButtons(\n",
    "    options=['Low', 'Normal', 'High'],\n",
    "    description='Speed:',\n",
    "    disabled=False,\n",
    "    button_style='', # 'success', 'info', 'warning', 'danger' or ''\n",
    ")"
   ]
  },
  {
   "cell_type": "markdown",
   "metadata": {},
   "source": [
    "#### 토글 버튼즈 위젯으로 선택된 값을 텍스트 위젯에 표시하기"
   ]
  },
  {
   "cell_type": "code",
   "execution_count": null,
   "metadata": {},
   "outputs": [],
   "source": [
    "screen.clear_display()\n",
    "\n",
    "wToggleButtons = widgets.ToggleButtons(\n",
    "    options=['Low', 'Normal', 'High'],\n",
    "    description='Speed:',\n",
    "    disabled=False,\n",
    "    button_style='', # 'success', 'info', 'warning', 'danger' or ''\n",
    ")\n",
    "\n",
    "def on_Toggle_change(change):\n",
    "    value = change['new']\n",
    "\n",
    "    if value == 'Low':\n",
    "        wText.value = 'Move at low speed'\n",
    "        zumi.forward(speed=20, duration=0.5)    \n",
    "    elif value == 'Normal':\n",
    "        wText.value = 'Move at normal speed'\n",
    "        zumi.forward(speed=40, duration=0.5)    \n",
    "    elif value == 'High':\n",
    "        wText.value = 'Move at high speed'\n",
    "        zumi.forward(speed=60, duration=0.5)    \n",
    "\n",
    "wToggleButtons.observe(on_Toggle_change, names='value')   \n",
    "widgets.VBox([wToggleButtons, wText])"
   ]
  },
  {
   "cell_type": "markdown",
   "metadata": {},
   "source": [
    "<img src = 'image/icon.png' align = 'left'> <b> 토글 버튼즈 위젯과 텍스트 위젯을 이용하여, 원하는 내용이 표시되도록 코딩해 보세요."
   ]
  },
  {
   "cell_type": "code",
   "execution_count": null,
   "metadata": {},
   "outputs": [],
   "source": [
    "#여기에 코딩해 보세요."
   ]
  },
  {
   "cell_type": "markdown",
   "metadata": {},
   "source": [
    "## Step 5: 기본주행 어플리케이션\n",
    "Zumi의 이미지를 띄워놓고, Zumi가 기본주행을 할 수 있도록 토글 버튼즈 위젯과 슬라이더바 위젯, 텍스트 위젯 등을 이용하여 만든 어플리케이션입니다. 아래의 셀을 실행하여 Zumi를 조종해 보세요!"
   ]
  },
  {
   "cell_type": "markdown",
   "metadata": {},
   "source": [
    "#### 라이브러리 가져오기\n",
    "기본주행, 모양 그리기, 업그레이드한 조종 어플리케이션을 실행시키기 위해 필요한 라이브러리를 가져옵니다. <b>만약 이 셀을 실행하지 않으면, 이후의 프로그램은 작동하지 않습니다."
   ]
  },
  {
   "cell_type": "code",
   "execution_count": null,
   "metadata": {},
   "outputs": [],
   "source": [
    "from module.ControlApp import basic_drive_app, draw_shape_app, control_app"
   ]
  },
  {
   "cell_type": "markdown",
   "metadata": {},
   "source": [
    "#### 기본주행 어플리케이션 실행시키기"
   ]
  },
  {
   "cell_type": "code",
   "execution_count": null,
   "metadata": {},
   "outputs": [],
   "source": [
    "basic_drive_app()"
   ]
  },
  {
   "cell_type": "markdown",
   "metadata": {},
   "source": [
    "## Step 6: 모양 그리기 어플리케이션\n",
    "기본주행 어플리케이션의 항목들을 변경하여, Zumi 모양 그리기 어플리케이션을 만들 수도 있습니다. 아래의 셀을 실행하여 Zumi를 조종해 보세요!"
   ]
  },
  {
   "cell_type": "code",
   "execution_count": null,
   "metadata": {},
   "outputs": [],
   "source": [
    "draw_shape_app()"
   ]
  },
  {
   "cell_type": "markdown",
   "metadata": {},
   "source": [
    "## Step 7: 아코디언 위젯 만들기\n",
    "아코디언을 알고 있나요? 아코디언은 접었다가 펼칠 수 있는 바람통으로 공기 압력을 조절하여 소리를 내는 악기입니다. 아코디언 위젯은 이런 악기 아코디언의 바람통 형태처럼 하위의 위젯을 감추고 보여주는 방식으로 나타낼 수 있습니다."
   ]
  },
  {
   "cell_type": "markdown",
   "metadata": {},
   "source": [
    "#### 아코디언 위젯 만들기"
   ]
  },
  {
   "cell_type": "code",
   "execution_count": null,
   "metadata": {},
   "outputs": [],
   "source": [
    "wAccordion = widgets.Accordion(children=[widgets.IntSlider(), widgets.Text()])\n",
    "wAccordion.set_title(0, 'Slider')\n",
    "wAccordion.set_title(1, 'Text')\n",
    "wAccordion"
   ]
  },
  {
   "cell_type": "markdown",
   "metadata": {},
   "source": [
    "#### 토글 버튼즈 위젯과 텍스트 위젯을 아코디언으로 만들기"
   ]
  },
  {
   "cell_type": "code",
   "execution_count": null,
   "metadata": {},
   "outputs": [],
   "source": [
    "wAccordion = widgets.Accordion(children=[wToggleButtons, wText])\n",
    "wAccordion.set_title(0, 'ToggleButtons')\n",
    "wAccordion.set_title(1, 'Text')\n",
    "wAccordion"
   ]
  },
  {
   "cell_type": "markdown",
   "metadata": {},
   "source": [
    "<img src = 'image/icon.png' align = 'left'> <b> 여러분이 원하는 위젯을 아코디언 위젯으로 만들어 보세요."
   ]
  },
  {
   "cell_type": "code",
   "execution_count": null,
   "metadata": {},
   "outputs": [],
   "source": [
    "#여기에 코딩해 보세요."
   ]
  },
  {
   "cell_type": "markdown",
   "metadata": {},
   "source": [
    "## Step 8: 조종 어플리케이션 업그레이드 \n",
    "Zumi의 모터와 카메라, 스크린, 버저를 모두 컨트롤 할 수 있는 `조종 어플리케이션 업그레이드 버전`입니다. 아코디언 위젯을 이용하여 하나의 항목을 설정할 때, 다른 항목이 보이지 않도록 정리가 됩니다. 아래의 셀을 실행하여 Zumi를 동작시켜 보세요!"
   ]
  },
  {
   "cell_type": "code",
   "execution_count": null,
   "metadata": {},
   "outputs": [],
   "source": [
    "control_app()"
   ]
  }
 ],
 "metadata": {
  "kernelspec": {
   "display_name": "Python 3",
   "language": "python",
   "name": "python3"
  },
  "language_info": {
   "codemirror_mode": {
    "name": "ipython",
    "version": 3
   },
   "file_extension": ".py",
   "mimetype": "text/x-python",
   "name": "python",
   "nbconvert_exporter": "python",
   "pygments_lexer": "ipython3",
   "version": "3.6.5"
  }
 },
 "nbformat": 4,
 "nbformat_minor": 2
}
